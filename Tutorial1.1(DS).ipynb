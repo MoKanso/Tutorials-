{
 "cells": [
  {
   "cell_type": "code",
   "execution_count": 78,
   "metadata": {},
   "outputs": [
    {
     "data": {
      "text/html": [
       "<div>\n",
       "<style scoped>\n",
       "    .dataframe tbody tr th:only-of-type {\n",
       "        vertical-align: middle;\n",
       "    }\n",
       "\n",
       "    .dataframe tbody tr th {\n",
       "        vertical-align: top;\n",
       "    }\n",
       "\n",
       "    .dataframe thead th {\n",
       "        text-align: right;\n",
       "    }\n",
       "</style>\n",
       "<table border=\"1\" class=\"dataframe\">\n",
       "  <thead>\n",
       "    <tr style=\"text-align: right;\">\n",
       "      <th></th>\n",
       "      <th>country</th>\n",
       "      <th>iso2</th>\n",
       "      <th>iso3</th>\n",
       "      <th>iso_numeric</th>\n",
       "      <th>g_whoregion</th>\n",
       "      <th>year</th>\n",
       "      <th>e_pop_num</th>\n",
       "      <th>e_prev_100k</th>\n",
       "      <th>e_prev_100k_lo</th>\n",
       "      <th>e_prev_100k_hi</th>\n",
       "      <th>...</th>\n",
       "      <th>e_inc_tbhiv_100k</th>\n",
       "      <th>e_inc_tbhiv_100k_lo</th>\n",
       "      <th>e_inc_tbhiv_100k_hi</th>\n",
       "      <th>e_inc_tbhiv_num</th>\n",
       "      <th>e_inc_tbhiv_num_lo</th>\n",
       "      <th>e_inc_tbhiv_num_hi</th>\n",
       "      <th>source_tbhiv</th>\n",
       "      <th>c_cdr</th>\n",
       "      <th>c_cdr_lo</th>\n",
       "      <th>c_cdr_hi</th>\n",
       "    </tr>\n",
       "  </thead>\n",
       "  <tbody>\n",
       "    <tr>\n",
       "      <th>0</th>\n",
       "      <td>Afghanistan</td>\n",
       "      <td>AF</td>\n",
       "      <td>AFG</td>\n",
       "      <td>4</td>\n",
       "      <td>EMR</td>\n",
       "      <td>1990</td>\n",
       "      <td>11731193</td>\n",
       "      <td>327.0</td>\n",
       "      <td>112.0</td>\n",
       "      <td>655.0</td>\n",
       "      <td>...</td>\n",
       "      <td>0.35</td>\n",
       "      <td>0.22</td>\n",
       "      <td>0.52</td>\n",
       "      <td>41.0</td>\n",
       "      <td>25.0</td>\n",
       "      <td>60.0</td>\n",
       "      <td>Model</td>\n",
       "      <td>20.0</td>\n",
       "      <td>13.0</td>\n",
       "      <td>32.0</td>\n",
       "    </tr>\n",
       "    <tr>\n",
       "      <th>1</th>\n",
       "      <td>Afghanistan</td>\n",
       "      <td>AF</td>\n",
       "      <td>AFG</td>\n",
       "      <td>4</td>\n",
       "      <td>EMR</td>\n",
       "      <td>1991</td>\n",
       "      <td>12612043</td>\n",
       "      <td>359.0</td>\n",
       "      <td>172.0</td>\n",
       "      <td>613.0</td>\n",
       "      <td>...</td>\n",
       "      <td>0.36</td>\n",
       "      <td>0.19</td>\n",
       "      <td>0.58</td>\n",
       "      <td>45.0</td>\n",
       "      <td>24.0</td>\n",
       "      <td>73.0</td>\n",
       "      <td>Model</td>\n",
       "      <td>97.0</td>\n",
       "      <td>77.0</td>\n",
       "      <td>120.0</td>\n",
       "    </tr>\n",
       "    <tr>\n",
       "      <th>2</th>\n",
       "      <td>Afghanistan</td>\n",
       "      <td>AF</td>\n",
       "      <td>AFG</td>\n",
       "      <td>4</td>\n",
       "      <td>EMR</td>\n",
       "      <td>1992</td>\n",
       "      <td>13811876</td>\n",
       "      <td>387.0</td>\n",
       "      <td>169.0</td>\n",
       "      <td>693.0</td>\n",
       "      <td>...</td>\n",
       "      <td>0.37</td>\n",
       "      <td>0.19</td>\n",
       "      <td>0.62</td>\n",
       "      <td>51.0</td>\n",
       "      <td>26.0</td>\n",
       "      <td>86.0</td>\n",
       "      <td>Model</td>\n",
       "      <td>NaN</td>\n",
       "      <td>NaN</td>\n",
       "      <td>NaN</td>\n",
       "    </tr>\n",
       "    <tr>\n",
       "      <th>3</th>\n",
       "      <td>Afghanistan</td>\n",
       "      <td>AF</td>\n",
       "      <td>AFG</td>\n",
       "      <td>4</td>\n",
       "      <td>EMR</td>\n",
       "      <td>1993</td>\n",
       "      <td>15175325</td>\n",
       "      <td>412.0</td>\n",
       "      <td>186.0</td>\n",
       "      <td>724.0</td>\n",
       "      <td>...</td>\n",
       "      <td>0.38</td>\n",
       "      <td>0.20</td>\n",
       "      <td>0.63</td>\n",
       "      <td>58.0</td>\n",
       "      <td>30.0</td>\n",
       "      <td>95.0</td>\n",
       "      <td>Model</td>\n",
       "      <td>NaN</td>\n",
       "      <td>NaN</td>\n",
       "      <td>NaN</td>\n",
       "    </tr>\n",
       "    <tr>\n",
       "      <th>4</th>\n",
       "      <td>Afghanistan</td>\n",
       "      <td>AF</td>\n",
       "      <td>AFG</td>\n",
       "      <td>4</td>\n",
       "      <td>EMR</td>\n",
       "      <td>1994</td>\n",
       "      <td>16485018</td>\n",
       "      <td>431.0</td>\n",
       "      <td>199.0</td>\n",
       "      <td>751.0</td>\n",
       "      <td>...</td>\n",
       "      <td>0.40</td>\n",
       "      <td>0.21</td>\n",
       "      <td>0.64</td>\n",
       "      <td>65.0</td>\n",
       "      <td>35.0</td>\n",
       "      <td>100.0</td>\n",
       "      <td>Model</td>\n",
       "      <td>NaN</td>\n",
       "      <td>NaN</td>\n",
       "      <td>NaN</td>\n",
       "    </tr>\n",
       "    <tr>\n",
       "      <th>...</th>\n",
       "      <td>...</td>\n",
       "      <td>...</td>\n",
       "      <td>...</td>\n",
       "      <td>...</td>\n",
       "      <td>...</td>\n",
       "      <td>...</td>\n",
       "      <td>...</td>\n",
       "      <td>...</td>\n",
       "      <td>...</td>\n",
       "      <td>...</td>\n",
       "      <td>...</td>\n",
       "      <td>...</td>\n",
       "      <td>...</td>\n",
       "      <td>...</td>\n",
       "      <td>...</td>\n",
       "      <td>...</td>\n",
       "      <td>...</td>\n",
       "      <td>...</td>\n",
       "      <td>...</td>\n",
       "      <td>...</td>\n",
       "      <td>...</td>\n",
       "    </tr>\n",
       "    <tr>\n",
       "      <th>4898</th>\n",
       "      <td>Zimbabwe</td>\n",
       "      <td>ZW</td>\n",
       "      <td>ZWE</td>\n",
       "      <td>716</td>\n",
       "      <td>AFR</td>\n",
       "      <td>2008</td>\n",
       "      <td>12784041</td>\n",
       "      <td>445.0</td>\n",
       "      <td>56.0</td>\n",
       "      <td>1228.0</td>\n",
       "      <td>...</td>\n",
       "      <td>574.00</td>\n",
       "      <td>447.00</td>\n",
       "      <td>716.00</td>\n",
       "      <td>73000.0</td>\n",
       "      <td>57000.0</td>\n",
       "      <td>92000.0</td>\n",
       "      <td>Surveillance</td>\n",
       "      <td>40.0</td>\n",
       "      <td>32.0</td>\n",
       "      <td>51.0</td>\n",
       "    </tr>\n",
       "    <tr>\n",
       "      <th>4899</th>\n",
       "      <td>Zimbabwe</td>\n",
       "      <td>ZW</td>\n",
       "      <td>ZWE</td>\n",
       "      <td>716</td>\n",
       "      <td>AFR</td>\n",
       "      <td>2009</td>\n",
       "      <td>12888918</td>\n",
       "      <td>423.0</td>\n",
       "      <td>49.0</td>\n",
       "      <td>1192.0</td>\n",
       "      <td>...</td>\n",
       "      <td>531.00</td>\n",
       "      <td>408.00</td>\n",
       "      <td>670.00</td>\n",
       "      <td>68000.0</td>\n",
       "      <td>53000.0</td>\n",
       "      <td>86000.0</td>\n",
       "      <td>Surveillance</td>\n",
       "      <td>50.0</td>\n",
       "      <td>40.0</td>\n",
       "      <td>65.0</td>\n",
       "    </tr>\n",
       "    <tr>\n",
       "      <th>4900</th>\n",
       "      <td>Zimbabwe</td>\n",
       "      <td>ZW</td>\n",
       "      <td>ZWE</td>\n",
       "      <td>716</td>\n",
       "      <td>AFR</td>\n",
       "      <td>2010</td>\n",
       "      <td>13076978</td>\n",
       "      <td>438.0</td>\n",
       "      <td>70.0</td>\n",
       "      <td>1136.0</td>\n",
       "      <td>...</td>\n",
       "      <td>480.00</td>\n",
       "      <td>371.00</td>\n",
       "      <td>603.00</td>\n",
       "      <td>63000.0</td>\n",
       "      <td>48000.0</td>\n",
       "      <td>79000.0</td>\n",
       "      <td>Surveillance</td>\n",
       "      <td>53.0</td>\n",
       "      <td>43.0</td>\n",
       "      <td>69.0</td>\n",
       "    </tr>\n",
       "    <tr>\n",
       "      <th>4901</th>\n",
       "      <td>Zimbabwe</td>\n",
       "      <td>ZW</td>\n",
       "      <td>ZWE</td>\n",
       "      <td>716</td>\n",
       "      <td>AFR</td>\n",
       "      <td>2011</td>\n",
       "      <td>13358738</td>\n",
       "      <td>458.0</td>\n",
       "      <td>93.0</td>\n",
       "      <td>1107.0</td>\n",
       "      <td>...</td>\n",
       "      <td>433.00</td>\n",
       "      <td>335.00</td>\n",
       "      <td>543.00</td>\n",
       "      <td>58000.0</td>\n",
       "      <td>45000.0</td>\n",
       "      <td>73000.0</td>\n",
       "      <td>Surveillance</td>\n",
       "      <td>48.0</td>\n",
       "      <td>38.0</td>\n",
       "      <td>62.0</td>\n",
       "    </tr>\n",
       "    <tr>\n",
       "      <th>4902</th>\n",
       "      <td>Zimbabwe</td>\n",
       "      <td>ZW</td>\n",
       "      <td>ZWE</td>\n",
       "      <td>716</td>\n",
       "      <td>AFR</td>\n",
       "      <td>2012</td>\n",
       "      <td>13724317</td>\n",
       "      <td>433.0</td>\n",
       "      <td>92.0</td>\n",
       "      <td>1034.0</td>\n",
       "      <td>...</td>\n",
       "      <td>399.00</td>\n",
       "      <td>308.00</td>\n",
       "      <td>501.00</td>\n",
       "      <td>55000.0</td>\n",
       "      <td>42000.0</td>\n",
       "      <td>69000.0</td>\n",
       "      <td>Surveillance</td>\n",
       "      <td>46.0</td>\n",
       "      <td>37.0</td>\n",
       "      <td>60.0</td>\n",
       "    </tr>\n",
       "  </tbody>\n",
       "</table>\n",
       "<p>4903 rows × 39 columns</p>\n",
       "</div>"
      ],
      "text/plain": [
       "          country iso2 iso3  iso_numeric g_whoregion  year  e_pop_num  \\\n",
       "0     Afghanistan   AF  AFG            4         EMR  1990   11731193   \n",
       "1     Afghanistan   AF  AFG            4         EMR  1991   12612043   \n",
       "2     Afghanistan   AF  AFG            4         EMR  1992   13811876   \n",
       "3     Afghanistan   AF  AFG            4         EMR  1993   15175325   \n",
       "4     Afghanistan   AF  AFG            4         EMR  1994   16485018   \n",
       "...           ...  ...  ...          ...         ...   ...        ...   \n",
       "4898     Zimbabwe   ZW  ZWE          716         AFR  2008   12784041   \n",
       "4899     Zimbabwe   ZW  ZWE          716         AFR  2009   12888918   \n",
       "4900     Zimbabwe   ZW  ZWE          716         AFR  2010   13076978   \n",
       "4901     Zimbabwe   ZW  ZWE          716         AFR  2011   13358738   \n",
       "4902     Zimbabwe   ZW  ZWE          716         AFR  2012   13724317   \n",
       "\n",
       "      e_prev_100k  e_prev_100k_lo  e_prev_100k_hi  ...  e_inc_tbhiv_100k  \\\n",
       "0           327.0           112.0           655.0  ...              0.35   \n",
       "1           359.0           172.0           613.0  ...              0.36   \n",
       "2           387.0           169.0           693.0  ...              0.37   \n",
       "3           412.0           186.0           724.0  ...              0.38   \n",
       "4           431.0           199.0           751.0  ...              0.40   \n",
       "...           ...             ...             ...  ...               ...   \n",
       "4898        445.0            56.0          1228.0  ...            574.00   \n",
       "4899        423.0            49.0          1192.0  ...            531.00   \n",
       "4900        438.0            70.0          1136.0  ...            480.00   \n",
       "4901        458.0            93.0          1107.0  ...            433.00   \n",
       "4902        433.0            92.0          1034.0  ...            399.00   \n",
       "\n",
       "      e_inc_tbhiv_100k_lo  e_inc_tbhiv_100k_hi  e_inc_tbhiv_num  \\\n",
       "0                    0.22                 0.52             41.0   \n",
       "1                    0.19                 0.58             45.0   \n",
       "2                    0.19                 0.62             51.0   \n",
       "3                    0.20                 0.63             58.0   \n",
       "4                    0.21                 0.64             65.0   \n",
       "...                   ...                  ...              ...   \n",
       "4898               447.00               716.00          73000.0   \n",
       "4899               408.00               670.00          68000.0   \n",
       "4900               371.00               603.00          63000.0   \n",
       "4901               335.00               543.00          58000.0   \n",
       "4902               308.00               501.00          55000.0   \n",
       "\n",
       "      e_inc_tbhiv_num_lo  e_inc_tbhiv_num_hi  source_tbhiv  c_cdr  c_cdr_lo  \\\n",
       "0                   25.0                60.0         Model   20.0      13.0   \n",
       "1                   24.0                73.0         Model   97.0      77.0   \n",
       "2                   26.0                86.0         Model    NaN       NaN   \n",
       "3                   30.0                95.0         Model    NaN       NaN   \n",
       "4                   35.0               100.0         Model    NaN       NaN   \n",
       "...                  ...                 ...           ...    ...       ...   \n",
       "4898             57000.0             92000.0  Surveillance   40.0      32.0   \n",
       "4899             53000.0             86000.0  Surveillance   50.0      40.0   \n",
       "4900             48000.0             79000.0  Surveillance   53.0      43.0   \n",
       "4901             45000.0             73000.0  Surveillance   48.0      38.0   \n",
       "4902             42000.0             69000.0  Surveillance   46.0      37.0   \n",
       "\n",
       "     c_cdr_hi  \n",
       "0        32.0  \n",
       "1       120.0  \n",
       "2         NaN  \n",
       "3         NaN  \n",
       "4         NaN  \n",
       "...       ...  \n",
       "4898     51.0  \n",
       "4899     65.0  \n",
       "4900     69.0  \n",
       "4901     62.0  \n",
       "4902     60.0  \n",
       "\n",
       "[4903 rows x 39 columns]"
      ]
     },
     "metadata": {},
     "output_type": "display_data"
    }
   ],
   "source": [
    "import pandas as pd #importing pandas \n",
    "import csv     # imports the csv module\n",
    "import sys      # imports the sys module\n",
    "\n",
    "df = open('/Users/kanso/OneDrive/Desktop/Kanso/University/Year 3/Principles of Data Science/Tutorial 1/TB_burden_countries_2014-09-29.csv') # opens the csv file\n",
    "df = pd.read_csv('/Users/kanso/OneDrive/Desktop/Kanso/University/Year 3/Principles of Data Science/Tutorial 1/TB_burden_countries_2014-09-29.csv')\n",
    "display(df)"
   ]
  },
  {
   "cell_type": "code",
   "execution_count": 79,
   "metadata": {},
   "outputs": [
    {
     "name": "stdout",
     "output_type": "stream",
     "text": [
      "Number of lines present:- 39\n"
     ]
    }
   ],
   "source": [
    "row_number = 0\n",
    "for row in csv.reader(df):       #Part 1 \n",
    "    row_number = row_number + 1\n",
    "    \n",
    "print(\"Number of lines present:-\", row_number)\n"
   ]
  },
  {
   "cell_type": "code",
   "execution_count": 80,
   "metadata": {},
   "outputs": [
    {
     "name": "stdout",
     "output_type": "stream",
     "text": [
      "0       13000.0\n",
      "1       22000.0\n",
      "2       23000.0\n",
      "3       28000.0\n",
      "4       33000.0\n",
      "         ...   \n",
      "4898     7100.0\n",
      "4899     6300.0\n",
      "4900     9100.0\n",
      "4901    12000.0\n",
      "4902    13000.0\n",
      "Name: e_prev_num_lo, Length: 4903, dtype: float64\n"
     ]
    }
   ],
   "source": [
    "value = df[\"e_prev_num_lo\"]         #Part 2\n",
    "print(value)"
   ]
  },
  {
   "cell_type": "code",
   "execution_count": 81,
   "metadata": {},
   "outputs": [
    {
     "name": "stdout",
     "output_type": "stream",
     "text": [
      "Mean of e_prev_100k as a float: \n",
      "207.69442150449711\n"
     ]
    }
   ],
   "source": [
    "print(\"Mean of e_prev_100k as a float: \")\n",
    "print(float(df[\"e_prev_100k\"].mean()))\n",
    "#Must use a loop cannot use .mean"
   ]
  },
  {
   "cell_type": "code",
   "execution_count": 82,
   "metadata": {},
   "outputs": [
    {
     "name": "stdout",
     "output_type": "stream",
     "text": [
      "Mean of e_prev_100k as an integer : \n",
      "207\n"
     ]
    }
   ],
   "source": [
    "print(\"Mean of e_prev_100k as an integer : \")  \n",
    "print(int(df[\"e_prev_100k\"].mean()))\n",
    "#Must use a loop cannot use .mean"
   ]
  },
  {
   "cell_type": "code",
   "execution_count": 83,
   "metadata": {},
   "outputs": [
    {
     "data": {
      "text/plain": [
       "year\n",
       "1990    230.985118\n",
       "1991    231.784360\n",
       "1992    230.626415\n",
       "1993    231.065094\n",
       "1994    234.933962\n",
       "1995    232.219340\n",
       "1996    234.531604\n",
       "1997    234.525943\n",
       "1998    231.705189\n",
       "1999    227.821226\n",
       "2000    222.425000\n",
       "2001    216.273113\n",
       "2002    216.612207\n",
       "2003    208.049390\n",
       "2004    200.183099\n",
       "2005    193.424112\n",
       "2006    187.396355\n",
       "2007    179.921822\n",
       "2008    176.046479\n",
       "2009    170.957277\n",
       "2010    165.210748\n",
       "2011    162.917269\n",
       "2012    159.953286\n",
       "Name: e_prev_100k, dtype: float64"
      ]
     },
     "execution_count": 83,
     "metadata": {},
     "output_type": "execute_result"
    }
   ],
   "source": [
    "df.groupby('year', as_index = 1990)['e_prev_100k'].mean() #part 3"
   ]
  },
  {
   "cell_type": "code",
   "execution_count": 66,
   "metadata": {},
   "outputs": [
    {
     "name": "stdout",
     "output_type": "stream",
     "text": [
      "207.22845400775037\n"
     ]
    }
   ],
   "source": [
    "Sum_for_avg = df['e_prev_100k'].sum()\n",
    "\n",
    "Avgerage = Sum_for_avg / row_count\n",
    "\n",
    "print(Avgerage)"
   ]
  },
  {
   "cell_type": "code",
   "execution_count": 74,
   "metadata": {},
   "outputs": [
    {
     "name": "stdout",
     "output_type": "stream",
     "text": [
      "0       13000.0\n",
      "1       22000.0\n",
      "2       23000.0\n",
      "3       28000.0\n",
      "4       33000.0\n",
      "         ...   \n",
      "4898     7100.0\n",
      "4899     6300.0\n",
      "4900     9100.0\n",
      "4901    12000.0\n",
      "4902    13000.0\n",
      "Name: e_prev_num_lo, Length: 4903, dtype: float64\n"
     ]
    }
   ],
   "source": [
    "value = df[\"e_prev_num_lo\"]\n",
    "print(value)"
   ]
  },
  {
   "cell_type": "code",
   "execution_count": 10,
   "metadata": {},
   "outputs": [
    {
     "data": {
      "text/plain": [
       "array([ 0,  3,  6,  9, 12, 15, 18])"
      ]
     },
     "execution_count": 10,
     "metadata": {},
     "output_type": "execute_result"
    }
   ],
   "source": [
    "#Exercise#_2\n",
    "\n",
    "import numpy as np\n",
    "a = np.array([5, 6, 7, 8, 9, 10, 11, 12, 13, 14, 15])\n",
    "a"
   ]
  },
  {
   "cell_type": "code",
   "execution_count": 17,
   "metadata": {},
   "outputs": [
    {
     "data": {
      "text/plain": [
       "array([ 0.        ,  3.83333333,  7.66666667, 11.5       , 15.33333333,\n",
       "       19.16666667, 23.        ])"
      ]
     },
     "execution_count": 17,
     "metadata": {},
     "output_type": "execute_result"
    }
   ],
   "source": [
    "import numpy as np\n",
    "np.linspace(0,23 ,7)"
   ]
  },
  {
   "cell_type": "code",
   "execution_count": 79,
   "metadata": {},
   "outputs": [
    {
     "data": {
      "image/png": "[encoded data removed]",
      "text/plain": [
       "<Figure size 432x288 with 1 Axes>"
      ]
     },
     "metadata": {
      "needs_background": "light"
     },
     "output_type": "display_data"
    }
   ],
   "source": [
    "import matplotlib.pyplot as plt\n",
    "import random\n",
    "randomlist = []\n",
    "for i in range(0,5):\n",
    "    n = random.randint(1,30)\n",
    "    randomlist.append(n)\n",
    "\n",
    "#create histogram with 4 bins\n",
    "plt.hist(randomlist, bins=2, edgecolor='red')\n",
    "plt.title('Random data')\n",
    "plt.xlabel('X#')\n",
    "plt.ylabel('Y#')\n",
    "plt.show()"
   ]
  },
  {
   "cell_type": "code",
   "execution_count": null,
   "metadata": {},
   "outputs": [],
   "source": []
  },
  {
   "cell_type": "code",
   "execution_count": null,
   "metadata": {},
   "outputs": [],
   "source": []
  }
 ],
 "metadata": {
  "kernelspec": {
   "display_name": "Python 3",
   "language": "python",
   "name": "python3"
  },
  "language_info": {
   "codemirror_mode": {
    "name": "ipython",
    "version": 3
   },
   "file_extension": ".py",
   "mimetype": "text/x-python",
   "name": "python",
   "nbconvert_exporter": "python",
   "pygments_lexer": "ipython3",
   "version": "3.8.5"
  }
 },
 "nbformat": 4,
 "nbformat_minor": 4
}
