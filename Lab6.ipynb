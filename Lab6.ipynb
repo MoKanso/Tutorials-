{
 "cells": [
  {
   "cell_type": "code",
   "execution_count": 107,
   "metadata": {},
   "outputs": [],
   "source": [
    "import pandas as pd\n",
    "import matplotlib.pyplot as plt\n",
    "import numpy as np\n",
    "import seaborn as sns\n",
    "from sklearn import datasets, linear_model\n",
    "from sklearn.metrics import mean_squared_error, r2_score\n",
    "from sklearn.decomposition import PCA\n",
    "from sklearn.preprocessing import scale # Data scaling\n",
    "from sklearn import decomposition #PCA"
   ]
  },
  {
   "cell_type": "code",
   "execution_count": 108,
   "metadata": {},
   "outputs": [
    {
     "data": {
      "text/html": [
       "<div>\n",
       "<style scoped>\n",
       "    .dataframe tbody tr th:only-of-type {\n",
       "        vertical-align: middle;\n",
       "    }\n",
       "\n",
       "    .dataframe tbody tr th {\n",
       "        vertical-align: top;\n",
       "    }\n",
       "\n",
       "    .dataframe thead th {\n",
       "        text-align: right;\n",
       "    }\n",
       "</style>\n",
       "<table border=\"1\" class=\"dataframe\">\n",
       "  <thead>\n",
       "    <tr style=\"text-align: right;\">\n",
       "      <th></th>\n",
       "      <th>communityname</th>\n",
       "      <th>fold</th>\n",
       "      <th>population</th>\n",
       "      <th>householdsize</th>\n",
       "      <th>racepctblack</th>\n",
       "      <th>racePctWhite</th>\n",
       "      <th>racePctAsian</th>\n",
       "      <th>racePctHisp</th>\n",
       "      <th>agePct12t21</th>\n",
       "      <th>agePct12t29</th>\n",
       "      <th>...</th>\n",
       "      <th>NumStreet</th>\n",
       "      <th>PctForeignBorn</th>\n",
       "      <th>PctBornSameState</th>\n",
       "      <th>PctSameHouse85</th>\n",
       "      <th>PctSameCity85</th>\n",
       "      <th>PctSameState85</th>\n",
       "      <th>LandArea</th>\n",
       "      <th>PopDens</th>\n",
       "      <th>PctUsePubTrans</th>\n",
       "      <th>ViolentCrimesPerPop</th>\n",
       "    </tr>\n",
       "  </thead>\n",
       "  <tbody>\n",
       "    <tr>\n",
       "      <th>0</th>\n",
       "      <td>Lakewoodcity</td>\n",
       "      <td>1</td>\n",
       "      <td>0.19</td>\n",
       "      <td>0.33</td>\n",
       "      <td>0.02</td>\n",
       "      <td>0.90</td>\n",
       "      <td>0.12</td>\n",
       "      <td>0.17</td>\n",
       "      <td>0.34</td>\n",
       "      <td>0.47</td>\n",
       "      <td>...</td>\n",
       "      <td>0.00</td>\n",
       "      <td>0.12</td>\n",
       "      <td>0.42</td>\n",
       "      <td>0.50</td>\n",
       "      <td>0.51</td>\n",
       "      <td>0.64</td>\n",
       "      <td>0.12</td>\n",
       "      <td>0.26</td>\n",
       "      <td>0.20</td>\n",
       "      <td>0.20</td>\n",
       "    </tr>\n",
       "    <tr>\n",
       "      <th>1</th>\n",
       "      <td>Tukwilacity</td>\n",
       "      <td>1</td>\n",
       "      <td>0.00</td>\n",
       "      <td>0.16</td>\n",
       "      <td>0.12</td>\n",
       "      <td>0.74</td>\n",
       "      <td>0.45</td>\n",
       "      <td>0.07</td>\n",
       "      <td>0.26</td>\n",
       "      <td>0.59</td>\n",
       "      <td>...</td>\n",
       "      <td>0.00</td>\n",
       "      <td>0.21</td>\n",
       "      <td>0.50</td>\n",
       "      <td>0.34</td>\n",
       "      <td>0.60</td>\n",
       "      <td>0.52</td>\n",
       "      <td>0.02</td>\n",
       "      <td>0.12</td>\n",
       "      <td>0.45</td>\n",
       "      <td>0.67</td>\n",
       "    </tr>\n",
       "    <tr>\n",
       "      <th>2</th>\n",
       "      <td>Aberdeentown</td>\n",
       "      <td>1</td>\n",
       "      <td>0.00</td>\n",
       "      <td>0.42</td>\n",
       "      <td>0.49</td>\n",
       "      <td>0.56</td>\n",
       "      <td>0.17</td>\n",
       "      <td>0.04</td>\n",
       "      <td>0.39</td>\n",
       "      <td>0.47</td>\n",
       "      <td>...</td>\n",
       "      <td>0.00</td>\n",
       "      <td>0.14</td>\n",
       "      <td>0.49</td>\n",
       "      <td>0.54</td>\n",
       "      <td>0.67</td>\n",
       "      <td>0.56</td>\n",
       "      <td>0.01</td>\n",
       "      <td>0.21</td>\n",
       "      <td>0.02</td>\n",
       "      <td>0.43</td>\n",
       "    </tr>\n",
       "    <tr>\n",
       "      <th>3</th>\n",
       "      <td>Willingborotownship</td>\n",
       "      <td>1</td>\n",
       "      <td>0.04</td>\n",
       "      <td>0.77</td>\n",
       "      <td>1.00</td>\n",
       "      <td>0.08</td>\n",
       "      <td>0.12</td>\n",
       "      <td>0.10</td>\n",
       "      <td>0.51</td>\n",
       "      <td>0.50</td>\n",
       "      <td>...</td>\n",
       "      <td>0.00</td>\n",
       "      <td>0.19</td>\n",
       "      <td>0.30</td>\n",
       "      <td>0.73</td>\n",
       "      <td>0.64</td>\n",
       "      <td>0.65</td>\n",
       "      <td>0.02</td>\n",
       "      <td>0.39</td>\n",
       "      <td>0.28</td>\n",
       "      <td>0.12</td>\n",
       "    </tr>\n",
       "    <tr>\n",
       "      <th>4</th>\n",
       "      <td>Bethlehemtownship</td>\n",
       "      <td>1</td>\n",
       "      <td>0.01</td>\n",
       "      <td>0.55</td>\n",
       "      <td>0.02</td>\n",
       "      <td>0.95</td>\n",
       "      <td>0.09</td>\n",
       "      <td>0.05</td>\n",
       "      <td>0.38</td>\n",
       "      <td>0.38</td>\n",
       "      <td>...</td>\n",
       "      <td>0.00</td>\n",
       "      <td>0.11</td>\n",
       "      <td>0.72</td>\n",
       "      <td>0.64</td>\n",
       "      <td>0.61</td>\n",
       "      <td>0.53</td>\n",
       "      <td>0.04</td>\n",
       "      <td>0.09</td>\n",
       "      <td>0.02</td>\n",
       "      <td>0.03</td>\n",
       "    </tr>\n",
       "    <tr>\n",
       "      <th>...</th>\n",
       "      <td>...</td>\n",
       "      <td>...</td>\n",
       "      <td>...</td>\n",
       "      <td>...</td>\n",
       "      <td>...</td>\n",
       "      <td>...</td>\n",
       "      <td>...</td>\n",
       "      <td>...</td>\n",
       "      <td>...</td>\n",
       "      <td>...</td>\n",
       "      <td>...</td>\n",
       "      <td>...</td>\n",
       "      <td>...</td>\n",
       "      <td>...</td>\n",
       "      <td>...</td>\n",
       "      <td>...</td>\n",
       "      <td>...</td>\n",
       "      <td>...</td>\n",
       "      <td>...</td>\n",
       "      <td>...</td>\n",
       "      <td>...</td>\n",
       "    </tr>\n",
       "    <tr>\n",
       "      <th>1989</th>\n",
       "      <td>TempleTerracecity</td>\n",
       "      <td>10</td>\n",
       "      <td>0.01</td>\n",
       "      <td>0.40</td>\n",
       "      <td>0.10</td>\n",
       "      <td>0.87</td>\n",
       "      <td>0.12</td>\n",
       "      <td>0.16</td>\n",
       "      <td>0.43</td>\n",
       "      <td>0.51</td>\n",
       "      <td>...</td>\n",
       "      <td>0.00</td>\n",
       "      <td>0.22</td>\n",
       "      <td>0.28</td>\n",
       "      <td>0.34</td>\n",
       "      <td>0.48</td>\n",
       "      <td>0.39</td>\n",
       "      <td>0.01</td>\n",
       "      <td>0.28</td>\n",
       "      <td>0.05</td>\n",
       "      <td>0.09</td>\n",
       "    </tr>\n",
       "    <tr>\n",
       "      <th>1990</th>\n",
       "      <td>Seasidecity</td>\n",
       "      <td>10</td>\n",
       "      <td>0.05</td>\n",
       "      <td>0.96</td>\n",
       "      <td>0.46</td>\n",
       "      <td>0.28</td>\n",
       "      <td>0.83</td>\n",
       "      <td>0.32</td>\n",
       "      <td>0.69</td>\n",
       "      <td>0.86</td>\n",
       "      <td>...</td>\n",
       "      <td>0.00</td>\n",
       "      <td>0.53</td>\n",
       "      <td>0.25</td>\n",
       "      <td>0.17</td>\n",
       "      <td>0.10</td>\n",
       "      <td>0.00</td>\n",
       "      <td>0.02</td>\n",
       "      <td>0.37</td>\n",
       "      <td>0.20</td>\n",
       "      <td>0.45</td>\n",
       "    </tr>\n",
       "    <tr>\n",
       "      <th>1991</th>\n",
       "      <td>Waterburytown</td>\n",
       "      <td>10</td>\n",
       "      <td>0.16</td>\n",
       "      <td>0.37</td>\n",
       "      <td>0.25</td>\n",
       "      <td>0.69</td>\n",
       "      <td>0.04</td>\n",
       "      <td>0.25</td>\n",
       "      <td>0.35</td>\n",
       "      <td>0.50</td>\n",
       "      <td>...</td>\n",
       "      <td>0.02</td>\n",
       "      <td>0.25</td>\n",
       "      <td>0.68</td>\n",
       "      <td>0.61</td>\n",
       "      <td>0.79</td>\n",
       "      <td>0.76</td>\n",
       "      <td>0.08</td>\n",
       "      <td>0.32</td>\n",
       "      <td>0.18</td>\n",
       "      <td>0.23</td>\n",
       "    </tr>\n",
       "    <tr>\n",
       "      <th>1992</th>\n",
       "      <td>Walthamcity</td>\n",
       "      <td>10</td>\n",
       "      <td>0.08</td>\n",
       "      <td>0.51</td>\n",
       "      <td>0.06</td>\n",
       "      <td>0.87</td>\n",
       "      <td>0.22</td>\n",
       "      <td>0.10</td>\n",
       "      <td>0.58</td>\n",
       "      <td>0.74</td>\n",
       "      <td>...</td>\n",
       "      <td>0.01</td>\n",
       "      <td>0.45</td>\n",
       "      <td>0.64</td>\n",
       "      <td>0.54</td>\n",
       "      <td>0.59</td>\n",
       "      <td>0.52</td>\n",
       "      <td>0.03</td>\n",
       "      <td>0.38</td>\n",
       "      <td>0.33</td>\n",
       "      <td>0.19</td>\n",
       "    </tr>\n",
       "    <tr>\n",
       "      <th>1993</th>\n",
       "      <td>Ontariocity</td>\n",
       "      <td>10</td>\n",
       "      <td>0.20</td>\n",
       "      <td>0.78</td>\n",
       "      <td>0.14</td>\n",
       "      <td>0.46</td>\n",
       "      <td>0.24</td>\n",
       "      <td>0.77</td>\n",
       "      <td>0.50</td>\n",
       "      <td>0.62</td>\n",
       "      <td>...</td>\n",
       "      <td>0.08</td>\n",
       "      <td>0.68</td>\n",
       "      <td>0.50</td>\n",
       "      <td>0.34</td>\n",
       "      <td>0.35</td>\n",
       "      <td>0.68</td>\n",
       "      <td>0.11</td>\n",
       "      <td>0.30</td>\n",
       "      <td>0.05</td>\n",
       "      <td>0.48</td>\n",
       "    </tr>\n",
       "  </tbody>\n",
       "</table>\n",
       "<p>1994 rows × 102 columns</p>\n",
       "</div>"
      ],
      "text/plain": [
       "            communityname  fold  population  householdsize  racepctblack  \\\n",
       "0            Lakewoodcity     1        0.19           0.33          0.02   \n",
       "1             Tukwilacity     1        0.00           0.16          0.12   \n",
       "2            Aberdeentown     1        0.00           0.42          0.49   \n",
       "3     Willingborotownship     1        0.04           0.77          1.00   \n",
       "4       Bethlehemtownship     1        0.01           0.55          0.02   \n",
       "...                   ...   ...         ...            ...           ...   \n",
       "1989    TempleTerracecity    10        0.01           0.40          0.10   \n",
       "1990          Seasidecity    10        0.05           0.96          0.46   \n",
       "1991        Waterburytown    10        0.16           0.37          0.25   \n",
       "1992          Walthamcity    10        0.08           0.51          0.06   \n",
       "1993          Ontariocity    10        0.20           0.78          0.14   \n",
       "\n",
       "      racePctWhite  racePctAsian  racePctHisp  agePct12t21  agePct12t29  ...  \\\n",
       "0             0.90          0.12         0.17         0.34         0.47  ...   \n",
       "1             0.74          0.45         0.07         0.26         0.59  ...   \n",
       "2             0.56          0.17         0.04         0.39         0.47  ...   \n",
       "3             0.08          0.12         0.10         0.51         0.50  ...   \n",
       "4             0.95          0.09         0.05         0.38         0.38  ...   \n",
       "...            ...           ...          ...          ...          ...  ...   \n",
       "1989          0.87          0.12         0.16         0.43         0.51  ...   \n",
       "1990          0.28          0.83         0.32         0.69         0.86  ...   \n",
       "1991          0.69          0.04         0.25         0.35         0.50  ...   \n",
       "1992          0.87          0.22         0.10         0.58         0.74  ...   \n",
       "1993          0.46          0.24         0.77         0.50         0.62  ...   \n",
       "\n",
       "      NumStreet  PctForeignBorn  PctBornSameState  PctSameHouse85  \\\n",
       "0          0.00            0.12              0.42            0.50   \n",
       "1          0.00            0.21              0.50            0.34   \n",
       "2          0.00            0.14              0.49            0.54   \n",
       "3          0.00            0.19              0.30            0.73   \n",
       "4          0.00            0.11              0.72            0.64   \n",
       "...         ...             ...               ...             ...   \n",
       "1989       0.00            0.22              0.28            0.34   \n",
       "1990       0.00            0.53              0.25            0.17   \n",
       "1991       0.02            0.25              0.68            0.61   \n",
       "1992       0.01            0.45              0.64            0.54   \n",
       "1993       0.08            0.68              0.50            0.34   \n",
       "\n",
       "      PctSameCity85  PctSameState85  LandArea  PopDens  PctUsePubTrans  \\\n",
       "0              0.51            0.64      0.12     0.26            0.20   \n",
       "1              0.60            0.52      0.02     0.12            0.45   \n",
       "2              0.67            0.56      0.01     0.21            0.02   \n",
       "3              0.64            0.65      0.02     0.39            0.28   \n",
       "4              0.61            0.53      0.04     0.09            0.02   \n",
       "...             ...             ...       ...      ...             ...   \n",
       "1989           0.48            0.39      0.01     0.28            0.05   \n",
       "1990           0.10            0.00      0.02     0.37            0.20   \n",
       "1991           0.79            0.76      0.08     0.32            0.18   \n",
       "1992           0.59            0.52      0.03     0.38            0.33   \n",
       "1993           0.35            0.68      0.11     0.30            0.05   \n",
       "\n",
       "      ViolentCrimesPerPop  \n",
       "0                    0.20  \n",
       "1                    0.67  \n",
       "2                    0.43  \n",
       "3                    0.12  \n",
       "4                    0.03  \n",
       "...                   ...  \n",
       "1989                 0.09  \n",
       "1990                 0.45  \n",
       "1991                 0.23  \n",
       "1992                 0.19  \n",
       "1993                 0.48  \n",
       "\n",
       "[1994 rows x 102 columns]"
      ]
     },
     "execution_count": 108,
     "metadata": {},
     "output_type": "execute_result"
    }
   ],
   "source": [
    "df = pd.read_csv('/Users/kanso/OneDrive/Desktop/Kanso/University/Year 3/Principles of Data Science/Tutorial 4/censusCrimeClean.csv')\n",
    "\n",
    "df\n"
   ]
  },
  {
   "cell_type": "code",
   "execution_count": 109,
   "metadata": {},
   "outputs": [],
   "source": [
    "X = df['population'],df['householdsize'], df['racepctblack'], df['racePctWhite'], df['racePctAsian'], df['racePctHisp'], df['agePct12t21'], df['agePct12t29'], df['NumStreet'], df['PctForeignBorn'], df['PctBornSameState'], df['PctSameHouse85'], df['PctSameCity85'], df['PctSameState85'], df['LandArea'], df['PopDens'], df['PctUsePubTrans'], df['ViolentCrimesPerPop']"
   ]
  },
  {
   "cell_type": "code",
   "execution_count": 110,
   "metadata": {},
   "outputs": [
    {
     "name": "stdout",
     "output_type": "stream",
     "text": [
      "(0       0.19\n",
      "1       0.00\n",
      "2       0.00\n",
      "3       0.04\n",
      "4       0.01\n",
      "        ... \n",
      "1989    0.01\n",
      "1990    0.05\n",
      "1991    0.16\n",
      "1992    0.08\n",
      "1993    0.20\n",
      "Name: population, Length: 1994, dtype: float64, 0       0.33\n",
      "1       0.16\n",
      "2       0.42\n",
      "3       0.77\n",
      "4       0.55\n",
      "        ... \n",
      "1989    0.40\n",
      "1990    0.96\n",
      "1991    0.37\n",
      "1992    0.51\n",
      "1993    0.78\n",
      "Name: householdsize, Length: 1994, dtype: float64, 0       0.02\n",
      "1       0.12\n",
      "2       0.49\n",
      "3       1.00\n",
      "4       0.02\n",
      "        ... \n",
      "1989    0.10\n",
      "1990    0.46\n",
      "1991    0.25\n",
      "1992    0.06\n",
      "1993    0.14\n",
      "Name: racepctblack, Length: 1994, dtype: float64, 0       0.90\n",
      "1       0.74\n",
      "2       0.56\n",
      "3       0.08\n",
      "4       0.95\n",
      "        ... \n",
      "1989    0.87\n",
      "1990    0.28\n",
      "1991    0.69\n",
      "1992    0.87\n",
      "1993    0.46\n",
      "Name: racePctWhite, Length: 1994, dtype: float64, 0       0.12\n",
      "1       0.45\n",
      "2       0.17\n",
      "3       0.12\n",
      "4       0.09\n",
      "        ... \n",
      "1989    0.12\n",
      "1990    0.83\n",
      "1991    0.04\n",
      "1992    0.22\n",
      "1993    0.24\n",
      "Name: racePctAsian, Length: 1994, dtype: float64, 0       0.17\n",
      "1       0.07\n",
      "2       0.04\n",
      "3       0.10\n",
      "4       0.05\n",
      "        ... \n",
      "1989    0.16\n",
      "1990    0.32\n",
      "1991    0.25\n",
      "1992    0.10\n",
      "1993    0.77\n",
      "Name: racePctHisp, Length: 1994, dtype: float64, 0       0.34\n",
      "1       0.26\n",
      "2       0.39\n",
      "3       0.51\n",
      "4       0.38\n",
      "        ... \n",
      "1989    0.43\n",
      "1990    0.69\n",
      "1991    0.35\n",
      "1992    0.58\n",
      "1993    0.50\n",
      "Name: agePct12t21, Length: 1994, dtype: float64, 0       0.47\n",
      "1       0.59\n",
      "2       0.47\n",
      "3       0.50\n",
      "4       0.38\n",
      "        ... \n",
      "1989    0.51\n",
      "1990    0.86\n",
      "1991    0.50\n",
      "1992    0.74\n",
      "1993    0.62\n",
      "Name: agePct12t29, Length: 1994, dtype: float64, 0       0.00\n",
      "1       0.00\n",
      "2       0.00\n",
      "3       0.00\n",
      "4       0.00\n",
      "        ... \n",
      "1989    0.00\n",
      "1990    0.00\n",
      "1991    0.02\n",
      "1992    0.01\n",
      "1993    0.08\n",
      "Name: NumStreet, Length: 1994, dtype: float64, 0       0.12\n",
      "1       0.21\n",
      "2       0.14\n",
      "3       0.19\n",
      "4       0.11\n",
      "        ... \n",
      "1989    0.22\n",
      "1990    0.53\n",
      "1991    0.25\n",
      "1992    0.45\n",
      "1993    0.68\n",
      "Name: PctForeignBorn, Length: 1994, dtype: float64, 0       0.42\n",
      "1       0.50\n",
      "2       0.49\n",
      "3       0.30\n",
      "4       0.72\n",
      "        ... \n",
      "1989    0.28\n",
      "1990    0.25\n",
      "1991    0.68\n",
      "1992    0.64\n",
      "1993    0.50\n",
      "Name: PctBornSameState, Length: 1994, dtype: float64, 0       0.50\n",
      "1       0.34\n",
      "2       0.54\n",
      "3       0.73\n",
      "4       0.64\n",
      "        ... \n",
      "1989    0.34\n",
      "1990    0.17\n",
      "1991    0.61\n",
      "1992    0.54\n",
      "1993    0.34\n",
      "Name: PctSameHouse85, Length: 1994, dtype: float64, 0       0.51\n",
      "1       0.60\n",
      "2       0.67\n",
      "3       0.64\n",
      "4       0.61\n",
      "        ... \n",
      "1989    0.48\n",
      "1990    0.10\n",
      "1991    0.79\n",
      "1992    0.59\n",
      "1993    0.35\n",
      "Name: PctSameCity85, Length: 1994, dtype: float64, 0       0.64\n",
      "1       0.52\n",
      "2       0.56\n",
      "3       0.65\n",
      "4       0.53\n",
      "        ... \n",
      "1989    0.39\n",
      "1990    0.00\n",
      "1991    0.76\n",
      "1992    0.52\n",
      "1993    0.68\n",
      "Name: PctSameState85, Length: 1994, dtype: float64, 0       0.12\n",
      "1       0.02\n",
      "2       0.01\n",
      "3       0.02\n",
      "4       0.04\n",
      "        ... \n",
      "1989    0.01\n",
      "1990    0.02\n",
      "1991    0.08\n",
      "1992    0.03\n",
      "1993    0.11\n",
      "Name: LandArea, Length: 1994, dtype: float64, 0       0.26\n",
      "1       0.12\n",
      "2       0.21\n",
      "3       0.39\n",
      "4       0.09\n",
      "        ... \n",
      "1989    0.28\n",
      "1990    0.37\n",
      "1991    0.32\n",
      "1992    0.38\n",
      "1993    0.30\n",
      "Name: PopDens, Length: 1994, dtype: float64, 0       0.20\n",
      "1       0.45\n",
      "2       0.02\n",
      "3       0.28\n",
      "4       0.02\n",
      "        ... \n",
      "1989    0.05\n",
      "1990    0.20\n",
      "1991    0.18\n",
      "1992    0.33\n",
      "1993    0.05\n",
      "Name: PctUsePubTrans, Length: 1994, dtype: float64, 0       0.20\n",
      "1       0.67\n",
      "2       0.43\n",
      "3       0.12\n",
      "4       0.03\n",
      "        ... \n",
      "1989    0.09\n",
      "1990    0.45\n",
      "1991    0.23\n",
      "1992    0.19\n",
      "1993    0.48\n",
      "Name: ViolentCrimesPerPop, Length: 1994, dtype: float64)\n"
     ]
    }
   ],
   "source": [
    "print(X)"
   ]
  },
  {
   "cell_type": "code",
   "execution_count": 111,
   "metadata": {},
   "outputs": [],
   "source": [
    "X = scale(X)"
   ]
  },
  {
   "cell_type": "code",
   "execution_count": 112,
   "metadata": {},
   "outputs": [
    {
     "data": {
      "text/plain": [
       "PCA(n_components=3)"
      ]
     },
     "execution_count": 112,
     "metadata": {},
     "output_type": "execute_result"
    }
   ],
   "source": [
    "pca = decomposition.PCA(n_components=3)\n",
    "pca.fit(X)"
   ]
  },
  {
   "cell_type": "code",
   "execution_count": 113,
   "metadata": {},
   "outputs": [],
   "source": [
    "scores = pca.transform(X)"
   ]
  },
  {
   "cell_type": "code",
   "execution_count": 114,
   "metadata": {},
   "outputs": [
    {
     "data": {
      "text/html": [
       "<div>\n",
       "<style scoped>\n",
       "    .dataframe tbody tr th:only-of-type {\n",
       "        vertical-align: middle;\n",
       "    }\n",
       "\n",
       "    .dataframe tbody tr th {\n",
       "        vertical-align: top;\n",
       "    }\n",
       "\n",
       "    .dataframe thead th {\n",
       "        text-align: right;\n",
       "    }\n",
       "</style>\n",
       "<table border=\"1\" class=\"dataframe\">\n",
       "  <thead>\n",
       "    <tr style=\"text-align: right;\">\n",
       "      <th></th>\n",
       "      <th>PC1</th>\n",
       "      <th>PC2</th>\n",
       "      <th>PC3</th>\n",
       "    </tr>\n",
       "  </thead>\n",
       "  <tbody>\n",
       "    <tr>\n",
       "      <th>0</th>\n",
       "      <td>-42.022087</td>\n",
       "      <td>2.841873</td>\n",
       "      <td>1.275539</td>\n",
       "    </tr>\n",
       "    <tr>\n",
       "      <th>1</th>\n",
       "      <td>19.053928</td>\n",
       "      <td>-7.708853</td>\n",
       "      <td>12.667248</td>\n",
       "    </tr>\n",
       "    <tr>\n",
       "      <th>2</th>\n",
       "      <td>-26.181741</td>\n",
       "      <td>29.803992</td>\n",
       "      <td>5.913189</td>\n",
       "    </tr>\n",
       "    <tr>\n",
       "      <th>3</th>\n",
       "      <td>72.184237</td>\n",
       "      <td>-20.405327</td>\n",
       "      <td>5.859322</td>\n",
       "    </tr>\n",
       "    <tr>\n",
       "      <th>4</th>\n",
       "      <td>-28.721906</td>\n",
       "      <td>-17.907357</td>\n",
       "      <td>-2.710061</td>\n",
       "    </tr>\n",
       "    <tr>\n",
       "      <th>5</th>\n",
       "      <td>-30.861069</td>\n",
       "      <td>-10.793753</td>\n",
       "      <td>2.600912</td>\n",
       "    </tr>\n",
       "    <tr>\n",
       "      <th>6</th>\n",
       "      <td>13.567064</td>\n",
       "      <td>-0.517834</td>\n",
       "      <td>19.849449</td>\n",
       "    </tr>\n",
       "    <tr>\n",
       "      <th>7</th>\n",
       "      <td>23.716301</td>\n",
       "      <td>-3.203459</td>\n",
       "      <td>19.987541</td>\n",
       "    </tr>\n",
       "    <tr>\n",
       "      <th>8</th>\n",
       "      <td>-46.913061</td>\n",
       "      <td>1.240638</td>\n",
       "      <td>0.116235</td>\n",
       "    </tr>\n",
       "    <tr>\n",
       "      <th>9</th>\n",
       "      <td>-21.498335</td>\n",
       "      <td>-19.474006</td>\n",
       "      <td>-7.593440</td>\n",
       "    </tr>\n",
       "    <tr>\n",
       "      <th>10</th>\n",
       "      <td>44.263553</td>\n",
       "      <td>14.335454</td>\n",
       "      <td>0.369474</td>\n",
       "    </tr>\n",
       "    <tr>\n",
       "      <th>11</th>\n",
       "      <td>32.190986</td>\n",
       "      <td>4.844021</td>\n",
       "      <td>-15.046163</td>\n",
       "    </tr>\n",
       "    <tr>\n",
       "      <th>12</th>\n",
       "      <td>45.644650</td>\n",
       "      <td>8.473890</td>\n",
       "      <td>-15.771569</td>\n",
       "    </tr>\n",
       "    <tr>\n",
       "      <th>13</th>\n",
       "      <td>50.146460</td>\n",
       "      <td>8.404713</td>\n",
       "      <td>-10.900398</td>\n",
       "    </tr>\n",
       "    <tr>\n",
       "      <th>14</th>\n",
       "      <td>-39.552134</td>\n",
       "      <td>3.142757</td>\n",
       "      <td>4.627772</td>\n",
       "    </tr>\n",
       "    <tr>\n",
       "      <th>15</th>\n",
       "      <td>-18.166687</td>\n",
       "      <td>-6.830713</td>\n",
       "      <td>-10.485197</td>\n",
       "    </tr>\n",
       "    <tr>\n",
       "      <th>16</th>\n",
       "      <td>-29.066900</td>\n",
       "      <td>-3.611151</td>\n",
       "      <td>-16.052035</td>\n",
       "    </tr>\n",
       "    <tr>\n",
       "      <th>17</th>\n",
       "      <td>-17.783258</td>\n",
       "      <td>17.365116</td>\n",
       "      <td>5.292182</td>\n",
       "    </tr>\n",
       "  </tbody>\n",
       "</table>\n",
       "</div>"
      ],
      "text/plain": [
       "          PC1        PC2        PC3\n",
       "0  -42.022087   2.841873   1.275539\n",
       "1   19.053928  -7.708853  12.667248\n",
       "2  -26.181741  29.803992   5.913189\n",
       "3   72.184237 -20.405327   5.859322\n",
       "4  -28.721906 -17.907357  -2.710061\n",
       "5  -30.861069 -10.793753   2.600912\n",
       "6   13.567064  -0.517834  19.849449\n",
       "7   23.716301  -3.203459  19.987541\n",
       "8  -46.913061   1.240638   0.116235\n",
       "9  -21.498335 -19.474006  -7.593440\n",
       "10  44.263553  14.335454   0.369474\n",
       "11  32.190986   4.844021 -15.046163\n",
       "12  45.644650   8.473890 -15.771569\n",
       "13  50.146460   8.404713 -10.900398\n",
       "14 -39.552134   3.142757   4.627772\n",
       "15 -18.166687  -6.830713 -10.485197\n",
       "16 -29.066900  -3.611151 -16.052035\n",
       "17 -17.783258  17.365116   5.292182"
      ]
     },
     "execution_count": 114,
     "metadata": {},
     "output_type": "execute_result"
    }
   ],
   "source": [
    "scores_df = pd.DataFrame(scores, columns=['PC1', 'PC2', 'PC3'])\n",
    "scores_df"
   ]
  },
  {
   "cell_type": "code",
   "execution_count": 115,
   "metadata": {},
   "outputs": [
    {
     "data": {
      "text/html": [
       "<div>\n",
       "<style scoped>\n",
       "    .dataframe tbody tr th:only-of-type {\n",
       "        vertical-align: middle;\n",
       "    }\n",
       "\n",
       "    .dataframe tbody tr th {\n",
       "        vertical-align: top;\n",
       "    }\n",
       "\n",
       "    .dataframe thead th {\n",
       "        text-align: right;\n",
       "    }\n",
       "</style>\n",
       "<table border=\"1\" class=\"dataframe\">\n",
       "  <thead>\n",
       "    <tr style=\"text-align: right;\">\n",
       "      <th></th>\n",
       "      <th>PC1</th>\n",
       "      <th>PC2</th>\n",
       "      <th>PC3</th>\n",
       "    </tr>\n",
       "    <tr>\n",
       "      <th>communityname</th>\n",
       "      <th></th>\n",
       "      <th></th>\n",
       "      <th></th>\n",
       "    </tr>\n",
       "  </thead>\n",
       "  <tbody>\n",
       "    <tr>\n",
       "      <th>Lakewoodcity</th>\n",
       "      <td>0.025651</td>\n",
       "      <td>-0.012436</td>\n",
       "      <td>-0.003246</td>\n",
       "    </tr>\n",
       "    <tr>\n",
       "      <th>Tukwilacity</th>\n",
       "      <td>0.019191</td>\n",
       "      <td>-0.000230</td>\n",
       "      <td>-0.006947</td>\n",
       "    </tr>\n",
       "    <tr>\n",
       "      <th>Aberdeentown</th>\n",
       "      <td>0.023658</td>\n",
       "      <td>0.026996</td>\n",
       "      <td>0.005011</td>\n",
       "    </tr>\n",
       "    <tr>\n",
       "      <th>Willingborotownship</th>\n",
       "      <td>0.011528</td>\n",
       "      <td>0.035402</td>\n",
       "      <td>-0.001788</td>\n",
       "    </tr>\n",
       "    <tr>\n",
       "      <th>Bethlehemtownship</th>\n",
       "      <td>0.026515</td>\n",
       "      <td>-0.006509</td>\n",
       "      <td>0.001866</td>\n",
       "    </tr>\n",
       "    <tr>\n",
       "      <th>...</th>\n",
       "      <td>...</td>\n",
       "      <td>...</td>\n",
       "      <td>...</td>\n",
       "    </tr>\n",
       "    <tr>\n",
       "      <th>TempleTerracecity</th>\n",
       "      <td>0.024381</td>\n",
       "      <td>-0.023597</td>\n",
       "      <td>0.016904</td>\n",
       "    </tr>\n",
       "    <tr>\n",
       "      <th>Seasidecity</th>\n",
       "      <td>0.001232</td>\n",
       "      <td>-0.024028</td>\n",
       "      <td>0.052986</td>\n",
       "    </tr>\n",
       "    <tr>\n",
       "      <th>Waterburytown</th>\n",
       "      <td>0.025989</td>\n",
       "      <td>0.011368</td>\n",
       "      <td>-0.016268</td>\n",
       "    </tr>\n",
       "    <tr>\n",
       "      <th>Walthamcity</th>\n",
       "      <td>0.024706</td>\n",
       "      <td>-0.020336</td>\n",
       "      <td>0.006602</td>\n",
       "    </tr>\n",
       "    <tr>\n",
       "      <th>Ontariocity</th>\n",
       "      <td>0.012936</td>\n",
       "      <td>-0.021479</td>\n",
       "      <td>0.027347</td>\n",
       "    </tr>\n",
       "  </tbody>\n",
       "</table>\n",
       "<p>1994 rows × 3 columns</p>\n",
       "</div>"
      ],
      "text/plain": [
       "                          PC1       PC2       PC3\n",
       "communityname                                    \n",
       "Lakewoodcity         0.025651 -0.012436 -0.003246\n",
       "Tukwilacity          0.019191 -0.000230 -0.006947\n",
       "Aberdeentown         0.023658  0.026996  0.005011\n",
       "Willingborotownship  0.011528  0.035402 -0.001788\n",
       "Bethlehemtownship    0.026515 -0.006509  0.001866\n",
       "...                       ...       ...       ...\n",
       "TempleTerracecity    0.024381 -0.023597  0.016904\n",
       "Seasidecity          0.001232 -0.024028  0.052986\n",
       "Waterburytown        0.025989  0.011368 -0.016268\n",
       "Walthamcity          0.024706 -0.020336  0.006602\n",
       "Ontariocity          0.012936 -0.021479  0.027347\n",
       "\n",
       "[1994 rows x 3 columns]"
      ]
     },
     "execution_count": 115,
     "metadata": {},
     "output_type": "execute_result"
    }
   ],
   "source": [
    "loadings = pca.components_.T\n",
    "df_loadings = pd.DataFrame(loadings, columns=['PC1', 'PC2','PC3'], index= df['communityname'])\n",
    "df_loadings"
   ]
  },
  {
   "cell_type": "code",
   "execution_count": 116,
   "metadata": {},
   "outputs": [
    {
     "data": {
      "text/plain": [
       "array([0.66480004, 0.08200106, 0.05872574])"
      ]
     },
     "execution_count": 116,
     "metadata": {},
     "output_type": "execute_result"
    }
   ],
   "source": [
    "explained_variance = pca.explained_variance_ratio_\n",
    "explained_variance"
   ]
  },
  {
   "cell_type": "code",
   "execution_count": 117,
   "metadata": {},
   "outputs": [],
   "source": [
    "import numpy as np\n",
    "import plotly.express as px"
   ]
  },
  {
   "cell_type": "code",
   "execution_count": 118,
   "metadata": {},
   "outputs": [
    {
     "data": {
      "text/plain": [
       "array([0.66480004, 0.08200106, 0.05872574])"
      ]
     },
     "execution_count": 118,
     "metadata": {},
     "output_type": "execute_result"
    }
   ],
   "source": [
    "explained_variance"
   ]
  },
  {
   "cell_type": "code",
   "execution_count": 119,
   "metadata": {},
   "outputs": [
    {
     "data": {
      "text/html": [
       "<div>\n",
       "<style scoped>\n",
       "    .dataframe tbody tr th:only-of-type {\n",
       "        vertical-align: middle;\n",
       "    }\n",
       "\n",
       "    .dataframe tbody tr th {\n",
       "        vertical-align: top;\n",
       "    }\n",
       "\n",
       "    .dataframe thead th {\n",
       "        text-align: right;\n",
       "    }\n",
       "</style>\n",
       "<table border=\"1\" class=\"dataframe\">\n",
       "  <thead>\n",
       "    <tr style=\"text-align: right;\">\n",
       "      <th></th>\n",
       "      <th>PC</th>\n",
       "      <th>Explained Variance</th>\n",
       "      <th>Cumulative Variance</th>\n",
       "    </tr>\n",
       "  </thead>\n",
       "  <tbody>\n",
       "    <tr>\n",
       "      <th>0</th>\n",
       "      <td></td>\n",
       "      <td>0.664800</td>\n",
       "      <td>0.665</td>\n",
       "    </tr>\n",
       "    <tr>\n",
       "      <th>1</th>\n",
       "      <td>PC1</td>\n",
       "      <td>0.082001</td>\n",
       "      <td>0.747</td>\n",
       "    </tr>\n",
       "    <tr>\n",
       "      <th>2</th>\n",
       "      <td>PC2</td>\n",
       "      <td>0.058726</td>\n",
       "      <td>0.806</td>\n",
       "    </tr>\n",
       "    <tr>\n",
       "      <th>3</th>\n",
       "      <td>PC3</td>\n",
       "      <td>NaN</td>\n",
       "      <td>NaN</td>\n",
       "    </tr>\n",
       "  </tbody>\n",
       "</table>\n",
       "</div>"
      ],
      "text/plain": [
       "    PC  Explained Variance  Cumulative Variance\n",
       "0                 0.664800                0.665\n",
       "1  PC1            0.082001                0.747\n",
       "2  PC2            0.058726                0.806\n",
       "3  PC3                 NaN                  NaN"
      ]
     },
     "execution_count": 119,
     "metadata": {},
     "output_type": "execute_result"
    }
   ],
   "source": [
    "cumulative_variance = np.cumsum(np.round(explained_variance, decimals=3))\n",
    "pc_df = pd.DataFrame(['','PC1', 'PC2', 'PC3'], columns=['PC'])\n",
    "explained_variance_df = pd.DataFrame(explained_variance, columns=['Explained Variance'])\n",
    "cumulative_variance_df = pd.DataFrame(cumulative_variance, columns=['Cumulative Variance'])\n",
    "df_explained_variance = pd.concat([pc_df, explained_variance_df, cumulative_variance_df], axis=1)\n",
    "df_explained_variance"
   ]
  },
  {
   "cell_type": "code",
   "execution_count": 120,
   "metadata": {},
   "outputs": [
    {
     "data": {
      "application/vnd.plotly.v1+json": {
       "config": {
        "plotlyServerURL": "https://plot.ly"
       },
       "data": [
        {
         "alignmentgroup": "True",
         "hovertemplate": "PC=%{x}<br>Explained Variance=%{text}<extra></extra>",
         "legendgroup": "",
         "marker": {
          "color": "#636efa"
         },
         "name": "",
         "offsetgroup": "",
         "orientation": "v",
         "showlegend": false,
         "text": [
          0.6648000354612411,
          0.08200105930833299,
          0.058725742386040405,
          null
         ],
         "textposition": "outside",
         "texttemplate": "%{text:.3f}",
         "type": "bar",
         "x": [
          "",
          "PC1",
          "PC2",
          "PC3"
         ],
         "xaxis": "x",
         "y": [
          0.6648000354612411,
          0.08200105930833299,
          0.058725742386040405,
          null
         ],
         "yaxis": "y"
        }
       ],
       "layout": {
        "barmode": "relative",
        "legend": {
         "tracegroupgap": 0
        },
        "margin": {
         "t": 60
        },
        "template": {
         "data": {
          "bar": [
           {
            "error_x": {
             "color": "#2a3f5f"
            },
            "error_y": {
             "color": "#2a3f5f"
            },
            "marker": {
             "line": {
              "color": "#E5ECF6",
              "width": 0.5
             }
            },
            "type": "bar"
           }
          ],
          "barpolar": [
           {
            "marker": {
             "line": {
              "color": "#E5ECF6",
              "width": 0.5
             }
            },
            "type": "barpolar"
           }
          ],
          "carpet": [
           {
            "aaxis": {
             "endlinecolor": "#2a3f5f",
             "gridcolor": "white",
             "linecolor": "white",
             "minorgridcolor": "white",
             "startlinecolor": "#2a3f5f"
            },
            "baxis": {
             "endlinecolor": "#2a3f5f",
             "gridcolor": "white",
             "linecolor": "white",
             "minorgridcolor": "white",
             "startlinecolor": "#2a3f5f"
            },
            "type": "carpet"
           }
          ],
          "choropleth": [
           {
            "colorbar": {
             "outlinewidth": 0,
             "ticks": ""
            },
            "type": "choropleth"
           }
          ],
          "contour": [
           {
            "colorbar": {
             "outlinewidth": 0,
             "ticks": ""
            },
            "colorscale": [
             [
              0,
              "#0d0887"
             ],
             [
              0.1111111111111111,
              "#46039f"
             ],
             [
              0.2222222222222222,
              "#7201a8"
             ],
             [
              0.3333333333333333,
              "#9c179e"
             ],
             [
              0.4444444444444444,
              "#bd3786"
             ],
             [
              0.5555555555555556,
              "#d8576b"
             ],
             [
              0.6666666666666666,
              "#ed7953"
             ],
             [
              0.7777777777777778,
              "#fb9f3a"
             ],
             [
              0.8888888888888888,
              "#fdca26"
             ],
             [
              1,
              "#f0f921"
             ]
            ],
            "type": "contour"
           }
          ],
          "contourcarpet": [
           {
            "colorbar": {
             "outlinewidth": 0,
             "ticks": ""
            },
            "type": "contourcarpet"
           }
          ],
          "heatmap": [
           {
            "colorbar": {
             "outlinewidth": 0,
             "ticks": ""
            },
            "colorscale": [
             [
              0,
              "#0d0887"
             ],
             [
              0.1111111111111111,
              "#46039f"
             ],
             [
              0.2222222222222222,
              "#7201a8"
             ],
             [
              0.3333333333333333,
              "#9c179e"
             ],
             [
              0.4444444444444444,
              "#bd3786"
             ],
             [
              0.5555555555555556,
              "#d8576b"
             ],
             [
              0.6666666666666666,
              "#ed7953"
             ],
             [
              0.7777777777777778,
              "#fb9f3a"
             ],
             [
              0.8888888888888888,
              "#fdca26"
             ],
             [
              1,
              "#f0f921"
             ]
            ],
            "type": "heatmap"
           }
          ],
          "heatmapgl": [
           {
            "colorbar": {
             "outlinewidth": 0,
             "ticks": ""
            },
            "colorscale": [
             [
              0,
              "#0d0887"
             ],
             [
              0.1111111111111111,
              "#46039f"
             ],
             [
              0.2222222222222222,
              "#7201a8"
             ],
             [
              0.3333333333333333,
              "#9c179e"
             ],
             [
              0.4444444444444444,
              "#bd3786"
             ],
             [
              0.5555555555555556,
              "#d8576b"
             ],
             [
              0.6666666666666666,
              "#ed7953"
             ],
             [
              0.7777777777777778,
              "#fb9f3a"
             ],
             [
              0.8888888888888888,
              "#fdca26"
             ],
             [
              1,
              "#f0f921"
             ]
            ],
            "type": "heatmapgl"
           }
          ],
          "histogram": [
           {
            "marker": {
             "colorbar": {
              "outlinewidth": 0,
              "ticks": ""
             }
            },
            "type": "histogram"
           }
          ],
          "histogram2d": [
           {
            "colorbar": {
             "outlinewidth": 0,
             "ticks": ""
            },
            "colorscale": [
             [
              0,
              "#0d0887"
             ],
             [
              0.1111111111111111,
              "#46039f"
             ],
             [
              0.2222222222222222,
              "#7201a8"
             ],
             [
              0.3333333333333333,
              "#9c179e"
             ],
             [
              0.4444444444444444,
              "#bd3786"
             ],
             [
              0.5555555555555556,
              "#d8576b"
             ],
             [
              0.6666666666666666,
              "#ed7953"
             ],
             [
              0.7777777777777778,
              "#fb9f3a"
             ],
             [
              0.8888888888888888,
              "#fdca26"
             ],
             [
              1,
              "#f0f921"
             ]
            ],
            "type": "histogram2d"
           }
          ],
          "histogram2dcontour": [
           {
            "colorbar": {
             "outlinewidth": 0,
             "ticks": ""
            },
            "colorscale": [
             [
              0,
              "#0d0887"
             ],
             [
              0.1111111111111111,
              "#46039f"
             ],
             [
              0.2222222222222222,
              "#7201a8"
             ],
             [
              0.3333333333333333,
              "#9c179e"
             ],
             [
              0.4444444444444444,
              "#bd3786"
             ],
             [
              0.5555555555555556,
              "#d8576b"
             ],
             [
              0.6666666666666666,
              "#ed7953"
             ],
             [
              0.7777777777777778,
              "#fb9f3a"
             ],
             [
              0.8888888888888888,
              "#fdca26"
             ],
             [
              1,
              "#f0f921"
             ]
            ],
            "type": "histogram2dcontour"
           }
          ],
          "mesh3d": [
           {
            "colorbar": {
             "outlinewidth": 0,
             "ticks": ""
            },
            "type": "mesh3d"
           }
          ],
          "parcoords": [
           {
            "line": {
             "colorbar": {
              "outlinewidth": 0,
              "ticks": ""
             }
            },
            "type": "parcoords"
           }
          ],
          "pie": [
           {
            "automargin": true,
            "type": "pie"
           }
          ],
          "scatter": [
           {
            "marker": {
             "colorbar": {
              "outlinewidth": 0,
              "ticks": ""
             }
            },
            "type": "scatter"
           }
          ],
          "scatter3d": [
           {
            "line": {
             "colorbar": {
              "outlinewidth": 0,
              "ticks": ""
             }
            },
            "marker": {
             "colorbar": {
              "outlinewidth": 0,
              "ticks": ""
             }
            },
            "type": "scatter3d"
           }
          ],
          "scattercarpet": [
           {
            "marker": {
             "colorbar": {
              "outlinewidth": 0,
              "ticks": ""
             }
            },
            "type": "scattercarpet"
           }
          ],
          "scattergeo": [
           {
            "marker": {
             "colorbar": {
              "outlinewidth": 0,
              "ticks": ""
             }
            },
            "type": "scattergeo"
           }
          ],
          "scattergl": [
           {
            "marker": {
             "colorbar": {
              "outlinewidth": 0,
              "ticks": ""
             }
            },
            "type": "scattergl"
           }
          ],
          "scattermapbox": [
           {
            "marker": {
             "colorbar": {
              "outlinewidth": 0,
              "ticks": ""
             }
            },
            "type": "scattermapbox"
           }
          ],
          "scatterpolar": [
           {
            "marker": {
             "colorbar": {
              "outlinewidth": 0,
              "ticks": ""
             }
            },
            "type": "scatterpolar"
           }
          ],
          "scatterpolargl": [
           {
            "marker": {
             "colorbar": {
              "outlinewidth": 0,
              "ticks": ""
             }
            },
            "type": "scatterpolargl"
           }
          ],
          "scatterternary": [
           {
            "marker": {
             "colorbar": {
              "outlinewidth": 0,
              "ticks": ""
             }
            },
            "type": "scatterternary"
           }
          ],
          "surface": [
           {
            "colorbar": {
             "outlinewidth": 0,
             "ticks": ""
            },
            "colorscale": [
             [
              0,
              "#0d0887"
             ],
             [
              0.1111111111111111,
              "#46039f"
             ],
             [
              0.2222222222222222,
              "#7201a8"
             ],
             [
              0.3333333333333333,
              "#9c179e"
             ],
             [
              0.4444444444444444,
              "#bd3786"
             ],
             [
              0.5555555555555556,
              "#d8576b"
             ],
             [
              0.6666666666666666,
              "#ed7953"
             ],
             [
              0.7777777777777778,
              "#fb9f3a"
             ],
             [
              0.8888888888888888,
              "#fdca26"
             ],
             [
              1,
              "#f0f921"
             ]
            ],
            "type": "surface"
           }
          ],
          "table": [
           {
            "cells": {
             "fill": {
              "color": "#EBF0F8"
             },
             "line": {
              "color": "white"
             }
            },
            "header": {
             "fill": {
              "color": "#C8D4E3"
             },
             "line": {
              "color": "white"
             }
            },
            "type": "table"
           }
          ]
         },
         "layout": {
          "annotationdefaults": {
           "arrowcolor": "#2a3f5f",
           "arrowhead": 0,
           "arrowwidth": 1
          },
          "autotypenumbers": "strict",
          "coloraxis": {
           "colorbar": {
            "outlinewidth": 0,
            "ticks": ""
           }
          },
          "colorscale": {
           "diverging": [
            [
             0,
             "#8e0152"
            ],
            [
             0.1,
             "#c51b7d"
            ],
            [
             0.2,
             "#de77ae"
            ],
            [
             0.3,
             "#f1b6da"
            ],
            [
             0.4,
             "#fde0ef"
            ],
            [
             0.5,
             "#f7f7f7"
            ],
            [
             0.6,
             "#e6f5d0"
            ],
            [
             0.7,
             "#b8e186"
            ],
            [
             0.8,
             "#7fbc41"
            ],
            [
             0.9,
             "#4d9221"
            ],
            [
             1,
             "#276419"
            ]
           ],
           "sequential": [
            [
             0,
             "#0d0887"
            ],
            [
             0.1111111111111111,
             "#46039f"
            ],
            [
             0.2222222222222222,
             "#7201a8"
            ],
            [
             0.3333333333333333,
             "#9c179e"
            ],
            [
             0.4444444444444444,
             "#bd3786"
            ],
            [
             0.5555555555555556,
             "#d8576b"
            ],
            [
             0.6666666666666666,
             "#ed7953"
            ],
            [
             0.7777777777777778,
             "#fb9f3a"
            ],
            [
             0.8888888888888888,
             "#fdca26"
            ],
            [
             1,
             "#f0f921"
            ]
           ],
           "sequentialminus": [
            [
             0,
             "#0d0887"
            ],
            [
             0.1111111111111111,
             "#46039f"
            ],
            [
             0.2222222222222222,
             "#7201a8"
            ],
            [
             0.3333333333333333,
             "#9c179e"
            ],
            [
             0.4444444444444444,
             "#bd3786"
            ],
            [
             0.5555555555555556,
             "#d8576b"
            ],
            [
             0.6666666666666666,
             "#ed7953"
            ],
            [
             0.7777777777777778,
             "#fb9f3a"
            ],
            [
             0.8888888888888888,
             "#fdca26"
            ],
            [
             1,
             "#f0f921"
            ]
           ]
          },
          "colorway": [
           "#636efa",
           "#EF553B",
           "#00cc96",
           "#ab63fa",
           "#FFA15A",
           "#19d3f3",
           "#FF6692",
           "#B6E880",
           "#FF97FF",
           "#FECB52"
          ],
          "font": {
           "color": "#2a3f5f"
          },
          "geo": {
           "bgcolor": "white",
           "lakecolor": "white",
           "landcolor": "#E5ECF6",
           "showlakes": true,
           "showland": true,
           "subunitcolor": "white"
          },
          "hoverlabel": {
           "align": "left"
          },
          "hovermode": "closest",
          "mapbox": {
           "style": "light"
          },
          "paper_bgcolor": "white",
          "plot_bgcolor": "#E5ECF6",
          "polar": {
           "angularaxis": {
            "gridcolor": "white",
            "linecolor": "white",
            "ticks": ""
           },
           "bgcolor": "#E5ECF6",
           "radialaxis": {
            "gridcolor": "white",
            "linecolor": "white",
            "ticks": ""
           }
          },
          "scene": {
           "xaxis": {
            "backgroundcolor": "#E5ECF6",
            "gridcolor": "white",
            "gridwidth": 2,
            "linecolor": "white",
            "showbackground": true,
            "ticks": "",
            "zerolinecolor": "white"
           },
           "yaxis": {
            "backgroundcolor": "#E5ECF6",
            "gridcolor": "white",
            "gridwidth": 2,
            "linecolor": "white",
            "showbackground": true,
            "ticks": "",
            "zerolinecolor": "white"
           },
           "zaxis": {
            "backgroundcolor": "#E5ECF6",
            "gridcolor": "white",
            "gridwidth": 2,
            "linecolor": "white",
            "showbackground": true,
            "ticks": "",
            "zerolinecolor": "white"
           }
          },
          "shapedefaults": {
           "line": {
            "color": "#2a3f5f"
           }
          },
          "ternary": {
           "aaxis": {
            "gridcolor": "white",
            "linecolor": "white",
            "ticks": ""
           },
           "baxis": {
            "gridcolor": "white",
            "linecolor": "white",
            "ticks": ""
           },
           "bgcolor": "#E5ECF6",
           "caxis": {
            "gridcolor": "white",
            "linecolor": "white",
            "ticks": ""
           }
          },
          "title": {
           "x": 0.05
          },
          "xaxis": {
           "automargin": true,
           "gridcolor": "white",
           "linecolor": "white",
           "ticks": "",
           "title": {
            "standoff": 15
           },
           "zerolinecolor": "white",
           "zerolinewidth": 2
          },
          "yaxis": {
           "automargin": true,
           "gridcolor": "white",
           "linecolor": "white",
           "ticks": "",
           "title": {
            "standoff": 15
           },
           "zerolinecolor": "white",
           "zerolinewidth": 2
          }
         }
        },
        "width": 800,
        "xaxis": {
         "anchor": "y",
         "domain": [
          0,
          1
         ],
         "title": {
          "text": "PC"
         }
        },
        "yaxis": {
         "anchor": "x",
         "domain": [
          0,
          1
         ],
         "title": {
          "text": "Explained Variance"
         }
        }
       }
      },
      "text/html": [
       "<div>                            <div id=\"9192f322-3419-4487-918e-4a9364c0aadd\" class=\"plotly-graph-div\" style=\"height:525px; width:800px;\"></div>            <script type=\"text/javascript\">                require([\"plotly\"], function(Plotly) {                    window.PLOTLYENV=window.PLOTLYENV || {};                                    if (document.getElementById(\"9192f322-3419-4487-918e-4a9364c0aadd\")) {                    Plotly.newPlot(                        \"9192f322-3419-4487-918e-4a9364c0aadd\",                        [{\"alignmentgroup\": \"True\", \"hovertemplate\": \"PC=%{x}<br>Explained Variance=%{text}<extra></extra>\", \"legendgroup\": \"\", \"marker\": {\"color\": \"#636efa\"}, \"name\": \"\", \"offsetgroup\": \"\", \"orientation\": \"v\", \"showlegend\": false, \"text\": [0.6648000354612411, 0.08200105930833299, 0.058725742386040405, null], \"textposition\": \"outside\", \"texttemplate\": \"%{text:.3f}\", \"type\": \"bar\", \"x\": [\"\", \"PC1\", \"PC2\", \"PC3\"], \"xaxis\": \"x\", \"y\": [0.6648000354612411, 0.08200105930833299, 0.058725742386040405, null], \"yaxis\": \"y\"}],                        {\"barmode\": \"relative\", \"legend\": {\"tracegroupgap\": 0}, \"margin\": {\"t\": 60}, \"template\": {\"data\": {\"bar\": [{\"error_x\": {\"color\": \"#2a3f5f\"}, \"error_y\": {\"color\": \"#2a3f5f\"}, \"marker\": {\"line\": {\"color\": \"#E5ECF6\", \"width\": 0.5}}, \"type\": \"bar\"}], \"barpolar\": [{\"marker\": {\"line\": {\"color\": \"#E5ECF6\", \"width\": 0.5}}, \"type\": \"barpolar\"}], \"carpet\": [{\"aaxis\": {\"endlinecolor\": \"#2a3f5f\", \"gridcolor\": \"white\", \"linecolor\": \"white\", \"minorgridcolor\": \"white\", \"startlinecolor\": \"#2a3f5f\"}, \"baxis\": {\"endlinecolor\": \"#2a3f5f\", \"gridcolor\": \"white\", \"linecolor\": \"white\", \"minorgridcolor\": \"white\", \"startlinecolor\": \"#2a3f5f\"}, \"type\": \"carpet\"}], \"choropleth\": [{\"colorbar\": {\"outlinewidth\": 0, \"ticks\": \"\"}, \"type\": \"choropleth\"}], \"contour\": [{\"colorbar\": {\"outlinewidth\": 0, \"ticks\": \"\"}, \"colorscale\": [[0.0, \"#0d0887\"], [0.1111111111111111, \"#46039f\"], [0.2222222222222222, \"#7201a8\"], [0.3333333333333333, \"#9c179e\"], [0.4444444444444444, \"#bd3786\"], [0.5555555555555556, \"#d8576b\"], [0.6666666666666666, \"#ed7953\"], [0.7777777777777778, \"#fb9f3a\"], [0.8888888888888888, \"#fdca26\"], [1.0, \"#f0f921\"]], \"type\": \"contour\"}], \"contourcarpet\": [{\"colorbar\": {\"outlinewidth\": 0, \"ticks\": \"\"}, \"type\": \"contourcarpet\"}], \"heatmap\": [{\"colorbar\": {\"outlinewidth\": 0, \"ticks\": \"\"}, \"colorscale\": [[0.0, \"#0d0887\"], [0.1111111111111111, \"#46039f\"], [0.2222222222222222, \"#7201a8\"], [0.3333333333333333, \"#9c179e\"], [0.4444444444444444, \"#bd3786\"], [0.5555555555555556, \"#d8576b\"], [0.6666666666666666, \"#ed7953\"], [0.7777777777777778, \"#fb9f3a\"], [0.8888888888888888, \"#fdca26\"], [1.0, \"#f0f921\"]], \"type\": \"heatmap\"}], \"heatmapgl\": [{\"colorbar\": {\"outlinewidth\": 0, \"ticks\": \"\"}, \"colorscale\": [[0.0, \"#0d0887\"], [0.1111111111111111, \"#46039f\"], [0.2222222222222222, \"#7201a8\"], [0.3333333333333333, \"#9c179e\"], [0.4444444444444444, \"#bd3786\"], [0.5555555555555556, \"#d8576b\"], [0.6666666666666666, \"#ed7953\"], [0.7777777777777778, \"#fb9f3a\"], [0.8888888888888888, \"#fdca26\"], [1.0, \"#f0f921\"]], \"type\": \"heatmapgl\"}], \"histogram\": [{\"marker\": {\"colorbar\": {\"outlinewidth\": 0, \"ticks\": \"\"}}, \"type\": \"histogram\"}], \"histogram2d\": [{\"colorbar\": {\"outlinewidth\": 0, \"ticks\": \"\"}, \"colorscale\": [[0.0, \"#0d0887\"], [0.1111111111111111, \"#46039f\"], [0.2222222222222222, \"#7201a8\"], [0.3333333333333333, \"#9c179e\"], [0.4444444444444444, \"#bd3786\"], [0.5555555555555556, \"#d8576b\"], [0.6666666666666666, \"#ed7953\"], [0.7777777777777778, \"#fb9f3a\"], [0.8888888888888888, \"#fdca26\"], [1.0, \"#f0f921\"]], \"type\": \"histogram2d\"}], \"histogram2dcontour\": [{\"colorbar\": {\"outlinewidth\": 0, \"ticks\": \"\"}, \"colorscale\": [[0.0, \"#0d0887\"], [0.1111111111111111, \"#46039f\"], [0.2222222222222222, \"#7201a8\"], [0.3333333333333333, \"#9c179e\"], [0.4444444444444444, \"#bd3786\"], [0.5555555555555556, \"#d8576b\"], [0.6666666666666666, \"#ed7953\"], [0.7777777777777778, \"#fb9f3a\"], [0.8888888888888888, \"#fdca26\"], [1.0, \"#f0f921\"]], \"type\": \"histogram2dcontour\"}], \"mesh3d\": [{\"colorbar\": {\"outlinewidth\": 0, \"ticks\": \"\"}, \"type\": \"mesh3d\"}], \"parcoords\": [{\"line\": {\"colorbar\": {\"outlinewidth\": 0, \"ticks\": \"\"}}, \"type\": \"parcoords\"}], \"pie\": [{\"automargin\": true, \"type\": \"pie\"}], \"scatter\": [{\"marker\": {\"colorbar\": {\"outlinewidth\": 0, \"ticks\": \"\"}}, \"type\": \"scatter\"}], \"scatter3d\": [{\"line\": {\"colorbar\": {\"outlinewidth\": 0, \"ticks\": \"\"}}, \"marker\": {\"colorbar\": {\"outlinewidth\": 0, \"ticks\": \"\"}}, \"type\": \"scatter3d\"}], \"scattercarpet\": [{\"marker\": {\"colorbar\": {\"outlinewidth\": 0, \"ticks\": \"\"}}, \"type\": \"scattercarpet\"}], \"scattergeo\": [{\"marker\": {\"colorbar\": {\"outlinewidth\": 0, \"ticks\": \"\"}}, \"type\": \"scattergeo\"}], \"scattergl\": [{\"marker\": {\"colorbar\": {\"outlinewidth\": 0, \"ticks\": \"\"}}, \"type\": \"scattergl\"}], \"scattermapbox\": [{\"marker\": {\"colorbar\": {\"outlinewidth\": 0, \"ticks\": \"\"}}, \"type\": \"scattermapbox\"}], \"scatterpolar\": [{\"marker\": {\"colorbar\": {\"outlinewidth\": 0, \"ticks\": \"\"}}, \"type\": \"scatterpolar\"}], \"scatterpolargl\": [{\"marker\": {\"colorbar\": {\"outlinewidth\": 0, \"ticks\": \"\"}}, \"type\": \"scatterpolargl\"}], \"scatterternary\": [{\"marker\": {\"colorbar\": {\"outlinewidth\": 0, \"ticks\": \"\"}}, \"type\": \"scatterternary\"}], \"surface\": [{\"colorbar\": {\"outlinewidth\": 0, \"ticks\": \"\"}, \"colorscale\": [[0.0, \"#0d0887\"], [0.1111111111111111, \"#46039f\"], [0.2222222222222222, \"#7201a8\"], [0.3333333333333333, \"#9c179e\"], [0.4444444444444444, \"#bd3786\"], [0.5555555555555556, \"#d8576b\"], [0.6666666666666666, \"#ed7953\"], [0.7777777777777778, \"#fb9f3a\"], [0.8888888888888888, \"#fdca26\"], [1.0, \"#f0f921\"]], \"type\": \"surface\"}], \"table\": [{\"cells\": {\"fill\": {\"color\": \"#EBF0F8\"}, \"line\": {\"color\": \"white\"}}, \"header\": {\"fill\": {\"color\": \"#C8D4E3\"}, \"line\": {\"color\": \"white\"}}, \"type\": \"table\"}]}, \"layout\": {\"annotationdefaults\": {\"arrowcolor\": \"#2a3f5f\", \"arrowhead\": 0, \"arrowwidth\": 1}, \"autotypenumbers\": \"strict\", \"coloraxis\": {\"colorbar\": {\"outlinewidth\": 0, \"ticks\": \"\"}}, \"colorscale\": {\"diverging\": [[0, \"#8e0152\"], [0.1, \"#c51b7d\"], [0.2, \"#de77ae\"], [0.3, \"#f1b6da\"], [0.4, \"#fde0ef\"], [0.5, \"#f7f7f7\"], [0.6, \"#e6f5d0\"], [0.7, \"#b8e186\"], [0.8, \"#7fbc41\"], [0.9, \"#4d9221\"], [1, \"#276419\"]], \"sequential\": [[0.0, \"#0d0887\"], [0.1111111111111111, \"#46039f\"], [0.2222222222222222, \"#7201a8\"], [0.3333333333333333, \"#9c179e\"], [0.4444444444444444, \"#bd3786\"], [0.5555555555555556, \"#d8576b\"], [0.6666666666666666, \"#ed7953\"], [0.7777777777777778, \"#fb9f3a\"], [0.8888888888888888, \"#fdca26\"], [1.0, \"#f0f921\"]], \"sequentialminus\": [[0.0, \"#0d0887\"], [0.1111111111111111, \"#46039f\"], [0.2222222222222222, \"#7201a8\"], [0.3333333333333333, \"#9c179e\"], [0.4444444444444444, \"#bd3786\"], [0.5555555555555556, \"#d8576b\"], [0.6666666666666666, \"#ed7953\"], [0.7777777777777778, \"#fb9f3a\"], [0.8888888888888888, \"#fdca26\"], [1.0, \"#f0f921\"]]}, \"colorway\": [\"#636efa\", \"#EF553B\", \"#00cc96\", \"#ab63fa\", \"#FFA15A\", \"#19d3f3\", \"#FF6692\", \"#B6E880\", \"#FF97FF\", \"#FECB52\"], \"font\": {\"color\": \"#2a3f5f\"}, \"geo\": {\"bgcolor\": \"white\", \"lakecolor\": \"white\", \"landcolor\": \"#E5ECF6\", \"showlakes\": true, \"showland\": true, \"subunitcolor\": \"white\"}, \"hoverlabel\": {\"align\": \"left\"}, \"hovermode\": \"closest\", \"mapbox\": {\"style\": \"light\"}, \"paper_bgcolor\": \"white\", \"plot_bgcolor\": \"#E5ECF6\", \"polar\": {\"angularaxis\": {\"gridcolor\": \"white\", \"linecolor\": \"white\", \"ticks\": \"\"}, \"bgcolor\": \"#E5ECF6\", \"radialaxis\": {\"gridcolor\": \"white\", \"linecolor\": \"white\", \"ticks\": \"\"}}, \"scene\": {\"xaxis\": {\"backgroundcolor\": \"#E5ECF6\", \"gridcolor\": \"white\", \"gridwidth\": 2, \"linecolor\": \"white\", \"showbackground\": true, \"ticks\": \"\", \"zerolinecolor\": \"white\"}, \"yaxis\": {\"backgroundcolor\": \"#E5ECF6\", \"gridcolor\": \"white\", \"gridwidth\": 2, \"linecolor\": \"white\", \"showbackground\": true, \"ticks\": \"\", \"zerolinecolor\": \"white\"}, \"zaxis\": {\"backgroundcolor\": \"#E5ECF6\", \"gridcolor\": \"white\", \"gridwidth\": 2, \"linecolor\": \"white\", \"showbackground\": true, \"ticks\": \"\", \"zerolinecolor\": \"white\"}}, \"shapedefaults\": {\"line\": {\"color\": \"#2a3f5f\"}}, \"ternary\": {\"aaxis\": {\"gridcolor\": \"white\", \"linecolor\": \"white\", \"ticks\": \"\"}, \"baxis\": {\"gridcolor\": \"white\", \"linecolor\": \"white\", \"ticks\": \"\"}, \"bgcolor\": \"#E5ECF6\", \"caxis\": {\"gridcolor\": \"white\", \"linecolor\": \"white\", \"ticks\": \"\"}}, \"title\": {\"x\": 0.05}, \"xaxis\": {\"automargin\": true, \"gridcolor\": \"white\", \"linecolor\": \"white\", \"ticks\": \"\", \"title\": {\"standoff\": 15}, \"zerolinecolor\": \"white\", \"zerolinewidth\": 2}, \"yaxis\": {\"automargin\": true, \"gridcolor\": \"white\", \"linecolor\": \"white\", \"ticks\": \"\", \"title\": {\"standoff\": 15}, \"zerolinecolor\": \"white\", \"zerolinewidth\": 2}}}, \"width\": 800, \"xaxis\": {\"anchor\": \"y\", \"domain\": [0.0, 1.0], \"title\": {\"text\": \"PC\"}}, \"yaxis\": {\"anchor\": \"x\", \"domain\": [0.0, 1.0], \"title\": {\"text\": \"Explained Variance\"}}},                        {\"responsive\": true}                    ).then(function(){\n",
       "                            \n",
       "var gd = document.getElementById('9192f322-3419-4487-918e-4a9364c0aadd');\n",
       "var x = new MutationObserver(function (mutations, observer) {{\n",
       "        var display = window.getComputedStyle(gd).display;\n",
       "        if (!display || display === 'none') {{\n",
       "            console.log([gd, 'removed!']);\n",
       "            Plotly.purge(gd);\n",
       "            observer.disconnect();\n",
       "        }}\n",
       "}});\n",
       "\n",
       "// Listen for the removal of the full notebook cells\n",
       "var notebookContainer = gd.closest('#notebook-container');\n",
       "if (notebookContainer) {{\n",
       "    x.observe(notebookContainer, {childList: true});\n",
       "}}\n",
       "\n",
       "// Listen for the clearing of the current output cell\n",
       "var outputEl = gd.closest('.output');\n",
       "if (outputEl) {{\n",
       "    x.observe(outputEl, {childList: true});\n",
       "}}\n",
       "\n",
       "                        })                };                });            </script>        </div>"
      ]
     },
     "metadata": {},
     "output_type": "display_data"
    }
   ],
   "source": [
    "fig = px.bar(df_explained_variance, \n",
    "             x='PC', y='Explained Variance',\n",
    "             text='Explained Variance',\n",
    "             width=800)\n",
    "\n",
    "fig.update_traces(texttemplate='%{text:.3f}', textposition='outside')\n",
    "fig.show()\n",
    "\n",
    "\n",
    "\n",
    "\n"
   ]
  },
  {
   "cell_type": "code",
   "execution_count": 121,
   "metadata": {},
   "outputs": [
    {
     "data": {
      "application/vnd.plotly.v1+json": {
       "config": {
        "plotlyServerURL": "https://plot.ly"
       },
       "data": [
        {
         "marker": {
          "color": "LightSeaGreen",
          "size": 15
         },
         "type": "scatter",
         "x": [
          "",
          "PC1",
          "PC2",
          "PC3"
         ],
         "y": [
          0.665,
          0.747,
          0.806,
          null
         ]
        },
        {
         "marker": {
          "color": "RoyalBlue"
         },
         "type": "bar",
         "x": [
          "",
          "PC1",
          "PC2",
          "PC3"
         ],
         "y": [
          0.6648000354612411,
          0.08200105930833299,
          0.058725742386040405,
          null
         ]
        }
       ],
       "layout": {
        "template": {
         "data": {
          "bar": [
           {
            "error_x": {
             "color": "#2a3f5f"
            },
            "error_y": {
             "color": "#2a3f5f"
            },
            "marker": {
             "line": {
              "color": "#E5ECF6",
              "width": 0.5
             }
            },
            "type": "bar"
           }
          ],
          "barpolar": [
           {
            "marker": {
             "line": {
              "color": "#E5ECF6",
              "width": 0.5
             }
            },
            "type": "barpolar"
           }
          ],
          "carpet": [
           {
            "aaxis": {
             "endlinecolor": "#2a3f5f",
             "gridcolor": "white",
             "linecolor": "white",
             "minorgridcolor": "white",
             "startlinecolor": "#2a3f5f"
            },
            "baxis": {
             "endlinecolor": "#2a3f5f",
             "gridcolor": "white",
             "linecolor": "white",
             "minorgridcolor": "white",
             "startlinecolor": "#2a3f5f"
            },
            "type": "carpet"
           }
          ],
          "choropleth": [
           {
            "colorbar": {
             "outlinewidth": 0,
             "ticks": ""
            },
            "type": "choropleth"
           }
          ],
          "contour": [
           {
            "colorbar": {
             "outlinewidth": 0,
             "ticks": ""
            },
            "colorscale": [
             [
              0,
              "#0d0887"
             ],
             [
              0.1111111111111111,
              "#46039f"
             ],
             [
              0.2222222222222222,
              "#7201a8"
             ],
             [
              0.3333333333333333,
              "#9c179e"
             ],
             [
              0.4444444444444444,
              "#bd3786"
             ],
             [
              0.5555555555555556,
              "#d8576b"
             ],
             [
              0.6666666666666666,
              "#ed7953"
             ],
             [
              0.7777777777777778,
              "#fb9f3a"
             ],
             [
              0.8888888888888888,
              "#fdca26"
             ],
             [
              1,
              "#f0f921"
             ]
            ],
            "type": "contour"
           }
          ],
          "contourcarpet": [
           {
            "colorbar": {
             "outlinewidth": 0,
             "ticks": ""
            },
            "type": "contourcarpet"
           }
          ],
          "heatmap": [
           {
            "colorbar": {
             "outlinewidth": 0,
             "ticks": ""
            },
            "colorscale": [
             [
              0,
              "#0d0887"
             ],
             [
              0.1111111111111111,
              "#46039f"
             ],
             [
              0.2222222222222222,
              "#7201a8"
             ],
             [
              0.3333333333333333,
              "#9c179e"
             ],
             [
              0.4444444444444444,
              "#bd3786"
             ],
             [
              0.5555555555555556,
              "#d8576b"
             ],
             [
              0.6666666666666666,
              "#ed7953"
             ],
             [
              0.7777777777777778,
              "#fb9f3a"
             ],
             [
              0.8888888888888888,
              "#fdca26"
             ],
             [
              1,
              "#f0f921"
             ]
            ],
            "type": "heatmap"
           }
          ],
          "heatmapgl": [
           {
            "colorbar": {
             "outlinewidth": 0,
             "ticks": ""
            },
            "colorscale": [
             [
              0,
              "#0d0887"
             ],
             [
              0.1111111111111111,
              "#46039f"
             ],
             [
              0.2222222222222222,
              "#7201a8"
             ],
             [
              0.3333333333333333,
              "#9c179e"
             ],
             [
              0.4444444444444444,
              "#bd3786"
             ],
             [
              0.5555555555555556,
              "#d8576b"
             ],
             [
              0.6666666666666666,
              "#ed7953"
             ],
             [
              0.7777777777777778,
              "#fb9f3a"
             ],
             [
              0.8888888888888888,
              "#fdca26"
             ],
             [
              1,
              "#f0f921"
             ]
            ],
            "type": "heatmapgl"
           }
          ],
          "histogram": [
           {
            "marker": {
             "colorbar": {
              "outlinewidth": 0,
              "ticks": ""
             }
            },
            "type": "histogram"
           }
          ],
          "histogram2d": [
           {
            "colorbar": {
             "outlinewidth": 0,
             "ticks": ""
            },
            "colorscale": [
             [
              0,
              "#0d0887"
             ],
             [
              0.1111111111111111,
              "#46039f"
             ],
             [
              0.2222222222222222,
              "#7201a8"
             ],
             [
              0.3333333333333333,
              "#9c179e"
             ],
             [
              0.4444444444444444,
              "#bd3786"
             ],
             [
              0.5555555555555556,
              "#d8576b"
             ],
             [
              0.6666666666666666,
              "#ed7953"
             ],
             [
              0.7777777777777778,
              "#fb9f3a"
             ],
             [
              0.8888888888888888,
              "#fdca26"
             ],
             [
              1,
              "#f0f921"
             ]
            ],
            "type": "histogram2d"
           }
          ],
          "histogram2dcontour": [
           {
            "colorbar": {
             "outlinewidth": 0,
             "ticks": ""
            },
            "colorscale": [
             [
              0,
              "#0d0887"
             ],
             [
              0.1111111111111111,
              "#46039f"
             ],
             [
              0.2222222222222222,
              "#7201a8"
             ],
             [
              0.3333333333333333,
              "#9c179e"
             ],
             [
              0.4444444444444444,
              "#bd3786"
             ],
             [
              0.5555555555555556,
              "#d8576b"
             ],
             [
              0.6666666666666666,
              "#ed7953"
             ],
             [
              0.7777777777777778,
              "#fb9f3a"
             ],
             [
              0.8888888888888888,
              "#fdca26"
             ],
             [
              1,
              "#f0f921"
             ]
            ],
            "type": "histogram2dcontour"
           }
          ],
          "mesh3d": [
           {
            "colorbar": {
             "outlinewidth": 0,
             "ticks": ""
            },
            "type": "mesh3d"
           }
          ],
          "parcoords": [
           {
            "line": {
             "colorbar": {
              "outlinewidth": 0,
              "ticks": ""
             }
            },
            "type": "parcoords"
           }
          ],
          "pie": [
           {
            "automargin": true,
            "type": "pie"
           }
          ],
          "scatter": [
           {
            "marker": {
             "colorbar": {
              "outlinewidth": 0,
              "ticks": ""
             }
            },
            "type": "scatter"
           }
          ],
          "scatter3d": [
           {
            "line": {
             "colorbar": {
              "outlinewidth": 0,
              "ticks": ""
             }
            },
            "marker": {
             "colorbar": {
              "outlinewidth": 0,
              "ticks": ""
             }
            },
            "type": "scatter3d"
           }
          ],
          "scattercarpet": [
           {
            "marker": {
             "colorbar": {
              "outlinewidth": 0,
              "ticks": ""
             }
            },
            "type": "scattercarpet"
           }
          ],
          "scattergeo": [
           {
            "marker": {
             "colorbar": {
              "outlinewidth": 0,
              "ticks": ""
             }
            },
            "type": "scattergeo"
           }
          ],
          "scattergl": [
           {
            "marker": {
             "colorbar": {
              "outlinewidth": 0,
              "ticks": ""
             }
            },
            "type": "scattergl"
           }
          ],
          "scattermapbox": [
           {
            "marker": {
             "colorbar": {
              "outlinewidth": 0,
              "ticks": ""
             }
            },
            "type": "scattermapbox"
           }
          ],
          "scatterpolar": [
           {
            "marker": {
             "colorbar": {
              "outlinewidth": 0,
              "ticks": ""
             }
            },
            "type": "scatterpolar"
           }
          ],
          "scatterpolargl": [
           {
            "marker": {
             "colorbar": {
              "outlinewidth": 0,
              "ticks": ""
             }
            },
            "type": "scatterpolargl"
           }
          ],
          "scatterternary": [
           {
            "marker": {
             "colorbar": {
              "outlinewidth": 0,
              "ticks": ""
             }
            },
            "type": "scatterternary"
           }
          ],
          "surface": [
           {
            "colorbar": {
             "outlinewidth": 0,
             "ticks": ""
            },
            "colorscale": [
             [
              0,
              "#0d0887"
             ],
             [
              0.1111111111111111,
              "#46039f"
             ],
             [
              0.2222222222222222,
              "#7201a8"
             ],
             [
              0.3333333333333333,
              "#9c179e"
             ],
             [
              0.4444444444444444,
              "#bd3786"
             ],
             [
              0.5555555555555556,
              "#d8576b"
             ],
             [
              0.6666666666666666,
              "#ed7953"
             ],
             [
              0.7777777777777778,
              "#fb9f3a"
             ],
             [
              0.8888888888888888,
              "#fdca26"
             ],
             [
              1,
              "#f0f921"
             ]
            ],
            "type": "surface"
           }
          ],
          "table": [
           {
            "cells": {
             "fill": {
              "color": "#EBF0F8"
             },
             "line": {
              "color": "white"
             }
            },
            "header": {
             "fill": {
              "color": "#C8D4E3"
             },
             "line": {
              "color": "white"
             }
            },
            "type": "table"
           }
          ]
         },
         "layout": {
          "annotationdefaults": {
           "arrowcolor": "#2a3f5f",
           "arrowhead": 0,
           "arrowwidth": 1
          },
          "autotypenumbers": "strict",
          "coloraxis": {
           "colorbar": {
            "outlinewidth": 0,
            "ticks": ""
           }
          },
          "colorscale": {
           "diverging": [
            [
             0,
             "#8e0152"
            ],
            [
             0.1,
             "#c51b7d"
            ],
            [
             0.2,
             "#de77ae"
            ],
            [
             0.3,
             "#f1b6da"
            ],
            [
             0.4,
             "#fde0ef"
            ],
            [
             0.5,
             "#f7f7f7"
            ],
            [
             0.6,
             "#e6f5d0"
            ],
            [
             0.7,
             "#b8e186"
            ],
            [
             0.8,
             "#7fbc41"
            ],
            [
             0.9,
             "#4d9221"
            ],
            [
             1,
             "#276419"
            ]
           ],
           "sequential": [
            [
             0,
             "#0d0887"
            ],
            [
             0.1111111111111111,
             "#46039f"
            ],
            [
             0.2222222222222222,
             "#7201a8"
            ],
            [
             0.3333333333333333,
             "#9c179e"
            ],
            [
             0.4444444444444444,
             "#bd3786"
            ],
            [
             0.5555555555555556,
             "#d8576b"
            ],
            [
             0.6666666666666666,
             "#ed7953"
            ],
            [
             0.7777777777777778,
             "#fb9f3a"
            ],
            [
             0.8888888888888888,
             "#fdca26"
            ],
            [
             1,
             "#f0f921"
            ]
           ],
           "sequentialminus": [
            [
             0,
             "#0d0887"
            ],
            [
             0.1111111111111111,
             "#46039f"
            ],
            [
             0.2222222222222222,
             "#7201a8"
            ],
            [
             0.3333333333333333,
             "#9c179e"
            ],
            [
             0.4444444444444444,
             "#bd3786"
            ],
            [
             0.5555555555555556,
             "#d8576b"
            ],
            [
             0.6666666666666666,
             "#ed7953"
            ],
            [
             0.7777777777777778,
             "#fb9f3a"
            ],
            [
             0.8888888888888888,
             "#fdca26"
            ],
            [
             1,
             "#f0f921"
            ]
           ]
          },
          "colorway": [
           "#636efa",
           "#EF553B",
           "#00cc96",
           "#ab63fa",
           "#FFA15A",
           "#19d3f3",
           "#FF6692",
           "#B6E880",
           "#FF97FF",
           "#FECB52"
          ],
          "font": {
           "color": "#2a3f5f"
          },
          "geo": {
           "bgcolor": "white",
           "lakecolor": "white",
           "landcolor": "#E5ECF6",
           "showlakes": true,
           "showland": true,
           "subunitcolor": "white"
          },
          "hoverlabel": {
           "align": "left"
          },
          "hovermode": "closest",
          "mapbox": {
           "style": "light"
          },
          "paper_bgcolor": "white",
          "plot_bgcolor": "#E5ECF6",
          "polar": {
           "angularaxis": {
            "gridcolor": "white",
            "linecolor": "white",
            "ticks": ""
           },
           "bgcolor": "#E5ECF6",
           "radialaxis": {
            "gridcolor": "white",
            "linecolor": "white",
            "ticks": ""
           }
          },
          "scene": {
           "xaxis": {
            "backgroundcolor": "#E5ECF6",
            "gridcolor": "white",
            "gridwidth": 2,
            "linecolor": "white",
            "showbackground": true,
            "ticks": "",
            "zerolinecolor": "white"
           },
           "yaxis": {
            "backgroundcolor": "#E5ECF6",
            "gridcolor": "white",
            "gridwidth": 2,
            "linecolor": "white",
            "showbackground": true,
            "ticks": "",
            "zerolinecolor": "white"
           },
           "zaxis": {
            "backgroundcolor": "#E5ECF6",
            "gridcolor": "white",
            "gridwidth": 2,
            "linecolor": "white",
            "showbackground": true,
            "ticks": "",
            "zerolinecolor": "white"
           }
          },
          "shapedefaults": {
           "line": {
            "color": "#2a3f5f"
           }
          },
          "ternary": {
           "aaxis": {
            "gridcolor": "white",
            "linecolor": "white",
            "ticks": ""
           },
           "baxis": {
            "gridcolor": "white",
            "linecolor": "white",
            "ticks": ""
           },
           "bgcolor": "#E5ECF6",
           "caxis": {
            "gridcolor": "white",
            "linecolor": "white",
            "ticks": ""
           }
          },
          "title": {
           "x": 0.05
          },
          "xaxis": {
           "automargin": true,
           "gridcolor": "white",
           "linecolor": "white",
           "ticks": "",
           "title": {
            "standoff": 15
           },
           "zerolinecolor": "white",
           "zerolinewidth": 2
          },
          "yaxis": {
           "automargin": true,
           "gridcolor": "white",
           "linecolor": "white",
           "ticks": "",
           "title": {
            "standoff": 15
           },
           "zerolinecolor": "white",
           "zerolinewidth": 2
          }
         }
        }
       }
      },
      "text/html": [
       "<div>                            <div id=\"f96de886-86d2-4951-a5ea-ea92e6a201e2\" class=\"plotly-graph-div\" style=\"height:525px; width:100%;\"></div>            <script type=\"text/javascript\">                require([\"plotly\"], function(Plotly) {                    window.PLOTLYENV=window.PLOTLYENV || {};                                    if (document.getElementById(\"f96de886-86d2-4951-a5ea-ea92e6a201e2\")) {                    Plotly.newPlot(                        \"f96de886-86d2-4951-a5ea-ea92e6a201e2\",                        [{\"marker\": {\"color\": \"LightSeaGreen\", \"size\": 15}, \"type\": \"scatter\", \"x\": [\"\", \"PC1\", \"PC2\", \"PC3\"], \"y\": [0.665, 0.747, 0.806, null]}, {\"marker\": {\"color\": \"RoyalBlue\"}, \"type\": \"bar\", \"x\": [\"\", \"PC1\", \"PC2\", \"PC3\"], \"y\": [0.6648000354612411, 0.08200105930833299, 0.058725742386040405, null]}],                        {\"template\": {\"data\": {\"bar\": [{\"error_x\": {\"color\": \"#2a3f5f\"}, \"error_y\": {\"color\": \"#2a3f5f\"}, \"marker\": {\"line\": {\"color\": \"#E5ECF6\", \"width\": 0.5}}, \"type\": \"bar\"}], \"barpolar\": [{\"marker\": {\"line\": {\"color\": \"#E5ECF6\", \"width\": 0.5}}, \"type\": \"barpolar\"}], \"carpet\": [{\"aaxis\": {\"endlinecolor\": \"#2a3f5f\", \"gridcolor\": \"white\", \"linecolor\": \"white\", \"minorgridcolor\": \"white\", \"startlinecolor\": \"#2a3f5f\"}, \"baxis\": {\"endlinecolor\": \"#2a3f5f\", \"gridcolor\": \"white\", \"linecolor\": \"white\", \"minorgridcolor\": \"white\", \"startlinecolor\": \"#2a3f5f\"}, \"type\": \"carpet\"}], \"choropleth\": [{\"colorbar\": {\"outlinewidth\": 0, \"ticks\": \"\"}, \"type\": \"choropleth\"}], \"contour\": [{\"colorbar\": {\"outlinewidth\": 0, \"ticks\": \"\"}, \"colorscale\": [[0.0, \"#0d0887\"], [0.1111111111111111, \"#46039f\"], [0.2222222222222222, \"#7201a8\"], [0.3333333333333333, \"#9c179e\"], [0.4444444444444444, \"#bd3786\"], [0.5555555555555556, \"#d8576b\"], [0.6666666666666666, \"#ed7953\"], [0.7777777777777778, \"#fb9f3a\"], [0.8888888888888888, \"#fdca26\"], [1.0, \"#f0f921\"]], \"type\": \"contour\"}], \"contourcarpet\": [{\"colorbar\": {\"outlinewidth\": 0, \"ticks\": \"\"}, \"type\": \"contourcarpet\"}], \"heatmap\": [{\"colorbar\": {\"outlinewidth\": 0, \"ticks\": \"\"}, \"colorscale\": [[0.0, \"#0d0887\"], [0.1111111111111111, \"#46039f\"], [0.2222222222222222, \"#7201a8\"], [0.3333333333333333, \"#9c179e\"], [0.4444444444444444, \"#bd3786\"], [0.5555555555555556, \"#d8576b\"], [0.6666666666666666, \"#ed7953\"], [0.7777777777777778, \"#fb9f3a\"], [0.8888888888888888, \"#fdca26\"], [1.0, \"#f0f921\"]], \"type\": \"heatmap\"}], \"heatmapgl\": [{\"colorbar\": {\"outlinewidth\": 0, \"ticks\": \"\"}, \"colorscale\": [[0.0, \"#0d0887\"], [0.1111111111111111, \"#46039f\"], [0.2222222222222222, \"#7201a8\"], [0.3333333333333333, \"#9c179e\"], [0.4444444444444444, \"#bd3786\"], [0.5555555555555556, \"#d8576b\"], [0.6666666666666666, \"#ed7953\"], [0.7777777777777778, \"#fb9f3a\"], [0.8888888888888888, \"#fdca26\"], [1.0, \"#f0f921\"]], \"type\": \"heatmapgl\"}], \"histogram\": [{\"marker\": {\"colorbar\": {\"outlinewidth\": 0, \"ticks\": \"\"}}, \"type\": \"histogram\"}], \"histogram2d\": [{\"colorbar\": {\"outlinewidth\": 0, \"ticks\": \"\"}, \"colorscale\": [[0.0, \"#0d0887\"], [0.1111111111111111, \"#46039f\"], [0.2222222222222222, \"#7201a8\"], [0.3333333333333333, \"#9c179e\"], [0.4444444444444444, \"#bd3786\"], [0.5555555555555556, \"#d8576b\"], [0.6666666666666666, \"#ed7953\"], [0.7777777777777778, \"#fb9f3a\"], [0.8888888888888888, \"#fdca26\"], [1.0, \"#f0f921\"]], \"type\": \"histogram2d\"}], \"histogram2dcontour\": [{\"colorbar\": {\"outlinewidth\": 0, \"ticks\": \"\"}, \"colorscale\": [[0.0, \"#0d0887\"], [0.1111111111111111, \"#46039f\"], [0.2222222222222222, \"#7201a8\"], [0.3333333333333333, \"#9c179e\"], [0.4444444444444444, \"#bd3786\"], [0.5555555555555556, \"#d8576b\"], [0.6666666666666666, \"#ed7953\"], [0.7777777777777778, \"#fb9f3a\"], [0.8888888888888888, \"#fdca26\"], [1.0, \"#f0f921\"]], \"type\": \"histogram2dcontour\"}], \"mesh3d\": [{\"colorbar\": {\"outlinewidth\": 0, \"ticks\": \"\"}, \"type\": \"mesh3d\"}], \"parcoords\": [{\"line\": {\"colorbar\": {\"outlinewidth\": 0, \"ticks\": \"\"}}, \"type\": \"parcoords\"}], \"pie\": [{\"automargin\": true, \"type\": \"pie\"}], \"scatter\": [{\"marker\": {\"colorbar\": {\"outlinewidth\": 0, \"ticks\": \"\"}}, \"type\": \"scatter\"}], \"scatter3d\": [{\"line\": {\"colorbar\": {\"outlinewidth\": 0, \"ticks\": \"\"}}, \"marker\": {\"colorbar\": {\"outlinewidth\": 0, \"ticks\": \"\"}}, \"type\": \"scatter3d\"}], \"scattercarpet\": [{\"marker\": {\"colorbar\": {\"outlinewidth\": 0, \"ticks\": \"\"}}, \"type\": \"scattercarpet\"}], \"scattergeo\": [{\"marker\": {\"colorbar\": {\"outlinewidth\": 0, \"ticks\": \"\"}}, \"type\": \"scattergeo\"}], \"scattergl\": [{\"marker\": {\"colorbar\": {\"outlinewidth\": 0, \"ticks\": \"\"}}, \"type\": \"scattergl\"}], \"scattermapbox\": [{\"marker\": {\"colorbar\": {\"outlinewidth\": 0, \"ticks\": \"\"}}, \"type\": \"scattermapbox\"}], \"scatterpolar\": [{\"marker\": {\"colorbar\": {\"outlinewidth\": 0, \"ticks\": \"\"}}, \"type\": \"scatterpolar\"}], \"scatterpolargl\": [{\"marker\": {\"colorbar\": {\"outlinewidth\": 0, \"ticks\": \"\"}}, \"type\": \"scatterpolargl\"}], \"scatterternary\": [{\"marker\": {\"colorbar\": {\"outlinewidth\": 0, \"ticks\": \"\"}}, \"type\": \"scatterternary\"}], \"surface\": [{\"colorbar\": {\"outlinewidth\": 0, \"ticks\": \"\"}, \"colorscale\": [[0.0, \"#0d0887\"], [0.1111111111111111, \"#46039f\"], [0.2222222222222222, \"#7201a8\"], [0.3333333333333333, \"#9c179e\"], [0.4444444444444444, \"#bd3786\"], [0.5555555555555556, \"#d8576b\"], [0.6666666666666666, \"#ed7953\"], [0.7777777777777778, \"#fb9f3a\"], [0.8888888888888888, \"#fdca26\"], [1.0, \"#f0f921\"]], \"type\": \"surface\"}], \"table\": [{\"cells\": {\"fill\": {\"color\": \"#EBF0F8\"}, \"line\": {\"color\": \"white\"}}, \"header\": {\"fill\": {\"color\": \"#C8D4E3\"}, \"line\": {\"color\": \"white\"}}, \"type\": \"table\"}]}, \"layout\": {\"annotationdefaults\": {\"arrowcolor\": \"#2a3f5f\", \"arrowhead\": 0, \"arrowwidth\": 1}, \"autotypenumbers\": \"strict\", \"coloraxis\": {\"colorbar\": {\"outlinewidth\": 0, \"ticks\": \"\"}}, \"colorscale\": {\"diverging\": [[0, \"#8e0152\"], [0.1, \"#c51b7d\"], [0.2, \"#de77ae\"], [0.3, \"#f1b6da\"], [0.4, \"#fde0ef\"], [0.5, \"#f7f7f7\"], [0.6, \"#e6f5d0\"], [0.7, \"#b8e186\"], [0.8, \"#7fbc41\"], [0.9, \"#4d9221\"], [1, \"#276419\"]], \"sequential\": [[0.0, \"#0d0887\"], [0.1111111111111111, \"#46039f\"], [0.2222222222222222, \"#7201a8\"], [0.3333333333333333, \"#9c179e\"], [0.4444444444444444, \"#bd3786\"], [0.5555555555555556, \"#d8576b\"], [0.6666666666666666, \"#ed7953\"], [0.7777777777777778, \"#fb9f3a\"], [0.8888888888888888, \"#fdca26\"], [1.0, \"#f0f921\"]], \"sequentialminus\": [[0.0, \"#0d0887\"], [0.1111111111111111, \"#46039f\"], [0.2222222222222222, \"#7201a8\"], [0.3333333333333333, \"#9c179e\"], [0.4444444444444444, \"#bd3786\"], [0.5555555555555556, \"#d8576b\"], [0.6666666666666666, \"#ed7953\"], [0.7777777777777778, \"#fb9f3a\"], [0.8888888888888888, \"#fdca26\"], [1.0, \"#f0f921\"]]}, \"colorway\": [\"#636efa\", \"#EF553B\", \"#00cc96\", \"#ab63fa\", \"#FFA15A\", \"#19d3f3\", \"#FF6692\", \"#B6E880\", \"#FF97FF\", \"#FECB52\"], \"font\": {\"color\": \"#2a3f5f\"}, \"geo\": {\"bgcolor\": \"white\", \"lakecolor\": \"white\", \"landcolor\": \"#E5ECF6\", \"showlakes\": true, \"showland\": true, \"subunitcolor\": \"white\"}, \"hoverlabel\": {\"align\": \"left\"}, \"hovermode\": \"closest\", \"mapbox\": {\"style\": \"light\"}, \"paper_bgcolor\": \"white\", \"plot_bgcolor\": \"#E5ECF6\", \"polar\": {\"angularaxis\": {\"gridcolor\": \"white\", \"linecolor\": \"white\", \"ticks\": \"\"}, \"bgcolor\": \"#E5ECF6\", \"radialaxis\": {\"gridcolor\": \"white\", \"linecolor\": \"white\", \"ticks\": \"\"}}, \"scene\": {\"xaxis\": {\"backgroundcolor\": \"#E5ECF6\", \"gridcolor\": \"white\", \"gridwidth\": 2, \"linecolor\": \"white\", \"showbackground\": true, \"ticks\": \"\", \"zerolinecolor\": \"white\"}, \"yaxis\": {\"backgroundcolor\": \"#E5ECF6\", \"gridcolor\": \"white\", \"gridwidth\": 2, \"linecolor\": \"white\", \"showbackground\": true, \"ticks\": \"\", \"zerolinecolor\": \"white\"}, \"zaxis\": {\"backgroundcolor\": \"#E5ECF6\", \"gridcolor\": \"white\", \"gridwidth\": 2, \"linecolor\": \"white\", \"showbackground\": true, \"ticks\": \"\", \"zerolinecolor\": \"white\"}}, \"shapedefaults\": {\"line\": {\"color\": \"#2a3f5f\"}}, \"ternary\": {\"aaxis\": {\"gridcolor\": \"white\", \"linecolor\": \"white\", \"ticks\": \"\"}, \"baxis\": {\"gridcolor\": \"white\", \"linecolor\": \"white\", \"ticks\": \"\"}, \"bgcolor\": \"#E5ECF6\", \"caxis\": {\"gridcolor\": \"white\", \"linecolor\": \"white\", \"ticks\": \"\"}}, \"title\": {\"x\": 0.05}, \"xaxis\": {\"automargin\": true, \"gridcolor\": \"white\", \"linecolor\": \"white\", \"ticks\": \"\", \"title\": {\"standoff\": 15}, \"zerolinecolor\": \"white\", \"zerolinewidth\": 2}, \"yaxis\": {\"automargin\": true, \"gridcolor\": \"white\", \"linecolor\": \"white\", \"ticks\": \"\", \"title\": {\"standoff\": 15}, \"zerolinecolor\": \"white\", \"zerolinewidth\": 2}}}},                        {\"responsive\": true}                    ).then(function(){\n",
       "                            \n",
       "var gd = document.getElementById('f96de886-86d2-4951-a5ea-ea92e6a201e2');\n",
       "var x = new MutationObserver(function (mutations, observer) {{\n",
       "        var display = window.getComputedStyle(gd).display;\n",
       "        if (!display || display === 'none') {{\n",
       "            console.log([gd, 'removed!']);\n",
       "            Plotly.purge(gd);\n",
       "            observer.disconnect();\n",
       "        }}\n",
       "}});\n",
       "\n",
       "// Listen for the removal of the full notebook cells\n",
       "var notebookContainer = gd.closest('#notebook-container');\n",
       "if (notebookContainer) {{\n",
       "    x.observe(notebookContainer, {childList: true});\n",
       "}}\n",
       "\n",
       "// Listen for the clearing of the current output cell\n",
       "var outputEl = gd.closest('.output');\n",
       "if (outputEl) {{\n",
       "    x.observe(outputEl, {childList: true});\n",
       "}}\n",
       "\n",
       "                        })                };                });            </script>        </div>"
      ]
     },
     "metadata": {},
     "output_type": "display_data"
    }
   ],
   "source": [
    "import plotly.graph_objects as go\n",
    "\n",
    "fig = go.Figure()\n",
    "\n",
    "fig.add_trace(\n",
    "    go.Scatter(\n",
    "        x=df_explained_variance['PC'],\n",
    "        y=df_explained_variance['Cumulative Variance'],\n",
    "        marker=dict(size=15, color=\"LightSeaGreen\")\n",
    "    ))\n",
    "\n",
    "fig.add_trace(\n",
    "    go.Bar(\n",
    "        x=df_explained_variance['PC'],\n",
    "        y=df_explained_variance['Explained Variance'],\n",
    "        marker=dict(color=\"RoyalBlue\")\n",
    "    ))\n",
    "\n",
    "fig.show()"
   ]
  },
  {
   "cell_type": "code",
   "execution_count": 122,
   "metadata": {},
   "outputs": [
    {
     "data": {
      "application/vnd.plotly.v1+json": {
       "config": {
        "plotlyServerURL": "https://plot.ly"
       },
       "data": [
        {
         "marker": {
          "color": "LightSeaGreen",
          "size": 15
         },
         "type": "scatter",
         "x": [
          "",
          "PC1",
          "PC2",
          "PC3"
         ],
         "xaxis": "x",
         "y": [
          0.665,
          0.747,
          0.806,
          null
         ],
         "yaxis": "y"
        },
        {
         "marker": {
          "color": "RoyalBlue"
         },
         "type": "bar",
         "x": [
          "",
          "PC1",
          "PC2",
          "PC3"
         ],
         "xaxis": "x2",
         "y": [
          0.6648000354612411,
          0.08200105930833299,
          0.058725742386040405,
          null
         ],
         "yaxis": "y2"
        }
       ],
       "layout": {
        "template": {
         "data": {
          "bar": [
           {
            "error_x": {
             "color": "#2a3f5f"
            },
            "error_y": {
             "color": "#2a3f5f"
            },
            "marker": {
             "line": {
              "color": "#E5ECF6",
              "width": 0.5
             }
            },
            "type": "bar"
           }
          ],
          "barpolar": [
           {
            "marker": {
             "line": {
              "color": "#E5ECF6",
              "width": 0.5
             }
            },
            "type": "barpolar"
           }
          ],
          "carpet": [
           {
            "aaxis": {
             "endlinecolor": "#2a3f5f",
             "gridcolor": "white",
             "linecolor": "white",
             "minorgridcolor": "white",
             "startlinecolor": "#2a3f5f"
            },
            "baxis": {
             "endlinecolor": "#2a3f5f",
             "gridcolor": "white",
             "linecolor": "white",
             "minorgridcolor": "white",
             "startlinecolor": "#2a3f5f"
            },
            "type": "carpet"
           }
          ],
          "choropleth": [
           {
            "colorbar": {
             "outlinewidth": 0,
             "ticks": ""
            },
            "type": "choropleth"
           }
          ],
          "contour": [
           {
            "colorbar": {
             "outlinewidth": 0,
             "ticks": ""
            },
            "colorscale": [
             [
              0,
              "#0d0887"
             ],
             [
              0.1111111111111111,
              "#46039f"
             ],
             [
              0.2222222222222222,
              "#7201a8"
             ],
             [
              0.3333333333333333,
              "#9c179e"
             ],
             [
              0.4444444444444444,
              "#bd3786"
             ],
             [
              0.5555555555555556,
              "#d8576b"
             ],
             [
              0.6666666666666666,
              "#ed7953"
             ],
             [
              0.7777777777777778,
              "#fb9f3a"
             ],
             [
              0.8888888888888888,
              "#fdca26"
             ],
             [
              1,
              "#f0f921"
             ]
            ],
            "type": "contour"
           }
          ],
          "contourcarpet": [
           {
            "colorbar": {
             "outlinewidth": 0,
             "ticks": ""
            },
            "type": "contourcarpet"
           }
          ],
          "heatmap": [
           {
            "colorbar": {
             "outlinewidth": 0,
             "ticks": ""
            },
            "colorscale": [
             [
              0,
              "#0d0887"
             ],
             [
              0.1111111111111111,
              "#46039f"
             ],
             [
              0.2222222222222222,
              "#7201a8"
             ],
             [
              0.3333333333333333,
              "#9c179e"
             ],
             [
              0.4444444444444444,
              "#bd3786"
             ],
             [
              0.5555555555555556,
              "#d8576b"
             ],
             [
              0.6666666666666666,
              "#ed7953"
             ],
             [
              0.7777777777777778,
              "#fb9f3a"
             ],
             [
              0.8888888888888888,
              "#fdca26"
             ],
             [
              1,
              "#f0f921"
             ]
            ],
            "type": "heatmap"
           }
          ],
          "heatmapgl": [
           {
            "colorbar": {
             "outlinewidth": 0,
             "ticks": ""
            },
            "colorscale": [
             [
              0,
              "#0d0887"
             ],
             [
              0.1111111111111111,
              "#46039f"
             ],
             [
              0.2222222222222222,
              "#7201a8"
             ],
             [
              0.3333333333333333,
              "#9c179e"
             ],
             [
              0.4444444444444444,
              "#bd3786"
             ],
             [
              0.5555555555555556,
              "#d8576b"
             ],
             [
              0.6666666666666666,
              "#ed7953"
             ],
             [
              0.7777777777777778,
              "#fb9f3a"
             ],
             [
              0.8888888888888888,
              "#fdca26"
             ],
             [
              1,
              "#f0f921"
             ]
            ],
            "type": "heatmapgl"
           }
          ],
          "histogram": [
           {
            "marker": {
             "colorbar": {
              "outlinewidth": 0,
              "ticks": ""
             }
            },
            "type": "histogram"
           }
          ],
          "histogram2d": [
           {
            "colorbar": {
             "outlinewidth": 0,
             "ticks": ""
            },
            "colorscale": [
             [
              0,
              "#0d0887"
             ],
             [
              0.1111111111111111,
              "#46039f"
             ],
             [
              0.2222222222222222,
              "#7201a8"
             ],
             [
              0.3333333333333333,
              "#9c179e"
             ],
             [
              0.4444444444444444,
              "#bd3786"
             ],
             [
              0.5555555555555556,
              "#d8576b"
             ],
             [
              0.6666666666666666,
              "#ed7953"
             ],
             [
              0.7777777777777778,
              "#fb9f3a"
             ],
             [
              0.8888888888888888,
              "#fdca26"
             ],
             [
              1,
              "#f0f921"
             ]
            ],
            "type": "histogram2d"
           }
          ],
          "histogram2dcontour": [
           {
            "colorbar": {
             "outlinewidth": 0,
             "ticks": ""
            },
            "colorscale": [
             [
              0,
              "#0d0887"
             ],
             [
              0.1111111111111111,
              "#46039f"
             ],
             [
              0.2222222222222222,
              "#7201a8"
             ],
             [
              0.3333333333333333,
              "#9c179e"
             ],
             [
              0.4444444444444444,
              "#bd3786"
             ],
             [
              0.5555555555555556,
              "#d8576b"
             ],
             [
              0.6666666666666666,
              "#ed7953"
             ],
             [
              0.7777777777777778,
              "#fb9f3a"
             ],
             [
              0.8888888888888888,
              "#fdca26"
             ],
             [
              1,
              "#f0f921"
             ]
            ],
            "type": "histogram2dcontour"
           }
          ],
          "mesh3d": [
           {
            "colorbar": {
             "outlinewidth": 0,
             "ticks": ""
            },
            "type": "mesh3d"
           }
          ],
          "parcoords": [
           {
            "line": {
             "colorbar": {
              "outlinewidth": 0,
              "ticks": ""
             }
            },
            "type": "parcoords"
           }
          ],
          "pie": [
           {
            "automargin": true,
            "type": "pie"
           }
          ],
          "scatter": [
           {
            "marker": {
             "colorbar": {
              "outlinewidth": 0,
              "ticks": ""
             }
            },
            "type": "scatter"
           }
          ],
          "scatter3d": [
           {
            "line": {
             "colorbar": {
              "outlinewidth": 0,
              "ticks": ""
             }
            },
            "marker": {
             "colorbar": {
              "outlinewidth": 0,
              "ticks": ""
             }
            },
            "type": "scatter3d"
           }
          ],
          "scattercarpet": [
           {
            "marker": {
             "colorbar": {
              "outlinewidth": 0,
              "ticks": ""
             }
            },
            "type": "scattercarpet"
           }
          ],
          "scattergeo": [
           {
            "marker": {
             "colorbar": {
              "outlinewidth": 0,
              "ticks": ""
             }
            },
            "type": "scattergeo"
           }
          ],
          "scattergl": [
           {
            "marker": {
             "colorbar": {
              "outlinewidth": 0,
              "ticks": ""
             }
            },
            "type": "scattergl"
           }
          ],
          "scattermapbox": [
           {
            "marker": {
             "colorbar": {
              "outlinewidth": 0,
              "ticks": ""
             }
            },
            "type": "scattermapbox"
           }
          ],
          "scatterpolar": [
           {
            "marker": {
             "colorbar": {
              "outlinewidth": 0,
              "ticks": ""
             }
            },
            "type": "scatterpolar"
           }
          ],
          "scatterpolargl": [
           {
            "marker": {
             "colorbar": {
              "outlinewidth": 0,
              "ticks": ""
             }
            },
            "type": "scatterpolargl"
           }
          ],
          "scatterternary": [
           {
            "marker": {
             "colorbar": {
              "outlinewidth": 0,
              "ticks": ""
             }
            },
            "type": "scatterternary"
           }
          ],
          "surface": [
           {
            "colorbar": {
             "outlinewidth": 0,
             "ticks": ""
            },
            "colorscale": [
             [
              0,
              "#0d0887"
             ],
             [
              0.1111111111111111,
              "#46039f"
             ],
             [
              0.2222222222222222,
              "#7201a8"
             ],
             [
              0.3333333333333333,
              "#9c179e"
             ],
             [
              0.4444444444444444,
              "#bd3786"
             ],
             [
              0.5555555555555556,
              "#d8576b"
             ],
             [
              0.6666666666666666,
              "#ed7953"
             ],
             [
              0.7777777777777778,
              "#fb9f3a"
             ],
             [
              0.8888888888888888,
              "#fdca26"
             ],
             [
              1,
              "#f0f921"
             ]
            ],
            "type": "surface"
           }
          ],
          "table": [
           {
            "cells": {
             "fill": {
              "color": "#EBF0F8"
             },
             "line": {
              "color": "white"
             }
            },
            "header": {
             "fill": {
              "color": "#C8D4E3"
             },
             "line": {
              "color": "white"
             }
            },
            "type": "table"
           }
          ]
         },
         "layout": {
          "annotationdefaults": {
           "arrowcolor": "#2a3f5f",
           "arrowhead": 0,
           "arrowwidth": 1
          },
          "autotypenumbers": "strict",
          "coloraxis": {
           "colorbar": {
            "outlinewidth": 0,
            "ticks": ""
           }
          },
          "colorscale": {
           "diverging": [
            [
             0,
             "#8e0152"
            ],
            [
             0.1,
             "#c51b7d"
            ],
            [
             0.2,
             "#de77ae"
            ],
            [
             0.3,
             "#f1b6da"
            ],
            [
             0.4,
             "#fde0ef"
            ],
            [
             0.5,
             "#f7f7f7"
            ],
            [
             0.6,
             "#e6f5d0"
            ],
            [
             0.7,
             "#b8e186"
            ],
            [
             0.8,
             "#7fbc41"
            ],
            [
             0.9,
             "#4d9221"
            ],
            [
             1,
             "#276419"
            ]
           ],
           "sequential": [
            [
             0,
             "#0d0887"
            ],
            [
             0.1111111111111111,
             "#46039f"
            ],
            [
             0.2222222222222222,
             "#7201a8"
            ],
            [
             0.3333333333333333,
             "#9c179e"
            ],
            [
             0.4444444444444444,
             "#bd3786"
            ],
            [
             0.5555555555555556,
             "#d8576b"
            ],
            [
             0.6666666666666666,
             "#ed7953"
            ],
            [
             0.7777777777777778,
             "#fb9f3a"
            ],
            [
             0.8888888888888888,
             "#fdca26"
            ],
            [
             1,
             "#f0f921"
            ]
           ],
           "sequentialminus": [
            [
             0,
             "#0d0887"
            ],
            [
             0.1111111111111111,
             "#46039f"
            ],
            [
             0.2222222222222222,
             "#7201a8"
            ],
            [
             0.3333333333333333,
             "#9c179e"
            ],
            [
             0.4444444444444444,
             "#bd3786"
            ],
            [
             0.5555555555555556,
             "#d8576b"
            ],
            [
             0.6666666666666666,
             "#ed7953"
            ],
            [
             0.7777777777777778,
             "#fb9f3a"
            ],
            [
             0.8888888888888888,
             "#fdca26"
            ],
            [
             1,
             "#f0f921"
            ]
           ]
          },
          "colorway": [
           "#636efa",
           "#EF553B",
           "#00cc96",
           "#ab63fa",
           "#FFA15A",
           "#19d3f3",
           "#FF6692",
           "#B6E880",
           "#FF97FF",
           "#FECB52"
          ],
          "font": {
           "color": "#2a3f5f"
          },
          "geo": {
           "bgcolor": "white",
           "lakecolor": "white",
           "landcolor": "#E5ECF6",
           "showlakes": true,
           "showland": true,
           "subunitcolor": "white"
          },
          "hoverlabel": {
           "align": "left"
          },
          "hovermode": "closest",
          "mapbox": {
           "style": "light"
          },
          "paper_bgcolor": "white",
          "plot_bgcolor": "#E5ECF6",
          "polar": {
           "angularaxis": {
            "gridcolor": "white",
            "linecolor": "white",
            "ticks": ""
           },
           "bgcolor": "#E5ECF6",
           "radialaxis": {
            "gridcolor": "white",
            "linecolor": "white",
            "ticks": ""
           }
          },
          "scene": {
           "xaxis": {
            "backgroundcolor": "#E5ECF6",
            "gridcolor": "white",
            "gridwidth": 2,
            "linecolor": "white",
            "showbackground": true,
            "ticks": "",
            "zerolinecolor": "white"
           },
           "yaxis": {
            "backgroundcolor": "#E5ECF6",
            "gridcolor": "white",
            "gridwidth": 2,
            "linecolor": "white",
            "showbackground": true,
            "ticks": "",
            "zerolinecolor": "white"
           },
           "zaxis": {
            "backgroundcolor": "#E5ECF6",
            "gridcolor": "white",
            "gridwidth": 2,
            "linecolor": "white",
            "showbackground": true,
            "ticks": "",
            "zerolinecolor": "white"
           }
          },
          "shapedefaults": {
           "line": {
            "color": "#2a3f5f"
           }
          },
          "ternary": {
           "aaxis": {
            "gridcolor": "white",
            "linecolor": "white",
            "ticks": ""
           },
           "baxis": {
            "gridcolor": "white",
            "linecolor": "white",
            "ticks": ""
           },
           "bgcolor": "#E5ECF6",
           "caxis": {
            "gridcolor": "white",
            "linecolor": "white",
            "ticks": ""
           }
          },
          "title": {
           "x": 0.05
          },
          "xaxis": {
           "automargin": true,
           "gridcolor": "white",
           "linecolor": "white",
           "ticks": "",
           "title": {
            "standoff": 15
           },
           "zerolinecolor": "white",
           "zerolinewidth": 2
          },
          "yaxis": {
           "automargin": true,
           "gridcolor": "white",
           "linecolor": "white",
           "ticks": "",
           "title": {
            "standoff": 15
           },
           "zerolinecolor": "white",
           "zerolinewidth": 2
          }
         }
        },
        "xaxis": {
         "anchor": "y",
         "domain": [
          0,
          0.45
         ]
        },
        "xaxis2": {
         "anchor": "y2",
         "domain": [
          0.55,
          1
         ]
        },
        "yaxis": {
         "anchor": "x",
         "domain": [
          0,
          1
         ]
        },
        "yaxis2": {
         "anchor": "x2",
         "domain": [
          0,
          1
         ]
        }
       }
      },
      "text/html": [
       "<div>                            <div id=\"f1e9cc82-8cd7-4e97-ad93-5b21cdaf1714\" class=\"plotly-graph-div\" style=\"height:525px; width:100%;\"></div>            <script type=\"text/javascript\">                require([\"plotly\"], function(Plotly) {                    window.PLOTLYENV=window.PLOTLYENV || {};                                    if (document.getElementById(\"f1e9cc82-8cd7-4e97-ad93-5b21cdaf1714\")) {                    Plotly.newPlot(                        \"f1e9cc82-8cd7-4e97-ad93-5b21cdaf1714\",                        [{\"marker\": {\"color\": \"LightSeaGreen\", \"size\": 15}, \"type\": \"scatter\", \"x\": [\"\", \"PC1\", \"PC2\", \"PC3\"], \"xaxis\": \"x\", \"y\": [0.665, 0.747, 0.806, null], \"yaxis\": \"y\"}, {\"marker\": {\"color\": \"RoyalBlue\"}, \"type\": \"bar\", \"x\": [\"\", \"PC1\", \"PC2\", \"PC3\"], \"xaxis\": \"x2\", \"y\": [0.6648000354612411, 0.08200105930833299, 0.058725742386040405, null], \"yaxis\": \"y2\"}],                        {\"template\": {\"data\": {\"bar\": [{\"error_x\": {\"color\": \"#2a3f5f\"}, \"error_y\": {\"color\": \"#2a3f5f\"}, \"marker\": {\"line\": {\"color\": \"#E5ECF6\", \"width\": 0.5}}, \"type\": \"bar\"}], \"barpolar\": [{\"marker\": {\"line\": {\"color\": \"#E5ECF6\", \"width\": 0.5}}, \"type\": \"barpolar\"}], \"carpet\": [{\"aaxis\": {\"endlinecolor\": \"#2a3f5f\", \"gridcolor\": \"white\", \"linecolor\": \"white\", \"minorgridcolor\": \"white\", \"startlinecolor\": \"#2a3f5f\"}, \"baxis\": {\"endlinecolor\": \"#2a3f5f\", \"gridcolor\": \"white\", \"linecolor\": \"white\", \"minorgridcolor\": \"white\", \"startlinecolor\": \"#2a3f5f\"}, \"type\": \"carpet\"}], \"choropleth\": [{\"colorbar\": {\"outlinewidth\": 0, \"ticks\": \"\"}, \"type\": \"choropleth\"}], \"contour\": [{\"colorbar\": {\"outlinewidth\": 0, \"ticks\": \"\"}, \"colorscale\": [[0.0, \"#0d0887\"], [0.1111111111111111, \"#46039f\"], [0.2222222222222222, \"#7201a8\"], [0.3333333333333333, \"#9c179e\"], [0.4444444444444444, \"#bd3786\"], [0.5555555555555556, \"#d8576b\"], [0.6666666666666666, \"#ed7953\"], [0.7777777777777778, \"#fb9f3a\"], [0.8888888888888888, \"#fdca26\"], [1.0, \"#f0f921\"]], \"type\": \"contour\"}], \"contourcarpet\": [{\"colorbar\": {\"outlinewidth\": 0, \"ticks\": \"\"}, \"type\": \"contourcarpet\"}], \"heatmap\": [{\"colorbar\": {\"outlinewidth\": 0, \"ticks\": \"\"}, \"colorscale\": [[0.0, \"#0d0887\"], [0.1111111111111111, \"#46039f\"], [0.2222222222222222, \"#7201a8\"], [0.3333333333333333, \"#9c179e\"], [0.4444444444444444, \"#bd3786\"], [0.5555555555555556, \"#d8576b\"], [0.6666666666666666, \"#ed7953\"], [0.7777777777777778, \"#fb9f3a\"], [0.8888888888888888, \"#fdca26\"], [1.0, \"#f0f921\"]], \"type\": \"heatmap\"}], \"heatmapgl\": [{\"colorbar\": {\"outlinewidth\": 0, \"ticks\": \"\"}, \"colorscale\": [[0.0, \"#0d0887\"], [0.1111111111111111, \"#46039f\"], [0.2222222222222222, \"#7201a8\"], [0.3333333333333333, \"#9c179e\"], [0.4444444444444444, \"#bd3786\"], [0.5555555555555556, \"#d8576b\"], [0.6666666666666666, \"#ed7953\"], [0.7777777777777778, \"#fb9f3a\"], [0.8888888888888888, \"#fdca26\"], [1.0, \"#f0f921\"]], \"type\": \"heatmapgl\"}], \"histogram\": [{\"marker\": {\"colorbar\": {\"outlinewidth\": 0, \"ticks\": \"\"}}, \"type\": \"histogram\"}], \"histogram2d\": [{\"colorbar\": {\"outlinewidth\": 0, \"ticks\": \"\"}, \"colorscale\": [[0.0, \"#0d0887\"], [0.1111111111111111, \"#46039f\"], [0.2222222222222222, \"#7201a8\"], [0.3333333333333333, \"#9c179e\"], [0.4444444444444444, \"#bd3786\"], [0.5555555555555556, \"#d8576b\"], [0.6666666666666666, \"#ed7953\"], [0.7777777777777778, \"#fb9f3a\"], [0.8888888888888888, \"#fdca26\"], [1.0, \"#f0f921\"]], \"type\": \"histogram2d\"}], \"histogram2dcontour\": [{\"colorbar\": {\"outlinewidth\": 0, \"ticks\": \"\"}, \"colorscale\": [[0.0, \"#0d0887\"], [0.1111111111111111, \"#46039f\"], [0.2222222222222222, \"#7201a8\"], [0.3333333333333333, \"#9c179e\"], [0.4444444444444444, \"#bd3786\"], [0.5555555555555556, \"#d8576b\"], [0.6666666666666666, \"#ed7953\"], [0.7777777777777778, \"#fb9f3a\"], [0.8888888888888888, \"#fdca26\"], [1.0, \"#f0f921\"]], \"type\": \"histogram2dcontour\"}], \"mesh3d\": [{\"colorbar\": {\"outlinewidth\": 0, \"ticks\": \"\"}, \"type\": \"mesh3d\"}], \"parcoords\": [{\"line\": {\"colorbar\": {\"outlinewidth\": 0, \"ticks\": \"\"}}, \"type\": \"parcoords\"}], \"pie\": [{\"automargin\": true, \"type\": \"pie\"}], \"scatter\": [{\"marker\": {\"colorbar\": {\"outlinewidth\": 0, \"ticks\": \"\"}}, \"type\": \"scatter\"}], \"scatter3d\": [{\"line\": {\"colorbar\": {\"outlinewidth\": 0, \"ticks\": \"\"}}, \"marker\": {\"colorbar\": {\"outlinewidth\": 0, \"ticks\": \"\"}}, \"type\": \"scatter3d\"}], \"scattercarpet\": [{\"marker\": {\"colorbar\": {\"outlinewidth\": 0, \"ticks\": \"\"}}, \"type\": \"scattercarpet\"}], \"scattergeo\": [{\"marker\": {\"colorbar\": {\"outlinewidth\": 0, \"ticks\": \"\"}}, \"type\": \"scattergeo\"}], \"scattergl\": [{\"marker\": {\"colorbar\": {\"outlinewidth\": 0, \"ticks\": \"\"}}, \"type\": \"scattergl\"}], \"scattermapbox\": [{\"marker\": {\"colorbar\": {\"outlinewidth\": 0, \"ticks\": \"\"}}, \"type\": \"scattermapbox\"}], \"scatterpolar\": [{\"marker\": {\"colorbar\": {\"outlinewidth\": 0, \"ticks\": \"\"}}, \"type\": \"scatterpolar\"}], \"scatterpolargl\": [{\"marker\": {\"colorbar\": {\"outlinewidth\": 0, \"ticks\": \"\"}}, \"type\": \"scatterpolargl\"}], \"scatterternary\": [{\"marker\": {\"colorbar\": {\"outlinewidth\": 0, \"ticks\": \"\"}}, \"type\": \"scatterternary\"}], \"surface\": [{\"colorbar\": {\"outlinewidth\": 0, \"ticks\": \"\"}, \"colorscale\": [[0.0, \"#0d0887\"], [0.1111111111111111, \"#46039f\"], [0.2222222222222222, \"#7201a8\"], [0.3333333333333333, \"#9c179e\"], [0.4444444444444444, \"#bd3786\"], [0.5555555555555556, \"#d8576b\"], [0.6666666666666666, \"#ed7953\"], [0.7777777777777778, \"#fb9f3a\"], [0.8888888888888888, \"#fdca26\"], [1.0, \"#f0f921\"]], \"type\": \"surface\"}], \"table\": [{\"cells\": {\"fill\": {\"color\": \"#EBF0F8\"}, \"line\": {\"color\": \"white\"}}, \"header\": {\"fill\": {\"color\": \"#C8D4E3\"}, \"line\": {\"color\": \"white\"}}, \"type\": \"table\"}]}, \"layout\": {\"annotationdefaults\": {\"arrowcolor\": \"#2a3f5f\", \"arrowhead\": 0, \"arrowwidth\": 1}, \"autotypenumbers\": \"strict\", \"coloraxis\": {\"colorbar\": {\"outlinewidth\": 0, \"ticks\": \"\"}}, \"colorscale\": {\"diverging\": [[0, \"#8e0152\"], [0.1, \"#c51b7d\"], [0.2, \"#de77ae\"], [0.3, \"#f1b6da\"], [0.4, \"#fde0ef\"], [0.5, \"#f7f7f7\"], [0.6, \"#e6f5d0\"], [0.7, \"#b8e186\"], [0.8, \"#7fbc41\"], [0.9, \"#4d9221\"], [1, \"#276419\"]], \"sequential\": [[0.0, \"#0d0887\"], [0.1111111111111111, \"#46039f\"], [0.2222222222222222, \"#7201a8\"], [0.3333333333333333, \"#9c179e\"], [0.4444444444444444, \"#bd3786\"], [0.5555555555555556, \"#d8576b\"], [0.6666666666666666, \"#ed7953\"], [0.7777777777777778, \"#fb9f3a\"], [0.8888888888888888, \"#fdca26\"], [1.0, \"#f0f921\"]], \"sequentialminus\": [[0.0, \"#0d0887\"], [0.1111111111111111, \"#46039f\"], [0.2222222222222222, \"#7201a8\"], [0.3333333333333333, \"#9c179e\"], [0.4444444444444444, \"#bd3786\"], [0.5555555555555556, \"#d8576b\"], [0.6666666666666666, \"#ed7953\"], [0.7777777777777778, \"#fb9f3a\"], [0.8888888888888888, \"#fdca26\"], [1.0, \"#f0f921\"]]}, \"colorway\": [\"#636efa\", \"#EF553B\", \"#00cc96\", \"#ab63fa\", \"#FFA15A\", \"#19d3f3\", \"#FF6692\", \"#B6E880\", \"#FF97FF\", \"#FECB52\"], \"font\": {\"color\": \"#2a3f5f\"}, \"geo\": {\"bgcolor\": \"white\", \"lakecolor\": \"white\", \"landcolor\": \"#E5ECF6\", \"showlakes\": true, \"showland\": true, \"subunitcolor\": \"white\"}, \"hoverlabel\": {\"align\": \"left\"}, \"hovermode\": \"closest\", \"mapbox\": {\"style\": \"light\"}, \"paper_bgcolor\": \"white\", \"plot_bgcolor\": \"#E5ECF6\", \"polar\": {\"angularaxis\": {\"gridcolor\": \"white\", \"linecolor\": \"white\", \"ticks\": \"\"}, \"bgcolor\": \"#E5ECF6\", \"radialaxis\": {\"gridcolor\": \"white\", \"linecolor\": \"white\", \"ticks\": \"\"}}, \"scene\": {\"xaxis\": {\"backgroundcolor\": \"#E5ECF6\", \"gridcolor\": \"white\", \"gridwidth\": 2, \"linecolor\": \"white\", \"showbackground\": true, \"ticks\": \"\", \"zerolinecolor\": \"white\"}, \"yaxis\": {\"backgroundcolor\": \"#E5ECF6\", \"gridcolor\": \"white\", \"gridwidth\": 2, \"linecolor\": \"white\", \"showbackground\": true, \"ticks\": \"\", \"zerolinecolor\": \"white\"}, \"zaxis\": {\"backgroundcolor\": \"#E5ECF6\", \"gridcolor\": \"white\", \"gridwidth\": 2, \"linecolor\": \"white\", \"showbackground\": true, \"ticks\": \"\", \"zerolinecolor\": \"white\"}}, \"shapedefaults\": {\"line\": {\"color\": \"#2a3f5f\"}}, \"ternary\": {\"aaxis\": {\"gridcolor\": \"white\", \"linecolor\": \"white\", \"ticks\": \"\"}, \"baxis\": {\"gridcolor\": \"white\", \"linecolor\": \"white\", \"ticks\": \"\"}, \"bgcolor\": \"#E5ECF6\", \"caxis\": {\"gridcolor\": \"white\", \"linecolor\": \"white\", \"ticks\": \"\"}}, \"title\": {\"x\": 0.05}, \"xaxis\": {\"automargin\": true, \"gridcolor\": \"white\", \"linecolor\": \"white\", \"ticks\": \"\", \"title\": {\"standoff\": 15}, \"zerolinecolor\": \"white\", \"zerolinewidth\": 2}, \"yaxis\": {\"automargin\": true, \"gridcolor\": \"white\", \"linecolor\": \"white\", \"ticks\": \"\", \"title\": {\"standoff\": 15}, \"zerolinecolor\": \"white\", \"zerolinewidth\": 2}}}, \"xaxis\": {\"anchor\": \"y\", \"domain\": [0.0, 0.45]}, \"xaxis2\": {\"anchor\": \"y2\", \"domain\": [0.55, 1.0]}, \"yaxis\": {\"anchor\": \"x\", \"domain\": [0.0, 1.0]}, \"yaxis2\": {\"anchor\": \"x2\", \"domain\": [0.0, 1.0]}},                        {\"responsive\": true}                    ).then(function(){\n",
       "                            \n",
       "var gd = document.getElementById('f1e9cc82-8cd7-4e97-ad93-5b21cdaf1714');\n",
       "var x = new MutationObserver(function (mutations, observer) {{\n",
       "        var display = window.getComputedStyle(gd).display;\n",
       "        if (!display || display === 'none') {{\n",
       "            console.log([gd, 'removed!']);\n",
       "            Plotly.purge(gd);\n",
       "            observer.disconnect();\n",
       "        }}\n",
       "}});\n",
       "\n",
       "// Listen for the removal of the full notebook cells\n",
       "var notebookContainer = gd.closest('#notebook-container');\n",
       "if (notebookContainer) {{\n",
       "    x.observe(notebookContainer, {childList: true});\n",
       "}}\n",
       "\n",
       "// Listen for the clearing of the current output cell\n",
       "var outputEl = gd.closest('.output');\n",
       "if (outputEl) {{\n",
       "    x.observe(outputEl, {childList: true});\n",
       "}}\n",
       "\n",
       "                        })                };                });            </script>        </div>"
      ]
     },
     "metadata": {},
     "output_type": "display_data"
    }
   ],
   "source": [
    "from plotly.subplots import make_subplots\n",
    "import plotly.graph_objects as go\n",
    "\n",
    "fig = make_subplots(rows=1, cols=2)\n",
    "\n",
    "fig.add_trace(\n",
    "    go.Scatter(\n",
    "        x=df_explained_variance['PC'],\n",
    "        y=df_explained_variance['Cumulative Variance'],\n",
    "        marker=dict(size=15, color=\"LightSeaGreen\")\n",
    "    ), row=1, col=1\n",
    "    )\n",
    "\n",
    "fig.add_trace(\n",
    "    go.Bar(\n",
    "        x=df_explained_variance['PC'],\n",
    "        y=df_explained_variance['Explained Variance'],\n",
    "        marker=dict(color=\"RoyalBlue\"),\n",
    "    ), row=1, col=2\n",
    "    )\n",
    "\n",
    "fig.show()"
   ]
  },
  {
   "cell_type": "code",
   "execution_count": 123,
   "metadata": {},
   "outputs": [],
   "source": [
    "#Exercise 2"
   ]
  },
  {
   "cell_type": "code",
   "execution_count": 124,
   "metadata": {},
   "outputs": [
    {
     "data": {
      "text/html": [
       "<div>\n",
       "<style scoped>\n",
       "    .dataframe tbody tr th:only-of-type {\n",
       "        vertical-align: middle;\n",
       "    }\n",
       "\n",
       "    .dataframe tbody tr th {\n",
       "        vertical-align: top;\n",
       "    }\n",
       "\n",
       "    .dataframe thead th {\n",
       "        text-align: right;\n",
       "    }\n",
       "</style>\n",
       "<table border=\"1\" class=\"dataframe\">\n",
       "  <thead>\n",
       "    <tr style=\"text-align: right;\">\n",
       "      <th></th>\n",
       "      <th>Code</th>\n",
       "      <th>Area/INDICATOR</th>\n",
       "      <th>Inner/ Outer London</th>\n",
       "      <th>GLA Population Estimate 2013</th>\n",
       "      <th>GLA Household Estimate 2013</th>\n",
       "      <th>Inland Area (Hectares)</th>\n",
       "      <th>Population density (per hectare) 2013</th>\n",
       "      <th>Average Age, 2013</th>\n",
       "      <th>Proportion of population aged 0-15, 2013</th>\n",
       "      <th>Proportion of population of working-age, 2013</th>\n",
       "      <th>...</th>\n",
       "      <th>Teenage conception rate (2012)</th>\n",
       "      <th>Life satisfaction score 2012-13 (out of 10)</th>\n",
       "      <th>Worthwhileness score 2012-13 (out of 10)</th>\n",
       "      <th>Happiness score 2012-13 (out of 10)</th>\n",
       "      <th>Anxiety score 2012-13 (out of 10)</th>\n",
       "      <th>Political control in council</th>\n",
       "      <th>Proportion of seats won by Conservatives in 2014 election</th>\n",
       "      <th>Proportion of seats won by Labour in 2014 election</th>\n",
       "      <th>Proportion of seats won by Lib Dems in 2014 election</th>\n",
       "      <th>Turnout at 2014 local elections</th>\n",
       "    </tr>\n",
       "  </thead>\n",
       "  <tbody>\n",
       "    <tr>\n",
       "      <th>0</th>\n",
       "      <td>E09000001</td>\n",
       "      <td>City of London</td>\n",
       "      <td>Inner London</td>\n",
       "      <td>8000</td>\n",
       "      <td>4.514371e+03</td>\n",
       "      <td>290.40</td>\n",
       "      <td>27.525868</td>\n",
       "      <td>41.303887</td>\n",
       "      <td>7.948036</td>\n",
       "      <td>77.541617</td>\n",
       "      <td>...</td>\n",
       "      <td>.</td>\n",
       "      <td>8.10</td>\n",
       "      <td>8.23</td>\n",
       "      <td>7.44</td>\n",
       "      <td>x</td>\n",
       "      <td>NaN</td>\n",
       "      <td>NaN</td>\n",
       "      <td>NaN</td>\n",
       "      <td>NaN</td>\n",
       "      <td>NaN</td>\n",
       "    </tr>\n",
       "    <tr>\n",
       "      <th>1</th>\n",
       "      <td>E09000002</td>\n",
       "      <td>Barking and Dagenham</td>\n",
       "      <td>Outer London</td>\n",
       "      <td>195600</td>\n",
       "      <td>7.326141e+04</td>\n",
       "      <td>3610.80</td>\n",
       "      <td>54.160527</td>\n",
       "      <td>33.228935</td>\n",
       "      <td>26.072939</td>\n",
       "      <td>63.835021</td>\n",
       "      <td>...</td>\n",
       "      <td>35.4</td>\n",
       "      <td>7.06</td>\n",
       "      <td>7.57</td>\n",
       "      <td>6.97</td>\n",
       "      <td>3.3</td>\n",
       "      <td>Lab</td>\n",
       "      <td>0</td>\n",
       "      <td>100</td>\n",
       "      <td>0</td>\n",
       "      <td>38.16</td>\n",
       "    </tr>\n",
       "    <tr>\n",
       "      <th>2</th>\n",
       "      <td>E09000003</td>\n",
       "      <td>Barnet</td>\n",
       "      <td>Outer London</td>\n",
       "      <td>370000</td>\n",
       "      <td>1.413858e+05</td>\n",
       "      <td>8674.80</td>\n",
       "      <td>42.651374</td>\n",
       "      <td>36.896246</td>\n",
       "      <td>20.886408</td>\n",
       "      <td>65.505593</td>\n",
       "      <td>...</td>\n",
       "      <td>14.7</td>\n",
       "      <td>7.35</td>\n",
       "      <td>7.79</td>\n",
       "      <td>7.27</td>\n",
       "      <td>2.63</td>\n",
       "      <td>Cons</td>\n",
       "      <td>50.79365079</td>\n",
       "      <td>42.85714286</td>\n",
       "      <td>1.587301587</td>\n",
       "      <td>41.1</td>\n",
       "    </tr>\n",
       "    <tr>\n",
       "      <th>3</th>\n",
       "      <td>E09000004</td>\n",
       "      <td>Bexley</td>\n",
       "      <td>Outer London</td>\n",
       "      <td>236500</td>\n",
       "      <td>9.470123e+04</td>\n",
       "      <td>6058.10</td>\n",
       "      <td>39.044243</td>\n",
       "      <td>38.883039</td>\n",
       "      <td>20.282830</td>\n",
       "      <td>63.146450</td>\n",
       "      <td>...</td>\n",
       "      <td>25.8</td>\n",
       "      <td>7.47</td>\n",
       "      <td>7.75</td>\n",
       "      <td>7.21</td>\n",
       "      <td>3.22</td>\n",
       "      <td>Cons</td>\n",
       "      <td>71.42857143</td>\n",
       "      <td>23.80952381</td>\n",
       "      <td>0</td>\n",
       "      <td>not avail</td>\n",
       "    </tr>\n",
       "    <tr>\n",
       "      <th>4</th>\n",
       "      <td>E09000005</td>\n",
       "      <td>Brent</td>\n",
       "      <td>Outer London</td>\n",
       "      <td>320200</td>\n",
       "      <td>1.143186e+05</td>\n",
       "      <td>4323.30</td>\n",
       "      <td>74.063669</td>\n",
       "      <td>35.262694</td>\n",
       "      <td>20.462585</td>\n",
       "      <td>68.714872</td>\n",
       "      <td>...</td>\n",
       "      <td>19.6</td>\n",
       "      <td>7.23</td>\n",
       "      <td>7.32</td>\n",
       "      <td>7.09</td>\n",
       "      <td>3.33</td>\n",
       "      <td>Lab</td>\n",
       "      <td>9.523809524</td>\n",
       "      <td>88.88888889</td>\n",
       "      <td>1.587301587</td>\n",
       "      <td>33</td>\n",
       "    </tr>\n",
       "    <tr>\n",
       "      <th>5</th>\n",
       "      <td>E09000006</td>\n",
       "      <td>Bromley</td>\n",
       "      <td>Outer London</td>\n",
       "      <td>317400</td>\n",
       "      <td>1.340127e+05</td>\n",
       "      <td>15013.50</td>\n",
       "      <td>21.137655</td>\n",
       "      <td>39.844503</td>\n",
       "      <td>19.648001</td>\n",
       "      <td>62.927051</td>\n",
       "      <td>...</td>\n",
       "      <td>24.2</td>\n",
       "      <td>7.63</td>\n",
       "      <td>7.80</td>\n",
       "      <td>7.36</td>\n",
       "      <td>3.2</td>\n",
       "      <td>Cons</td>\n",
       "      <td>85</td>\n",
       "      <td>11.66666667</td>\n",
       "      <td>0</td>\n",
       "      <td>not avail</td>\n",
       "    </tr>\n",
       "    <tr>\n",
       "      <th>6</th>\n",
       "      <td>E09000007</td>\n",
       "      <td>Camden</td>\n",
       "      <td>Inner London</td>\n",
       "      <td>228400</td>\n",
       "      <td>1.008419e+05</td>\n",
       "      <td>2178.90</td>\n",
       "      <td>104.820985</td>\n",
       "      <td>35.842413</td>\n",
       "      <td>15.632617</td>\n",
       "      <td>73.313473</td>\n",
       "      <td>...</td>\n",
       "      <td>18.1</td>\n",
       "      <td>7.22</td>\n",
       "      <td>7.37</td>\n",
       "      <td>7.13</td>\n",
       "      <td>3.25</td>\n",
       "      <td>Lab</td>\n",
       "      <td>22.22222222</td>\n",
       "      <td>74.07407407</td>\n",
       "      <td>1.851851852</td>\n",
       "      <td>38.69</td>\n",
       "    </tr>\n",
       "    <tr>\n",
       "      <th>7</th>\n",
       "      <td>E09000008</td>\n",
       "      <td>Croydon</td>\n",
       "      <td>Outer London</td>\n",
       "      <td>373100</td>\n",
       "      <td>1.500539e+05</td>\n",
       "      <td>8650.40</td>\n",
       "      <td>43.129707</td>\n",
       "      <td>36.570761</td>\n",
       "      <td>21.641888</td>\n",
       "      <td>65.638589</td>\n",
       "      <td>...</td>\n",
       "      <td>28.6</td>\n",
       "      <td>7.00</td>\n",
       "      <td>7.46</td>\n",
       "      <td>7.11</td>\n",
       "      <td>3.02</td>\n",
       "      <td>Lab</td>\n",
       "      <td>42.85714286</td>\n",
       "      <td>57.14285714</td>\n",
       "      <td>0</td>\n",
       "      <td>38</td>\n",
       "    </tr>\n",
       "    <tr>\n",
       "      <th>8</th>\n",
       "      <td>E09000009</td>\n",
       "      <td>Ealing</td>\n",
       "      <td>Outer London</td>\n",
       "      <td>344900</td>\n",
       "      <td>1.268610e+05</td>\n",
       "      <td>5554.40</td>\n",
       "      <td>62.089808</td>\n",
       "      <td>35.637099</td>\n",
       "      <td>20.642035</td>\n",
       "      <td>68.216689</td>\n",
       "      <td>...</td>\n",
       "      <td>22.4</td>\n",
       "      <td>7.24</td>\n",
       "      <td>7.48</td>\n",
       "      <td>7.44</td>\n",
       "      <td>3.58</td>\n",
       "      <td>Lab</td>\n",
       "      <td>17.39130435</td>\n",
       "      <td>76.8115942</td>\n",
       "      <td>5.797101449</td>\n",
       "      <td>41.3</td>\n",
       "    </tr>\n",
       "    <tr>\n",
       "      <th>9</th>\n",
       "      <td>E09000010</td>\n",
       "      <td>Enfield</td>\n",
       "      <td>Outer London</td>\n",
       "      <td>322400</td>\n",
       "      <td>1.246020e+05</td>\n",
       "      <td>8083.20</td>\n",
       "      <td>39.888486</td>\n",
       "      <td>36.062871</td>\n",
       "      <td>22.182556</td>\n",
       "      <td>65.114934</td>\n",
       "      <td>...</td>\n",
       "      <td>26.4</td>\n",
       "      <td>7.18</td>\n",
       "      <td>7.57</td>\n",
       "      <td>7.41</td>\n",
       "      <td>2.51</td>\n",
       "      <td>Lab</td>\n",
       "      <td>34.92063492</td>\n",
       "      <td>65.07936508</td>\n",
       "      <td>0</td>\n",
       "      <td>37.79</td>\n",
       "    </tr>\n",
       "    <tr>\n",
       "      <th>10</th>\n",
       "      <td>E09000011</td>\n",
       "      <td>Greenwich</td>\n",
       "      <td>Outer London</td>\n",
       "      <td>262800</td>\n",
       "      <td>1.049996e+05</td>\n",
       "      <td>4733.40</td>\n",
       "      <td>55.516088</td>\n",
       "      <td>34.737054</td>\n",
       "      <td>21.754144</td>\n",
       "      <td>67.650982</td>\n",
       "      <td>...</td>\n",
       "      <td>34.7</td>\n",
       "      <td>7.16</td>\n",
       "      <td>7.49</td>\n",
       "      <td>7.05</td>\n",
       "      <td>3.68</td>\n",
       "      <td>Lab</td>\n",
       "      <td>15.68627451</td>\n",
       "      <td>84.31372549</td>\n",
       "      <td>0</td>\n",
       "      <td>37.25</td>\n",
       "    </tr>\n",
       "    <tr>\n",
       "      <th>11</th>\n",
       "      <td>E09000012</td>\n",
       "      <td>Hackney</td>\n",
       "      <td>Inner London</td>\n",
       "      <td>256600</td>\n",
       "      <td>1.066557e+05</td>\n",
       "      <td>1904.90</td>\n",
       "      <td>134.717347</td>\n",
       "      <td>32.624060</td>\n",
       "      <td>20.513252</td>\n",
       "      <td>72.376652</td>\n",
       "      <td>...</td>\n",
       "      <td>28.8</td>\n",
       "      <td>7.07</td>\n",
       "      <td>7.42</td>\n",
       "      <td>7.02</td>\n",
       "      <td>3.61</td>\n",
       "      <td>Lab</td>\n",
       "      <td>7.01754386</td>\n",
       "      <td>87.71929825</td>\n",
       "      <td>5.263157895</td>\n",
       "      <td>42.89</td>\n",
       "    </tr>\n",
       "    <tr>\n",
       "      <th>12</th>\n",
       "      <td>E09000013</td>\n",
       "      <td>Hammersmith and Fulham</td>\n",
       "      <td>Inner London</td>\n",
       "      <td>181000</td>\n",
       "      <td>7.968869e+04</td>\n",
       "      <td>1639.70</td>\n",
       "      <td>110.384364</td>\n",
       "      <td>34.933408</td>\n",
       "      <td>16.764645</td>\n",
       "      <td>73.768103</td>\n",
       "      <td>...</td>\n",
       "      <td>25.6</td>\n",
       "      <td>7.23</td>\n",
       "      <td>7.60</td>\n",
       "      <td>6.94</td>\n",
       "      <td>3.15</td>\n",
       "      <td>Lab</td>\n",
       "      <td>43.47826087</td>\n",
       "      <td>56.52173913</td>\n",
       "      <td>0</td>\n",
       "      <td>38</td>\n",
       "    </tr>\n",
       "    <tr>\n",
       "      <th>13</th>\n",
       "      <td>E09000014</td>\n",
       "      <td>Haringey</td>\n",
       "      <td>Inner London</td>\n",
       "      <td>263100</td>\n",
       "      <td>1.054593e+05</td>\n",
       "      <td>2959.80</td>\n",
       "      <td>88.883425</td>\n",
       "      <td>34.384912</td>\n",
       "      <td>19.877305</td>\n",
       "      <td>71.199466</td>\n",
       "      <td>...</td>\n",
       "      <td>33.1</td>\n",
       "      <td>7.20</td>\n",
       "      <td>7.44</td>\n",
       "      <td>7.13</td>\n",
       "      <td>3.07</td>\n",
       "      <td>Lab</td>\n",
       "      <td>0</td>\n",
       "      <td>84.21052632</td>\n",
       "      <td>15.78947368</td>\n",
       "      <td>38.1</td>\n",
       "    </tr>\n",
       "    <tr>\n",
       "      <th>14</th>\n",
       "      <td>E09000015</td>\n",
       "      <td>Harrow</td>\n",
       "      <td>Outer London</td>\n",
       "      <td>245900</td>\n",
       "      <td>8.696860e+04</td>\n",
       "      <td>5046.30</td>\n",
       "      <td>48.722544</td>\n",
       "      <td>37.695216</td>\n",
       "      <td>20.110244</td>\n",
       "      <td>65.413384</td>\n",
       "      <td>...</td>\n",
       "      <td>14.2</td>\n",
       "      <td>7.34</td>\n",
       "      <td>7.53</td>\n",
       "      <td>7.35</td>\n",
       "      <td>3.17</td>\n",
       "      <td>Lab</td>\n",
       "      <td>41.26984127</td>\n",
       "      <td>53.96825397</td>\n",
       "      <td>1.587301587</td>\n",
       "      <td>41</td>\n",
       "    </tr>\n",
       "    <tr>\n",
       "      <th>15</th>\n",
       "      <td>E09000016</td>\n",
       "      <td>Havering</td>\n",
       "      <td>Outer London</td>\n",
       "      <td>242600</td>\n",
       "      <td>9.920244e+04</td>\n",
       "      <td>11235.00</td>\n",
       "      <td>21.589910</td>\n",
       "      <td>40.296140</td>\n",
       "      <td>18.781558</td>\n",
       "      <td>62.788014</td>\n",
       "      <td>...</td>\n",
       "      <td>26.4</td>\n",
       "      <td>7.40</td>\n",
       "      <td>7.65</td>\n",
       "      <td>7.24</td>\n",
       "      <td>3.17</td>\n",
       "      <td>No Overall Control</td>\n",
       "      <td>40.74074074</td>\n",
       "      <td>1.851851852</td>\n",
       "      <td>0</td>\n",
       "      <td>43</td>\n",
       "    </tr>\n",
       "    <tr>\n",
       "      <th>16</th>\n",
       "      <td>E09000017</td>\n",
       "      <td>Hillingdon</td>\n",
       "      <td>Outer London</td>\n",
       "      <td>287500</td>\n",
       "      <td>1.046508e+05</td>\n",
       "      <td>11570.10</td>\n",
       "      <td>24.851919</td>\n",
       "      <td>36.171629</td>\n",
       "      <td>20.911751</td>\n",
       "      <td>66.121424</td>\n",
       "      <td>...</td>\n",
       "      <td>27.7</td>\n",
       "      <td>7.35</td>\n",
       "      <td>7.63</td>\n",
       "      <td>7.34</td>\n",
       "      <td>3.34</td>\n",
       "      <td>Cons</td>\n",
       "      <td>64.61538462</td>\n",
       "      <td>35.38461538</td>\n",
       "      <td>0</td>\n",
       "      <td>35.76</td>\n",
       "    </tr>\n",
       "    <tr>\n",
       "      <th>17</th>\n",
       "      <td>E09000018</td>\n",
       "      <td>Hounslow</td>\n",
       "      <td>Outer London</td>\n",
       "      <td>264300</td>\n",
       "      <td>9.884074e+04</td>\n",
       "      <td>5597.80</td>\n",
       "      <td>47.209459</td>\n",
       "      <td>35.263763</td>\n",
       "      <td>20.616902</td>\n",
       "      <td>68.542073</td>\n",
       "      <td>...</td>\n",
       "      <td>30.4</td>\n",
       "      <td>7.30</td>\n",
       "      <td>7.60</td>\n",
       "      <td>7.29</td>\n",
       "      <td>3.51</td>\n",
       "      <td>Lab</td>\n",
       "      <td>18.33333333</td>\n",
       "      <td>81.66666667</td>\n",
       "      <td>0</td>\n",
       "      <td>36.8</td>\n",
       "    </tr>\n",
       "    <tr>\n",
       "      <th>18</th>\n",
       "      <td>E09000019</td>\n",
       "      <td>Islington</td>\n",
       "      <td>Inner London</td>\n",
       "      <td>215900</td>\n",
       "      <td>9.761628e+04</td>\n",
       "      <td>1485.70</td>\n",
       "      <td>145.324910</td>\n",
       "      <td>34.419467</td>\n",
       "      <td>15.863559</td>\n",
       "      <td>75.457376</td>\n",
       "      <td>...</td>\n",
       "      <td>30.1</td>\n",
       "      <td>7.08</td>\n",
       "      <td>7.22</td>\n",
       "      <td>6.85</td>\n",
       "      <td>3.74</td>\n",
       "      <td>Lab</td>\n",
       "      <td>0</td>\n",
       "      <td>97.91666667</td>\n",
       "      <td>0</td>\n",
       "      <td>38.4</td>\n",
       "    </tr>\n",
       "    <tr>\n",
       "      <th>19</th>\n",
       "      <td>E09000020</td>\n",
       "      <td>Kensington and Chelsea</td>\n",
       "      <td>Inner London</td>\n",
       "      <td>155700</td>\n",
       "      <td>7.721090e+04</td>\n",
       "      <td>1212.40</td>\n",
       "      <td>128.427401</td>\n",
       "      <td>38.308554</td>\n",
       "      <td>15.908516</td>\n",
       "      <td>70.878237</td>\n",
       "      <td>...</td>\n",
       "      <td>17.7</td>\n",
       "      <td>7.68</td>\n",
       "      <td>7.92</td>\n",
       "      <td>7.51</td>\n",
       "      <td>3.06</td>\n",
       "      <td>Cons</td>\n",
       "      <td>74</td>\n",
       "      <td>24</td>\n",
       "      <td>2</td>\n",
       "      <td>not avail</td>\n",
       "    </tr>\n",
       "    <tr>\n",
       "      <th>20</th>\n",
       "      <td>E09000021</td>\n",
       "      <td>Kingston upon Thames</td>\n",
       "      <td>Outer London</td>\n",
       "      <td>166400</td>\n",
       "      <td>6.578263e+04</td>\n",
       "      <td>3726.10</td>\n",
       "      <td>44.660475</td>\n",
       "      <td>36.885957</td>\n",
       "      <td>18.994951</td>\n",
       "      <td>67.980436</td>\n",
       "      <td>...</td>\n",
       "      <td>20</td>\n",
       "      <td>7.29</td>\n",
       "      <td>7.45</td>\n",
       "      <td>7.18</td>\n",
       "      <td>3.23</td>\n",
       "      <td>Cons</td>\n",
       "      <td>58.33333333</td>\n",
       "      <td>4.166666667</td>\n",
       "      <td>37.5</td>\n",
       "      <td>not avail</td>\n",
       "    </tr>\n",
       "    <tr>\n",
       "      <th>21</th>\n",
       "      <td>E09000022</td>\n",
       "      <td>Lambeth</td>\n",
       "      <td>Inner London</td>\n",
       "      <td>313800</td>\n",
       "      <td>1.345125e+05</td>\n",
       "      <td>2681.00</td>\n",
       "      <td>117.055632</td>\n",
       "      <td>33.862641</td>\n",
       "      <td>17.899970</td>\n",
       "      <td>74.455090</td>\n",
       "      <td>...</td>\n",
       "      <td>33.2</td>\n",
       "      <td>7.09</td>\n",
       "      <td>7.40</td>\n",
       "      <td>6.97</td>\n",
       "      <td>3.69</td>\n",
       "      <td>Lab</td>\n",
       "      <td>4.761904762</td>\n",
       "      <td>93.65079365</td>\n",
       "      <td>0</td>\n",
       "      <td>32</td>\n",
       "    </tr>\n",
       "    <tr>\n",
       "      <th>22</th>\n",
       "      <td>E09000023</td>\n",
       "      <td>Lewisham</td>\n",
       "      <td>Inner London</td>\n",
       "      <td>286000</td>\n",
       "      <td>1.204394e+05</td>\n",
       "      <td>3514.90</td>\n",
       "      <td>81.366697</td>\n",
       "      <td>34.540168</td>\n",
       "      <td>20.620499</td>\n",
       "      <td>69.996836</td>\n",
       "      <td>...</td>\n",
       "      <td>42</td>\n",
       "      <td>7.23</td>\n",
       "      <td>7.71</td>\n",
       "      <td>7.13</td>\n",
       "      <td>3.35</td>\n",
       "      <td>Lab</td>\n",
       "      <td>0</td>\n",
       "      <td>98.14814815</td>\n",
       "      <td>0</td>\n",
       "      <td>37.2</td>\n",
       "    </tr>\n",
       "    <tr>\n",
       "      <th>23</th>\n",
       "      <td>E09000024</td>\n",
       "      <td>Merton</td>\n",
       "      <td>Outer London</td>\n",
       "      <td>205400</td>\n",
       "      <td>8.104764e+04</td>\n",
       "      <td>3762.50</td>\n",
       "      <td>54.603478</td>\n",
       "      <td>36.262610</td>\n",
       "      <td>20.203379</td>\n",
       "      <td>67.896608</td>\n",
       "      <td>...</td>\n",
       "      <td>25.5</td>\n",
       "      <td>7.18</td>\n",
       "      <td>7.54</td>\n",
       "      <td>7.13</td>\n",
       "      <td>3.59</td>\n",
       "      <td>Lab</td>\n",
       "      <td>33.33333333</td>\n",
       "      <td>60</td>\n",
       "      <td>1.666666667</td>\n",
       "      <td>41</td>\n",
       "    </tr>\n",
       "    <tr>\n",
       "      <th>24</th>\n",
       "      <td>E09000025</td>\n",
       "      <td>Newham</td>\n",
       "      <td>Inner London</td>\n",
       "      <td>323400</td>\n",
       "      <td>1.077933e+05</td>\n",
       "      <td>3619.80</td>\n",
       "      <td>89.338992</td>\n",
       "      <td>31.423439</td>\n",
       "      <td>22.508503</td>\n",
       "      <td>70.809763</td>\n",
       "      <td>...</td>\n",
       "      <td>24.1</td>\n",
       "      <td>7.22</td>\n",
       "      <td>7.51</td>\n",
       "      <td>7.32</td>\n",
       "      <td>3.36</td>\n",
       "      <td>Lab</td>\n",
       "      <td>0</td>\n",
       "      <td>100</td>\n",
       "      <td>0</td>\n",
       "      <td>40.62</td>\n",
       "    </tr>\n",
       "    <tr>\n",
       "      <th>25</th>\n",
       "      <td>E09000026</td>\n",
       "      <td>Redbridge</td>\n",
       "      <td>Outer London</td>\n",
       "      <td>289900</td>\n",
       "      <td>1.030537e+05</td>\n",
       "      <td>5641.90</td>\n",
       "      <td>51.374341</td>\n",
       "      <td>35.531757</td>\n",
       "      <td>22.684198</td>\n",
       "      <td>65.238253</td>\n",
       "      <td>...</td>\n",
       "      <td>16.2</td>\n",
       "      <td>7.28</td>\n",
       "      <td>7.44</td>\n",
       "      <td>7.34</td>\n",
       "      <td>3.12</td>\n",
       "      <td>Lab</td>\n",
       "      <td>39.68253968</td>\n",
       "      <td>55.55555556</td>\n",
       "      <td>4.761904762</td>\n",
       "      <td>39.7</td>\n",
       "    </tr>\n",
       "    <tr>\n",
       "      <th>26</th>\n",
       "      <td>E09000027</td>\n",
       "      <td>Richmond upon Thames</td>\n",
       "      <td>Outer London</td>\n",
       "      <td>191300</td>\n",
       "      <td>8.135316e+04</td>\n",
       "      <td>5740.70</td>\n",
       "      <td>33.331460</td>\n",
       "      <td>38.290205</td>\n",
       "      <td>20.202975</td>\n",
       "      <td>65.548776</td>\n",
       "      <td>...</td>\n",
       "      <td>19.9</td>\n",
       "      <td>7.42</td>\n",
       "      <td>7.69</td>\n",
       "      <td>7.33</td>\n",
       "      <td>3.56</td>\n",
       "      <td>Cons</td>\n",
       "      <td>72.22222222</td>\n",
       "      <td>0</td>\n",
       "      <td>27.77777778</td>\n",
       "      <td>46.3</td>\n",
       "    </tr>\n",
       "    <tr>\n",
       "      <th>27</th>\n",
       "      <td>E09000028</td>\n",
       "      <td>Southwark</td>\n",
       "      <td>Inner London</td>\n",
       "      <td>298400</td>\n",
       "      <td>1.246139e+05</td>\n",
       "      <td>2886.20</td>\n",
       "      <td>103.403127</td>\n",
       "      <td>33.754401</td>\n",
       "      <td>18.507644</td>\n",
       "      <td>73.722633</td>\n",
       "      <td>...</td>\n",
       "      <td>31.8</td>\n",
       "      <td>7.27</td>\n",
       "      <td>7.68</td>\n",
       "      <td>7.20</td>\n",
       "      <td>3.28</td>\n",
       "      <td>Lab</td>\n",
       "      <td>3.174603175</td>\n",
       "      <td>76.19047619</td>\n",
       "      <td>20.63492063</td>\n",
       "      <td>not avail</td>\n",
       "    </tr>\n",
       "    <tr>\n",
       "      <th>28</th>\n",
       "      <td>E09000029</td>\n",
       "      <td>Sutton</td>\n",
       "      <td>Outer London</td>\n",
       "      <td>196400</td>\n",
       "      <td>8.074848e+04</td>\n",
       "      <td>4384.70</td>\n",
       "      <td>44.802887</td>\n",
       "      <td>38.310437</td>\n",
       "      <td>20.151661</td>\n",
       "      <td>64.951011</td>\n",
       "      <td>...</td>\n",
       "      <td>25.8</td>\n",
       "      <td>7.25</td>\n",
       "      <td>7.57</td>\n",
       "      <td>7.13</td>\n",
       "      <td>3.34</td>\n",
       "      <td>Lib Dem</td>\n",
       "      <td>16.66666667</td>\n",
       "      <td>0</td>\n",
       "      <td>83.33333333</td>\n",
       "      <td>42.2</td>\n",
       "    </tr>\n",
       "    <tr>\n",
       "      <th>29</th>\n",
       "      <td>E09000030</td>\n",
       "      <td>Tower Hamlets</td>\n",
       "      <td>Inner London</td>\n",
       "      <td>271100</td>\n",
       "      <td>1.092805e+05</td>\n",
       "      <td>1978.10</td>\n",
       "      <td>137.067542</td>\n",
       "      <td>31.064282</td>\n",
       "      <td>19.602621</td>\n",
       "      <td>74.531880</td>\n",
       "      <td>...</td>\n",
       "      <td>24.3</td>\n",
       "      <td>7.28</td>\n",
       "      <td>7.56</td>\n",
       "      <td>7.32</td>\n",
       "      <td>2.93</td>\n",
       "      <td>Tower Hamlets First</td>\n",
       "      <td>15.55555556</td>\n",
       "      <td>44.44444444</td>\n",
       "      <td>0</td>\n",
       "      <td>not avail</td>\n",
       "    </tr>\n",
       "    <tr>\n",
       "      <th>30</th>\n",
       "      <td>E09000031</td>\n",
       "      <td>Waltham Forest</td>\n",
       "      <td>Outer London</td>\n",
       "      <td>267700</td>\n",
       "      <td>1.005245e+05</td>\n",
       "      <td>3880.80</td>\n",
       "      <td>68.970286</td>\n",
       "      <td>34.502988</td>\n",
       "      <td>21.784829</td>\n",
       "      <td>68.105760</td>\n",
       "      <td>...</td>\n",
       "      <td>29.9</td>\n",
       "      <td>7.24</td>\n",
       "      <td>7.72</td>\n",
       "      <td>7.26</td>\n",
       "      <td>2.99</td>\n",
       "      <td>Lab</td>\n",
       "      <td>26.66666667</td>\n",
       "      <td>73.33333333</td>\n",
       "      <td>0</td>\n",
       "      <td>not avail</td>\n",
       "    </tr>\n",
       "    <tr>\n",
       "      <th>31</th>\n",
       "      <td>E09000032</td>\n",
       "      <td>Wandsworth</td>\n",
       "      <td>Inner London</td>\n",
       "      <td>311800</td>\n",
       "      <td>1.315620e+05</td>\n",
       "      <td>3426.40</td>\n",
       "      <td>91.009107</td>\n",
       "      <td>34.414955</td>\n",
       "      <td>17.342442</td>\n",
       "      <td>73.693151</td>\n",
       "      <td>...</td>\n",
       "      <td>25.5</td>\n",
       "      <td>7.23</td>\n",
       "      <td>7.55</td>\n",
       "      <td>7.28</td>\n",
       "      <td>3.55</td>\n",
       "      <td>Cons</td>\n",
       "      <td>68.33333333</td>\n",
       "      <td>31.66666667</td>\n",
       "      <td>0</td>\n",
       "      <td>not avail</td>\n",
       "    </tr>\n",
       "    <tr>\n",
       "      <th>32</th>\n",
       "      <td>E09000033</td>\n",
       "      <td>Westminster</td>\n",
       "      <td>Inner London</td>\n",
       "      <td>226600</td>\n",
       "      <td>1.085501e+05</td>\n",
       "      <td>2148.70</td>\n",
       "      <td>105.457732</td>\n",
       "      <td>36.729055</td>\n",
       "      <td>14.781940</td>\n",
       "      <td>73.924420</td>\n",
       "      <td>...</td>\n",
       "      <td>21.2</td>\n",
       "      <td>7.09</td>\n",
       "      <td>7.44</td>\n",
       "      <td>7.09</td>\n",
       "      <td>3.58</td>\n",
       "      <td>Cons</td>\n",
       "      <td>73.33333333</td>\n",
       "      <td>26.66666667</td>\n",
       "      <td>0</td>\n",
       "      <td>not avail</td>\n",
       "    </tr>\n",
       "    <tr>\n",
       "      <th>33</th>\n",
       "      <td>E13000001</td>\n",
       "      <td>Inner London</td>\n",
       "      <td>.</td>\n",
       "      <td>3339900</td>\n",
       "      <td>1.408739e+06</td>\n",
       "      <td>31929.20</td>\n",
       "      <td>104.604284</td>\n",
       "      <td>34.094128</td>\n",
       "      <td>18.399747</td>\n",
       "      <td>72.928004</td>\n",
       "      <td>...</td>\n",
       "      <td>28.5</td>\n",
       "      <td>7.21</td>\n",
       "      <td>7.52</td>\n",
       "      <td>7.15</td>\n",
       "      <td>3.36</td>\n",
       "      <td>.</td>\n",
       "      <td>23.70990237</td>\n",
       "      <td>69.45606695</td>\n",
       "      <td>3.765690377</td>\n",
       "      <td>not avail</td>\n",
       "    </tr>\n",
       "    <tr>\n",
       "      <th>34</th>\n",
       "      <td>E13000002</td>\n",
       "      <td>Outer London</td>\n",
       "      <td>NaN</td>\n",
       "      <td>5100200</td>\n",
       "      <td>1.966369e+06</td>\n",
       "      <td>125423.60</td>\n",
       "      <td>40.663753</td>\n",
       "      <td>36.608313</td>\n",
       "      <td>20.975104</td>\n",
       "      <td>65.989008</td>\n",
       "      <td>...</td>\n",
       "      <td>24.5</td>\n",
       "      <td>7.28</td>\n",
       "      <td>7.58</td>\n",
       "      <td>7.25</td>\n",
       "      <td>3.21</td>\n",
       "      <td>.</td>\n",
       "      <td>39.15343915</td>\n",
       "      <td>49.11816578</td>\n",
       "      <td>7.848324515</td>\n",
       "      <td>not avail</td>\n",
       "    </tr>\n",
       "    <tr>\n",
       "      <th>35</th>\n",
       "      <td>E12000007</td>\n",
       "      <td>London</td>\n",
       "      <td>NaN</td>\n",
       "      <td>8440100</td>\n",
       "      <td>3.375108e+06</td>\n",
       "      <td>157214.70</td>\n",
       "      <td>53.685369</td>\n",
       "      <td>35.613397</td>\n",
       "      <td>19.955981</td>\n",
       "      <td>68.734914</td>\n",
       "      <td>...</td>\n",
       "      <td>25.9</td>\n",
       "      <td>7.26</td>\n",
       "      <td>7.56</td>\n",
       "      <td>7.21</td>\n",
       "      <td>3.27</td>\n",
       "      <td>.</td>\n",
       "      <td>33.17125878</td>\n",
       "      <td>56.99621826</td>\n",
       "      <td>6.266882766</td>\n",
       "      <td>not avail</td>\n",
       "    </tr>\n",
       "    <tr>\n",
       "      <th>36</th>\n",
       "      <td>E92000001</td>\n",
       "      <td>England</td>\n",
       "      <td>NaN</td>\n",
       "      <td>53493729</td>\n",
       "      <td>2.254290e+07</td>\n",
       "      <td>13027866.98</td>\n",
       "      <td>4.069162</td>\n",
       "      <td>39.442770</td>\n",
       "      <td>18.937222</td>\n",
       "      <td>64.132742</td>\n",
       "      <td>...</td>\n",
       "      <td>27.7</td>\n",
       "      <td>7.44</td>\n",
       "      <td>7.68</td>\n",
       "      <td>7.28</td>\n",
       "      <td>3.05</td>\n",
       "      <td>.</td>\n",
       "      <td>.</td>\n",
       "      <td>.</td>\n",
       "      <td>.</td>\n",
       "      <td>.</td>\n",
       "    </tr>\n",
       "    <tr>\n",
       "      <th>37</th>\n",
       "      <td>K02000001</td>\n",
       "      <td>United Kingdom</td>\n",
       "      <td>NaN</td>\n",
       "      <td>63705030</td>\n",
       "      <td>2.706534e+07</td>\n",
       "      <td>24309424.52</td>\n",
       "      <td>2.561228</td>\n",
       "      <td>39.553318</td>\n",
       "      <td>18.811058</td>\n",
       "      <td>64.171517</td>\n",
       "      <td>...</td>\n",
       "      <td>.</td>\n",
       "      <td>7.45</td>\n",
       "      <td>7.69</td>\n",
       "      <td>7.29</td>\n",
       "      <td>3.03</td>\n",
       "      <td>.</td>\n",
       "      <td>.</td>\n",
       "      <td>.</td>\n",
       "      <td>.</td>\n",
       "      <td>.</td>\n",
       "    </tr>\n",
       "  </tbody>\n",
       "</table>\n",
       "<p>38 rows × 76 columns</p>\n",
       "</div>"
      ],
      "text/plain": [
       "         Code          Area/INDICATOR Inner/ Outer London  \\\n",
       "0   E09000001          City of London        Inner London   \n",
       "1   E09000002    Barking and Dagenham        Outer London   \n",
       "2   E09000003                  Barnet        Outer London   \n",
       "3   E09000004                  Bexley        Outer London   \n",
       "4   E09000005                   Brent        Outer London   \n",
       "5   E09000006                 Bromley        Outer London   \n",
       "6   E09000007                  Camden        Inner London   \n",
       "7   E09000008                 Croydon        Outer London   \n",
       "8   E09000009                  Ealing        Outer London   \n",
       "9   E09000010                 Enfield        Outer London   \n",
       "10  E09000011               Greenwich        Outer London   \n",
       "11  E09000012                 Hackney        Inner London   \n",
       "12  E09000013  Hammersmith and Fulham        Inner London   \n",
       "13  E09000014                Haringey        Inner London   \n",
       "14  E09000015                  Harrow        Outer London   \n",
       "15  E09000016                Havering        Outer London   \n",
       "16  E09000017              Hillingdon        Outer London   \n",
       "17  E09000018                Hounslow        Outer London   \n",
       "18  E09000019               Islington        Inner London   \n",
       "19  E09000020  Kensington and Chelsea        Inner London   \n",
       "20  E09000021    Kingston upon Thames        Outer London   \n",
       "21  E09000022                 Lambeth        Inner London   \n",
       "22  E09000023                Lewisham        Inner London   \n",
       "23  E09000024                  Merton        Outer London   \n",
       "24  E09000025                  Newham        Inner London   \n",
       "25  E09000026               Redbridge        Outer London   \n",
       "26  E09000027    Richmond upon Thames        Outer London   \n",
       "27  E09000028               Southwark        Inner London   \n",
       "28  E09000029                  Sutton        Outer London   \n",
       "29  E09000030           Tower Hamlets        Inner London   \n",
       "30  E09000031          Waltham Forest        Outer London   \n",
       "31  E09000032              Wandsworth        Inner London   \n",
       "32  E09000033             Westminster        Inner London   \n",
       "33  E13000001            Inner London                   .   \n",
       "34  E13000002            Outer London                 NaN   \n",
       "35  E12000007                  London                 NaN   \n",
       "36  E92000001                 England                 NaN   \n",
       "37  K02000001          United Kingdom                 NaN   \n",
       "\n",
       "    GLA Population Estimate 2013  GLA Household Estimate 2013  \\\n",
       "0                           8000                 4.514371e+03   \n",
       "1                         195600                 7.326141e+04   \n",
       "2                         370000                 1.413858e+05   \n",
       "3                         236500                 9.470123e+04   \n",
       "4                         320200                 1.143186e+05   \n",
       "5                         317400                 1.340127e+05   \n",
       "6                         228400                 1.008419e+05   \n",
       "7                         373100                 1.500539e+05   \n",
       "8                         344900                 1.268610e+05   \n",
       "9                         322400                 1.246020e+05   \n",
       "10                        262800                 1.049996e+05   \n",
       "11                        256600                 1.066557e+05   \n",
       "12                        181000                 7.968869e+04   \n",
       "13                        263100                 1.054593e+05   \n",
       "14                        245900                 8.696860e+04   \n",
       "15                        242600                 9.920244e+04   \n",
       "16                        287500                 1.046508e+05   \n",
       "17                        264300                 9.884074e+04   \n",
       "18                        215900                 9.761628e+04   \n",
       "19                        155700                 7.721090e+04   \n",
       "20                        166400                 6.578263e+04   \n",
       "21                        313800                 1.345125e+05   \n",
       "22                        286000                 1.204394e+05   \n",
       "23                        205400                 8.104764e+04   \n",
       "24                        323400                 1.077933e+05   \n",
       "25                        289900                 1.030537e+05   \n",
       "26                        191300                 8.135316e+04   \n",
       "27                        298400                 1.246139e+05   \n",
       "28                        196400                 8.074848e+04   \n",
       "29                        271100                 1.092805e+05   \n",
       "30                        267700                 1.005245e+05   \n",
       "31                        311800                 1.315620e+05   \n",
       "32                        226600                 1.085501e+05   \n",
       "33                       3339900                 1.408739e+06   \n",
       "34                       5100200                 1.966369e+06   \n",
       "35                       8440100                 3.375108e+06   \n",
       "36                      53493729                 2.254290e+07   \n",
       "37                      63705030                 2.706534e+07   \n",
       "\n",
       "    Inland Area (Hectares)  Population density (per hectare) 2013  \\\n",
       "0                   290.40                              27.525868   \n",
       "1                  3610.80                              54.160527   \n",
       "2                  8674.80                              42.651374   \n",
       "3                  6058.10                              39.044243   \n",
       "4                  4323.30                              74.063669   \n",
       "5                 15013.50                              21.137655   \n",
       "6                  2178.90                             104.820985   \n",
       "7                  8650.40                              43.129707   \n",
       "8                  5554.40                              62.089808   \n",
       "9                  8083.20                              39.888486   \n",
       "10                 4733.40                              55.516088   \n",
       "11                 1904.90                             134.717347   \n",
       "12                 1639.70                             110.384364   \n",
       "13                 2959.80                              88.883425   \n",
       "14                 5046.30                              48.722544   \n",
       "15                11235.00                              21.589910   \n",
       "16                11570.10                              24.851919   \n",
       "17                 5597.80                              47.209459   \n",
       "18                 1485.70                             145.324910   \n",
       "19                 1212.40                             128.427401   \n",
       "20                 3726.10                              44.660475   \n",
       "21                 2681.00                             117.055632   \n",
       "22                 3514.90                              81.366697   \n",
       "23                 3762.50                              54.603478   \n",
       "24                 3619.80                              89.338992   \n",
       "25                 5641.90                              51.374341   \n",
       "26                 5740.70                              33.331460   \n",
       "27                 2886.20                             103.403127   \n",
       "28                 4384.70                              44.802887   \n",
       "29                 1978.10                             137.067542   \n",
       "30                 3880.80                              68.970286   \n",
       "31                 3426.40                              91.009107   \n",
       "32                 2148.70                             105.457732   \n",
       "33                31929.20                             104.604284   \n",
       "34               125423.60                              40.663753   \n",
       "35               157214.70                              53.685369   \n",
       "36             13027866.98                               4.069162   \n",
       "37             24309424.52                               2.561228   \n",
       "\n",
       "    Average Age, 2013  Proportion of population aged 0-15, 2013  \\\n",
       "0           41.303887                                  7.948036   \n",
       "1           33.228935                                 26.072939   \n",
       "2           36.896246                                 20.886408   \n",
       "3           38.883039                                 20.282830   \n",
       "4           35.262694                                 20.462585   \n",
       "5           39.844503                                 19.648001   \n",
       "6           35.842413                                 15.632617   \n",
       "7           36.570761                                 21.641888   \n",
       "8           35.637099                                 20.642035   \n",
       "9           36.062871                                 22.182556   \n",
       "10          34.737054                                 21.754144   \n",
       "11          32.624060                                 20.513252   \n",
       "12          34.933408                                 16.764645   \n",
       "13          34.384912                                 19.877305   \n",
       "14          37.695216                                 20.110244   \n",
       "15          40.296140                                 18.781558   \n",
       "16          36.171629                                 20.911751   \n",
       "17          35.263763                                 20.616902   \n",
       "18          34.419467                                 15.863559   \n",
       "19          38.308554                                 15.908516   \n",
       "20          36.885957                                 18.994951   \n",
       "21          33.862641                                 17.899970   \n",
       "22          34.540168                                 20.620499   \n",
       "23          36.262610                                 20.203379   \n",
       "24          31.423439                                 22.508503   \n",
       "25          35.531757                                 22.684198   \n",
       "26          38.290205                                 20.202975   \n",
       "27          33.754401                                 18.507644   \n",
       "28          38.310437                                 20.151661   \n",
       "29          31.064282                                 19.602621   \n",
       "30          34.502988                                 21.784829   \n",
       "31          34.414955                                 17.342442   \n",
       "32          36.729055                                 14.781940   \n",
       "33          34.094128                                 18.399747   \n",
       "34          36.608313                                 20.975104   \n",
       "35          35.613397                                 19.955981   \n",
       "36          39.442770                                 18.937222   \n",
       "37          39.553318                                 18.811058   \n",
       "\n",
       "    Proportion of population of working-age, 2013  ...  \\\n",
       "0                                       77.541617  ...   \n",
       "1                                       63.835021  ...   \n",
       "2                                       65.505593  ...   \n",
       "3                                       63.146450  ...   \n",
       "4                                       68.714872  ...   \n",
       "5                                       62.927051  ...   \n",
       "6                                       73.313473  ...   \n",
       "7                                       65.638589  ...   \n",
       "8                                       68.216689  ...   \n",
       "9                                       65.114934  ...   \n",
       "10                                      67.650982  ...   \n",
       "11                                      72.376652  ...   \n",
       "12                                      73.768103  ...   \n",
       "13                                      71.199466  ...   \n",
       "14                                      65.413384  ...   \n",
       "15                                      62.788014  ...   \n",
       "16                                      66.121424  ...   \n",
       "17                                      68.542073  ...   \n",
       "18                                      75.457376  ...   \n",
       "19                                      70.878237  ...   \n",
       "20                                      67.980436  ...   \n",
       "21                                      74.455090  ...   \n",
       "22                                      69.996836  ...   \n",
       "23                                      67.896608  ...   \n",
       "24                                      70.809763  ...   \n",
       "25                                      65.238253  ...   \n",
       "26                                      65.548776  ...   \n",
       "27                                      73.722633  ...   \n",
       "28                                      64.951011  ...   \n",
       "29                                      74.531880  ...   \n",
       "30                                      68.105760  ...   \n",
       "31                                      73.693151  ...   \n",
       "32                                      73.924420  ...   \n",
       "33                                      72.928004  ...   \n",
       "34                                      65.989008  ...   \n",
       "35                                      68.734914  ...   \n",
       "36                                      64.132742  ...   \n",
       "37                                      64.171517  ...   \n",
       "\n",
       "    Teenage conception rate (2012)  \\\n",
       "0                                .   \n",
       "1                             35.4   \n",
       "2                             14.7   \n",
       "3                             25.8   \n",
       "4                             19.6   \n",
       "5                             24.2   \n",
       "6                             18.1   \n",
       "7                             28.6   \n",
       "8                             22.4   \n",
       "9                             26.4   \n",
       "10                            34.7   \n",
       "11                            28.8   \n",
       "12                            25.6   \n",
       "13                            33.1   \n",
       "14                            14.2   \n",
       "15                            26.4   \n",
       "16                            27.7   \n",
       "17                            30.4   \n",
       "18                            30.1   \n",
       "19                            17.7   \n",
       "20                              20   \n",
       "21                            33.2   \n",
       "22                              42   \n",
       "23                            25.5   \n",
       "24                            24.1   \n",
       "25                            16.2   \n",
       "26                            19.9   \n",
       "27                            31.8   \n",
       "28                            25.8   \n",
       "29                            24.3   \n",
       "30                            29.9   \n",
       "31                            25.5   \n",
       "32                            21.2   \n",
       "33                            28.5   \n",
       "34                            24.5   \n",
       "35                            25.9   \n",
       "36                            27.7   \n",
       "37                               .   \n",
       "\n",
       "   Life satisfaction score 2012-13 (out of 10)  \\\n",
       "0                                         8.10   \n",
       "1                                         7.06   \n",
       "2                                         7.35   \n",
       "3                                         7.47   \n",
       "4                                         7.23   \n",
       "5                                         7.63   \n",
       "6                                         7.22   \n",
       "7                                         7.00   \n",
       "8                                         7.24   \n",
       "9                                         7.18   \n",
       "10                                        7.16   \n",
       "11                                        7.07   \n",
       "12                                        7.23   \n",
       "13                                        7.20   \n",
       "14                                        7.34   \n",
       "15                                        7.40   \n",
       "16                                        7.35   \n",
       "17                                        7.30   \n",
       "18                                        7.08   \n",
       "19                                        7.68   \n",
       "20                                        7.29   \n",
       "21                                        7.09   \n",
       "22                                        7.23   \n",
       "23                                        7.18   \n",
       "24                                        7.22   \n",
       "25                                        7.28   \n",
       "26                                        7.42   \n",
       "27                                        7.27   \n",
       "28                                        7.25   \n",
       "29                                        7.28   \n",
       "30                                        7.24   \n",
       "31                                        7.23   \n",
       "32                                        7.09   \n",
       "33                                        7.21   \n",
       "34                                        7.28   \n",
       "35                                        7.26   \n",
       "36                                        7.44   \n",
       "37                                        7.45   \n",
       "\n",
       "   Worthwhileness score 2012-13 (out of 10)  \\\n",
       "0                                      8.23   \n",
       "1                                      7.57   \n",
       "2                                      7.79   \n",
       "3                                      7.75   \n",
       "4                                      7.32   \n",
       "5                                      7.80   \n",
       "6                                      7.37   \n",
       "7                                      7.46   \n",
       "8                                      7.48   \n",
       "9                                      7.57   \n",
       "10                                     7.49   \n",
       "11                                     7.42   \n",
       "12                                     7.60   \n",
       "13                                     7.44   \n",
       "14                                     7.53   \n",
       "15                                     7.65   \n",
       "16                                     7.63   \n",
       "17                                     7.60   \n",
       "18                                     7.22   \n",
       "19                                     7.92   \n",
       "20                                     7.45   \n",
       "21                                     7.40   \n",
       "22                                     7.71   \n",
       "23                                     7.54   \n",
       "24                                     7.51   \n",
       "25                                     7.44   \n",
       "26                                     7.69   \n",
       "27                                     7.68   \n",
       "28                                     7.57   \n",
       "29                                     7.56   \n",
       "30                                     7.72   \n",
       "31                                     7.55   \n",
       "32                                     7.44   \n",
       "33                                     7.52   \n",
       "34                                     7.58   \n",
       "35                                     7.56   \n",
       "36                                     7.68   \n",
       "37                                     7.69   \n",
       "\n",
       "   Happiness score 2012-13 (out of 10) Anxiety score 2012-13 (out of 10)  \\\n",
       "0                                 7.44                                 x   \n",
       "1                                 6.97                               3.3   \n",
       "2                                 7.27                              2.63   \n",
       "3                                 7.21                              3.22   \n",
       "4                                 7.09                              3.33   \n",
       "5                                 7.36                               3.2   \n",
       "6                                 7.13                              3.25   \n",
       "7                                 7.11                              3.02   \n",
       "8                                 7.44                              3.58   \n",
       "9                                 7.41                              2.51   \n",
       "10                                7.05                              3.68   \n",
       "11                                7.02                              3.61   \n",
       "12                                6.94                              3.15   \n",
       "13                                7.13                              3.07   \n",
       "14                                7.35                              3.17   \n",
       "15                                7.24                              3.17   \n",
       "16                                7.34                              3.34   \n",
       "17                                7.29                              3.51   \n",
       "18                                6.85                              3.74   \n",
       "19                                7.51                              3.06   \n",
       "20                                7.18                              3.23   \n",
       "21                                6.97                              3.69   \n",
       "22                                7.13                              3.35   \n",
       "23                                7.13                              3.59   \n",
       "24                                7.32                              3.36   \n",
       "25                                7.34                              3.12   \n",
       "26                                7.33                              3.56   \n",
       "27                                7.20                              3.28   \n",
       "28                                7.13                              3.34   \n",
       "29                                7.32                              2.93   \n",
       "30                                7.26                              2.99   \n",
       "31                                7.28                              3.55   \n",
       "32                                7.09                              3.58   \n",
       "33                                7.15                              3.36   \n",
       "34                                7.25                              3.21   \n",
       "35                                7.21                              3.27   \n",
       "36                                7.28                              3.05   \n",
       "37                                7.29                              3.03   \n",
       "\n",
       "   Political control in council  \\\n",
       "0                           NaN   \n",
       "1                           Lab   \n",
       "2                          Cons   \n",
       "3                          Cons   \n",
       "4                           Lab   \n",
       "5                          Cons   \n",
       "6                           Lab   \n",
       "7                           Lab   \n",
       "8                           Lab   \n",
       "9                           Lab   \n",
       "10                          Lab   \n",
       "11                          Lab   \n",
       "12                          Lab   \n",
       "13                          Lab   \n",
       "14                          Lab   \n",
       "15           No Overall Control   \n",
       "16                         Cons   \n",
       "17                          Lab   \n",
       "18                          Lab   \n",
       "19                         Cons   \n",
       "20                         Cons   \n",
       "21                          Lab   \n",
       "22                          Lab   \n",
       "23                          Lab   \n",
       "24                          Lab   \n",
       "25                          Lab   \n",
       "26                         Cons   \n",
       "27                          Lab   \n",
       "28                      Lib Dem   \n",
       "29          Tower Hamlets First   \n",
       "30                          Lab   \n",
       "31                         Cons   \n",
       "32                         Cons   \n",
       "33                            .   \n",
       "34                            .   \n",
       "35                            .   \n",
       "36                            .   \n",
       "37                            .   \n",
       "\n",
       "   Proportion of seats won by Conservatives in 2014 election  \\\n",
       "0                                                 NaN          \n",
       "1                                                   0          \n",
       "2                                         50.79365079          \n",
       "3                                         71.42857143          \n",
       "4                                         9.523809524          \n",
       "5                                                  85          \n",
       "6                                         22.22222222          \n",
       "7                                         42.85714286          \n",
       "8                                         17.39130435          \n",
       "9                                         34.92063492          \n",
       "10                                        15.68627451          \n",
       "11                                         7.01754386          \n",
       "12                                        43.47826087          \n",
       "13                                                  0          \n",
       "14                                        41.26984127          \n",
       "15                                        40.74074074          \n",
       "16                                        64.61538462          \n",
       "17                                        18.33333333          \n",
       "18                                                  0          \n",
       "19                                                 74          \n",
       "20                                        58.33333333          \n",
       "21                                        4.761904762          \n",
       "22                                                  0          \n",
       "23                                        33.33333333          \n",
       "24                                                  0          \n",
       "25                                        39.68253968          \n",
       "26                                        72.22222222          \n",
       "27                                        3.174603175          \n",
       "28                                        16.66666667          \n",
       "29                                        15.55555556          \n",
       "30                                        26.66666667          \n",
       "31                                        68.33333333          \n",
       "32                                        73.33333333          \n",
       "33                                        23.70990237          \n",
       "34                                        39.15343915          \n",
       "35                                        33.17125878          \n",
       "36                                                  .          \n",
       "37                                                  .          \n",
       "\n",
       "   Proportion of seats won by Labour in 2014 election  \\\n",
       "0                                                 NaN   \n",
       "1                                                 100   \n",
       "2                                         42.85714286   \n",
       "3                                         23.80952381   \n",
       "4                                         88.88888889   \n",
       "5                                         11.66666667   \n",
       "6                                         74.07407407   \n",
       "7                                         57.14285714   \n",
       "8                                          76.8115942   \n",
       "9                                         65.07936508   \n",
       "10                                        84.31372549   \n",
       "11                                        87.71929825   \n",
       "12                                        56.52173913   \n",
       "13                                        84.21052632   \n",
       "14                                        53.96825397   \n",
       "15                                        1.851851852   \n",
       "16                                        35.38461538   \n",
       "17                                        81.66666667   \n",
       "18                                        97.91666667   \n",
       "19                                                 24   \n",
       "20                                        4.166666667   \n",
       "21                                        93.65079365   \n",
       "22                                        98.14814815   \n",
       "23                                                 60   \n",
       "24                                                100   \n",
       "25                                        55.55555556   \n",
       "26                                                  0   \n",
       "27                                        76.19047619   \n",
       "28                                                  0   \n",
       "29                                        44.44444444   \n",
       "30                                        73.33333333   \n",
       "31                                        31.66666667   \n",
       "32                                        26.66666667   \n",
       "33                                        69.45606695   \n",
       "34                                        49.11816578   \n",
       "35                                        56.99621826   \n",
       "36                                                  .   \n",
       "37                                                  .   \n",
       "\n",
       "    Proportion of seats won by Lib Dems in 2014 election  \\\n",
       "0                                                 NaN      \n",
       "1                                                   0      \n",
       "2                                         1.587301587      \n",
       "3                                                   0      \n",
       "4                                         1.587301587      \n",
       "5                                                   0      \n",
       "6                                         1.851851852      \n",
       "7                                                   0      \n",
       "8                                         5.797101449      \n",
       "9                                                   0      \n",
       "10                                                  0      \n",
       "11                                        5.263157895      \n",
       "12                                                  0      \n",
       "13                                        15.78947368      \n",
       "14                                        1.587301587      \n",
       "15                                                  0      \n",
       "16                                                  0      \n",
       "17                                                  0      \n",
       "18                                                  0      \n",
       "19                                                  2      \n",
       "20                                               37.5      \n",
       "21                                                  0      \n",
       "22                                                  0      \n",
       "23                                        1.666666667      \n",
       "24                                                  0      \n",
       "25                                        4.761904762      \n",
       "26                                        27.77777778      \n",
       "27                                        20.63492063      \n",
       "28                                        83.33333333      \n",
       "29                                                  0      \n",
       "30                                                  0      \n",
       "31                                                  0      \n",
       "32                                                  0      \n",
       "33                                        3.765690377      \n",
       "34                                        7.848324515      \n",
       "35                                        6.266882766      \n",
       "36                                                  .      \n",
       "37                                                  .      \n",
       "\n",
       "   Turnout at 2014 local elections  \n",
       "0                              NaN  \n",
       "1                            38.16  \n",
       "2                             41.1  \n",
       "3                        not avail  \n",
       "4                               33  \n",
       "5                        not avail  \n",
       "6                            38.69  \n",
       "7                               38  \n",
       "8                             41.3  \n",
       "9                            37.79  \n",
       "10                           37.25  \n",
       "11                           42.89  \n",
       "12                              38  \n",
       "13                            38.1  \n",
       "14                              41  \n",
       "15                              43  \n",
       "16                           35.76  \n",
       "17                            36.8  \n",
       "18                            38.4  \n",
       "19                       not avail  \n",
       "20                       not avail  \n",
       "21                              32  \n",
       "22                            37.2  \n",
       "23                              41  \n",
       "24                           40.62  \n",
       "25                            39.7  \n",
       "26                            46.3  \n",
       "27                       not avail  \n",
       "28                            42.2  \n",
       "29                       not avail  \n",
       "30                       not avail  \n",
       "31                       not avail  \n",
       "32                       not avail  \n",
       "33                       not avail  \n",
       "34                       not avail  \n",
       "35                       not avail  \n",
       "36                               .  \n",
       "37                               .  \n",
       "\n",
       "[38 rows x 76 columns]"
      ]
     },
     "execution_count": 124,
     "metadata": {},
     "output_type": "execute_result"
    }
   ],
   "source": [
    "\n",
    "\n",
    "df2 = pd.read_csv('/Users/kanso/OneDrive/Desktop/Kanso/University/Year 3/Principles of Data Science/Tutorial 7/london-borough-profilesV2.csv', encoding= 'unicode_escape')\n",
    "\n",
    "df2"
   ]
  },
  {
   "cell_type": "code",
   "execution_count": 125,
   "metadata": {},
   "outputs": [
    {
     "data": {
      "text/html": [
       "<div>\n",
       "<style scoped>\n",
       "    .dataframe tbody tr th:only-of-type {\n",
       "        vertical-align: middle;\n",
       "    }\n",
       "\n",
       "    .dataframe tbody tr th {\n",
       "        vertical-align: top;\n",
       "    }\n",
       "\n",
       "    .dataframe thead th {\n",
       "        text-align: right;\n",
       "    }\n",
       "</style>\n",
       "<table border=\"1\" class=\"dataframe\">\n",
       "  <thead>\n",
       "    <tr style=\"text-align: right;\">\n",
       "      <th></th>\n",
       "      <th>Code</th>\n",
       "      <th>Area/INDICATOR</th>\n",
       "      <th>Inner/ Outer London</th>\n",
       "      <th>GLA Population Estimate 2013</th>\n",
       "      <th>GLA Household Estimate 2013</th>\n",
       "      <th>Inland Area (Hectares)</th>\n",
       "      <th>Population density (per hectare) 2013</th>\n",
       "      <th>Average Age, 2013</th>\n",
       "      <th>Proportion of population aged 0-15, 2013</th>\n",
       "      <th>Proportion of population of working-age, 2013</th>\n",
       "      <th>...</th>\n",
       "      <th>Teenage conception rate (2012)</th>\n",
       "      <th>Life satisfaction score 2012-13 (out of 10)</th>\n",
       "      <th>Worthwhileness score 2012-13 (out of 10)</th>\n",
       "      <th>Happiness score 2012-13 (out of 10)</th>\n",
       "      <th>Anxiety score 2012-13 (out of 10)</th>\n",
       "      <th>Political control in council</th>\n",
       "      <th>Proportion of seats won by Conservatives in 2014 election</th>\n",
       "      <th>Proportion of seats won by Labour in 2014 election</th>\n",
       "      <th>Proportion of seats won by Lib Dems in 2014 election</th>\n",
       "      <th>Turnout at 2014 local elections</th>\n",
       "    </tr>\n",
       "  </thead>\n",
       "  <tbody>\n",
       "    <tr>\n",
       "      <th>0</th>\n",
       "      <td>E09000001</td>\n",
       "      <td>City of London</td>\n",
       "      <td>Inner London</td>\n",
       "      <td>8000</td>\n",
       "      <td>4.514371e+03</td>\n",
       "      <td>290.40</td>\n",
       "      <td>27.525868</td>\n",
       "      <td>41.303887</td>\n",
       "      <td>7.948036</td>\n",
       "      <td>77.541617</td>\n",
       "      <td>...</td>\n",
       "      <td>.</td>\n",
       "      <td>8.10</td>\n",
       "      <td>8.23</td>\n",
       "      <td>7.44</td>\n",
       "      <td>x</td>\n",
       "      <td>NaN</td>\n",
       "      <td>NaN</td>\n",
       "      <td>NaN</td>\n",
       "      <td>NaN</td>\n",
       "      <td>NaN</td>\n",
       "    </tr>\n",
       "    <tr>\n",
       "      <th>1</th>\n",
       "      <td>E09000002</td>\n",
       "      <td>Barking and Dagenham</td>\n",
       "      <td>Outer London</td>\n",
       "      <td>195600</td>\n",
       "      <td>7.326141e+04</td>\n",
       "      <td>3610.80</td>\n",
       "      <td>54.160527</td>\n",
       "      <td>33.228935</td>\n",
       "      <td>26.072939</td>\n",
       "      <td>63.835021</td>\n",
       "      <td>...</td>\n",
       "      <td>35.4</td>\n",
       "      <td>7.06</td>\n",
       "      <td>7.57</td>\n",
       "      <td>6.97</td>\n",
       "      <td>3.3</td>\n",
       "      <td>Lab</td>\n",
       "      <td>0</td>\n",
       "      <td>100</td>\n",
       "      <td>0</td>\n",
       "      <td>38.16</td>\n",
       "    </tr>\n",
       "    <tr>\n",
       "      <th>2</th>\n",
       "      <td>E09000003</td>\n",
       "      <td>Barnet</td>\n",
       "      <td>Outer London</td>\n",
       "      <td>370000</td>\n",
       "      <td>1.413858e+05</td>\n",
       "      <td>8674.80</td>\n",
       "      <td>42.651374</td>\n",
       "      <td>36.896246</td>\n",
       "      <td>20.886408</td>\n",
       "      <td>65.505593</td>\n",
       "      <td>...</td>\n",
       "      <td>14.7</td>\n",
       "      <td>7.35</td>\n",
       "      <td>7.79</td>\n",
       "      <td>7.27</td>\n",
       "      <td>2.63</td>\n",
       "      <td>Cons</td>\n",
       "      <td>50.79365079</td>\n",
       "      <td>42.85714286</td>\n",
       "      <td>1.587301587</td>\n",
       "      <td>41.1</td>\n",
       "    </tr>\n",
       "    <tr>\n",
       "      <th>3</th>\n",
       "      <td>E09000004</td>\n",
       "      <td>Bexley</td>\n",
       "      <td>Outer London</td>\n",
       "      <td>236500</td>\n",
       "      <td>9.470123e+04</td>\n",
       "      <td>6058.10</td>\n",
       "      <td>39.044243</td>\n",
       "      <td>38.883039</td>\n",
       "      <td>20.282830</td>\n",
       "      <td>63.146450</td>\n",
       "      <td>...</td>\n",
       "      <td>25.8</td>\n",
       "      <td>7.47</td>\n",
       "      <td>7.75</td>\n",
       "      <td>7.21</td>\n",
       "      <td>3.22</td>\n",
       "      <td>Cons</td>\n",
       "      <td>71.42857143</td>\n",
       "      <td>23.80952381</td>\n",
       "      <td>0</td>\n",
       "      <td>not avail</td>\n",
       "    </tr>\n",
       "    <tr>\n",
       "      <th>4</th>\n",
       "      <td>E09000005</td>\n",
       "      <td>Brent</td>\n",
       "      <td>Outer London</td>\n",
       "      <td>320200</td>\n",
       "      <td>1.143186e+05</td>\n",
       "      <td>4323.30</td>\n",
       "      <td>74.063669</td>\n",
       "      <td>35.262694</td>\n",
       "      <td>20.462585</td>\n",
       "      <td>68.714872</td>\n",
       "      <td>...</td>\n",
       "      <td>19.6</td>\n",
       "      <td>7.23</td>\n",
       "      <td>7.32</td>\n",
       "      <td>7.09</td>\n",
       "      <td>3.33</td>\n",
       "      <td>Lab</td>\n",
       "      <td>9.523809524</td>\n",
       "      <td>88.88888889</td>\n",
       "      <td>1.587301587</td>\n",
       "      <td>33</td>\n",
       "    </tr>\n",
       "    <tr>\n",
       "      <th>5</th>\n",
       "      <td>E09000006</td>\n",
       "      <td>Bromley</td>\n",
       "      <td>Outer London</td>\n",
       "      <td>317400</td>\n",
       "      <td>1.340127e+05</td>\n",
       "      <td>15013.50</td>\n",
       "      <td>21.137655</td>\n",
       "      <td>39.844503</td>\n",
       "      <td>19.648001</td>\n",
       "      <td>62.927051</td>\n",
       "      <td>...</td>\n",
       "      <td>24.2</td>\n",
       "      <td>7.63</td>\n",
       "      <td>7.80</td>\n",
       "      <td>7.36</td>\n",
       "      <td>3.2</td>\n",
       "      <td>Cons</td>\n",
       "      <td>85</td>\n",
       "      <td>11.66666667</td>\n",
       "      <td>0</td>\n",
       "      <td>not avail</td>\n",
       "    </tr>\n",
       "    <tr>\n",
       "      <th>6</th>\n",
       "      <td>E09000007</td>\n",
       "      <td>Camden</td>\n",
       "      <td>Inner London</td>\n",
       "      <td>228400</td>\n",
       "      <td>1.008419e+05</td>\n",
       "      <td>2178.90</td>\n",
       "      <td>104.820985</td>\n",
       "      <td>35.842413</td>\n",
       "      <td>15.632617</td>\n",
       "      <td>73.313473</td>\n",
       "      <td>...</td>\n",
       "      <td>18.1</td>\n",
       "      <td>7.22</td>\n",
       "      <td>7.37</td>\n",
       "      <td>7.13</td>\n",
       "      <td>3.25</td>\n",
       "      <td>Lab</td>\n",
       "      <td>22.22222222</td>\n",
       "      <td>74.07407407</td>\n",
       "      <td>1.851851852</td>\n",
       "      <td>38.69</td>\n",
       "    </tr>\n",
       "    <tr>\n",
       "      <th>7</th>\n",
       "      <td>E09000008</td>\n",
       "      <td>Croydon</td>\n",
       "      <td>Outer London</td>\n",
       "      <td>373100</td>\n",
       "      <td>1.500539e+05</td>\n",
       "      <td>8650.40</td>\n",
       "      <td>43.129707</td>\n",
       "      <td>36.570761</td>\n",
       "      <td>21.641888</td>\n",
       "      <td>65.638589</td>\n",
       "      <td>...</td>\n",
       "      <td>28.6</td>\n",
       "      <td>7.00</td>\n",
       "      <td>7.46</td>\n",
       "      <td>7.11</td>\n",
       "      <td>3.02</td>\n",
       "      <td>Lab</td>\n",
       "      <td>42.85714286</td>\n",
       "      <td>57.14285714</td>\n",
       "      <td>0</td>\n",
       "      <td>38</td>\n",
       "    </tr>\n",
       "    <tr>\n",
       "      <th>8</th>\n",
       "      <td>E09000009</td>\n",
       "      <td>Ealing</td>\n",
       "      <td>Outer London</td>\n",
       "      <td>344900</td>\n",
       "      <td>1.268610e+05</td>\n",
       "      <td>5554.40</td>\n",
       "      <td>62.089808</td>\n",
       "      <td>35.637099</td>\n",
       "      <td>20.642035</td>\n",
       "      <td>68.216689</td>\n",
       "      <td>...</td>\n",
       "      <td>22.4</td>\n",
       "      <td>7.24</td>\n",
       "      <td>7.48</td>\n",
       "      <td>7.44</td>\n",
       "      <td>3.58</td>\n",
       "      <td>Lab</td>\n",
       "      <td>17.39130435</td>\n",
       "      <td>76.8115942</td>\n",
       "      <td>5.797101449</td>\n",
       "      <td>41.3</td>\n",
       "    </tr>\n",
       "    <tr>\n",
       "      <th>9</th>\n",
       "      <td>E09000010</td>\n",
       "      <td>Enfield</td>\n",
       "      <td>Outer London</td>\n",
       "      <td>322400</td>\n",
       "      <td>1.246020e+05</td>\n",
       "      <td>8083.20</td>\n",
       "      <td>39.888486</td>\n",
       "      <td>36.062871</td>\n",
       "      <td>22.182556</td>\n",
       "      <td>65.114934</td>\n",
       "      <td>...</td>\n",
       "      <td>26.4</td>\n",
       "      <td>7.18</td>\n",
       "      <td>7.57</td>\n",
       "      <td>7.41</td>\n",
       "      <td>2.51</td>\n",
       "      <td>Lab</td>\n",
       "      <td>34.92063492</td>\n",
       "      <td>65.07936508</td>\n",
       "      <td>0</td>\n",
       "      <td>37.79</td>\n",
       "    </tr>\n",
       "    <tr>\n",
       "      <th>10</th>\n",
       "      <td>E09000011</td>\n",
       "      <td>Greenwich</td>\n",
       "      <td>Outer London</td>\n",
       "      <td>262800</td>\n",
       "      <td>1.049996e+05</td>\n",
       "      <td>4733.40</td>\n",
       "      <td>55.516088</td>\n",
       "      <td>34.737054</td>\n",
       "      <td>21.754144</td>\n",
       "      <td>67.650982</td>\n",
       "      <td>...</td>\n",
       "      <td>34.7</td>\n",
       "      <td>7.16</td>\n",
       "      <td>7.49</td>\n",
       "      <td>7.05</td>\n",
       "      <td>3.68</td>\n",
       "      <td>Lab</td>\n",
       "      <td>15.68627451</td>\n",
       "      <td>84.31372549</td>\n",
       "      <td>0</td>\n",
       "      <td>37.25</td>\n",
       "    </tr>\n",
       "    <tr>\n",
       "      <th>11</th>\n",
       "      <td>E09000012</td>\n",
       "      <td>Hackney</td>\n",
       "      <td>Inner London</td>\n",
       "      <td>256600</td>\n",
       "      <td>1.066557e+05</td>\n",
       "      <td>1904.90</td>\n",
       "      <td>134.717347</td>\n",
       "      <td>32.624060</td>\n",
       "      <td>20.513252</td>\n",
       "      <td>72.376652</td>\n",
       "      <td>...</td>\n",
       "      <td>28.8</td>\n",
       "      <td>7.07</td>\n",
       "      <td>7.42</td>\n",
       "      <td>7.02</td>\n",
       "      <td>3.61</td>\n",
       "      <td>Lab</td>\n",
       "      <td>7.01754386</td>\n",
       "      <td>87.71929825</td>\n",
       "      <td>5.263157895</td>\n",
       "      <td>42.89</td>\n",
       "    </tr>\n",
       "    <tr>\n",
       "      <th>12</th>\n",
       "      <td>E09000013</td>\n",
       "      <td>Hammersmith and Fulham</td>\n",
       "      <td>Inner London</td>\n",
       "      <td>181000</td>\n",
       "      <td>7.968869e+04</td>\n",
       "      <td>1639.70</td>\n",
       "      <td>110.384364</td>\n",
       "      <td>34.933408</td>\n",
       "      <td>16.764645</td>\n",
       "      <td>73.768103</td>\n",
       "      <td>...</td>\n",
       "      <td>25.6</td>\n",
       "      <td>7.23</td>\n",
       "      <td>7.60</td>\n",
       "      <td>6.94</td>\n",
       "      <td>3.15</td>\n",
       "      <td>Lab</td>\n",
       "      <td>43.47826087</td>\n",
       "      <td>56.52173913</td>\n",
       "      <td>0</td>\n",
       "      <td>38</td>\n",
       "    </tr>\n",
       "    <tr>\n",
       "      <th>13</th>\n",
       "      <td>E09000014</td>\n",
       "      <td>Haringey</td>\n",
       "      <td>Inner London</td>\n",
       "      <td>263100</td>\n",
       "      <td>1.054593e+05</td>\n",
       "      <td>2959.80</td>\n",
       "      <td>88.883425</td>\n",
       "      <td>34.384912</td>\n",
       "      <td>19.877305</td>\n",
       "      <td>71.199466</td>\n",
       "      <td>...</td>\n",
       "      <td>33.1</td>\n",
       "      <td>7.20</td>\n",
       "      <td>7.44</td>\n",
       "      <td>7.13</td>\n",
       "      <td>3.07</td>\n",
       "      <td>Lab</td>\n",
       "      <td>0</td>\n",
       "      <td>84.21052632</td>\n",
       "      <td>15.78947368</td>\n",
       "      <td>38.1</td>\n",
       "    </tr>\n",
       "    <tr>\n",
       "      <th>14</th>\n",
       "      <td>E09000015</td>\n",
       "      <td>Harrow</td>\n",
       "      <td>Outer London</td>\n",
       "      <td>245900</td>\n",
       "      <td>8.696860e+04</td>\n",
       "      <td>5046.30</td>\n",
       "      <td>48.722544</td>\n",
       "      <td>37.695216</td>\n",
       "      <td>20.110244</td>\n",
       "      <td>65.413384</td>\n",
       "      <td>...</td>\n",
       "      <td>14.2</td>\n",
       "      <td>7.34</td>\n",
       "      <td>7.53</td>\n",
       "      <td>7.35</td>\n",
       "      <td>3.17</td>\n",
       "      <td>Lab</td>\n",
       "      <td>41.26984127</td>\n",
       "      <td>53.96825397</td>\n",
       "      <td>1.587301587</td>\n",
       "      <td>41</td>\n",
       "    </tr>\n",
       "    <tr>\n",
       "      <th>15</th>\n",
       "      <td>E09000016</td>\n",
       "      <td>Havering</td>\n",
       "      <td>Outer London</td>\n",
       "      <td>242600</td>\n",
       "      <td>9.920244e+04</td>\n",
       "      <td>11235.00</td>\n",
       "      <td>21.589910</td>\n",
       "      <td>40.296140</td>\n",
       "      <td>18.781558</td>\n",
       "      <td>62.788014</td>\n",
       "      <td>...</td>\n",
       "      <td>26.4</td>\n",
       "      <td>7.40</td>\n",
       "      <td>7.65</td>\n",
       "      <td>7.24</td>\n",
       "      <td>3.17</td>\n",
       "      <td>No Overall Control</td>\n",
       "      <td>40.74074074</td>\n",
       "      <td>1.851851852</td>\n",
       "      <td>0</td>\n",
       "      <td>43</td>\n",
       "    </tr>\n",
       "    <tr>\n",
       "      <th>16</th>\n",
       "      <td>E09000017</td>\n",
       "      <td>Hillingdon</td>\n",
       "      <td>Outer London</td>\n",
       "      <td>287500</td>\n",
       "      <td>1.046508e+05</td>\n",
       "      <td>11570.10</td>\n",
       "      <td>24.851919</td>\n",
       "      <td>36.171629</td>\n",
       "      <td>20.911751</td>\n",
       "      <td>66.121424</td>\n",
       "      <td>...</td>\n",
       "      <td>27.7</td>\n",
       "      <td>7.35</td>\n",
       "      <td>7.63</td>\n",
       "      <td>7.34</td>\n",
       "      <td>3.34</td>\n",
       "      <td>Cons</td>\n",
       "      <td>64.61538462</td>\n",
       "      <td>35.38461538</td>\n",
       "      <td>0</td>\n",
       "      <td>35.76</td>\n",
       "    </tr>\n",
       "    <tr>\n",
       "      <th>17</th>\n",
       "      <td>E09000018</td>\n",
       "      <td>Hounslow</td>\n",
       "      <td>Outer London</td>\n",
       "      <td>264300</td>\n",
       "      <td>9.884074e+04</td>\n",
       "      <td>5597.80</td>\n",
       "      <td>47.209459</td>\n",
       "      <td>35.263763</td>\n",
       "      <td>20.616902</td>\n",
       "      <td>68.542073</td>\n",
       "      <td>...</td>\n",
       "      <td>30.4</td>\n",
       "      <td>7.30</td>\n",
       "      <td>7.60</td>\n",
       "      <td>7.29</td>\n",
       "      <td>3.51</td>\n",
       "      <td>Lab</td>\n",
       "      <td>18.33333333</td>\n",
       "      <td>81.66666667</td>\n",
       "      <td>0</td>\n",
       "      <td>36.8</td>\n",
       "    </tr>\n",
       "    <tr>\n",
       "      <th>18</th>\n",
       "      <td>E09000019</td>\n",
       "      <td>Islington</td>\n",
       "      <td>Inner London</td>\n",
       "      <td>215900</td>\n",
       "      <td>9.761628e+04</td>\n",
       "      <td>1485.70</td>\n",
       "      <td>145.324910</td>\n",
       "      <td>34.419467</td>\n",
       "      <td>15.863559</td>\n",
       "      <td>75.457376</td>\n",
       "      <td>...</td>\n",
       "      <td>30.1</td>\n",
       "      <td>7.08</td>\n",
       "      <td>7.22</td>\n",
       "      <td>6.85</td>\n",
       "      <td>3.74</td>\n",
       "      <td>Lab</td>\n",
       "      <td>0</td>\n",
       "      <td>97.91666667</td>\n",
       "      <td>0</td>\n",
       "      <td>38.4</td>\n",
       "    </tr>\n",
       "    <tr>\n",
       "      <th>19</th>\n",
       "      <td>E09000020</td>\n",
       "      <td>Kensington and Chelsea</td>\n",
       "      <td>Inner London</td>\n",
       "      <td>155700</td>\n",
       "      <td>7.721090e+04</td>\n",
       "      <td>1212.40</td>\n",
       "      <td>128.427401</td>\n",
       "      <td>38.308554</td>\n",
       "      <td>15.908516</td>\n",
       "      <td>70.878237</td>\n",
       "      <td>...</td>\n",
       "      <td>17.7</td>\n",
       "      <td>7.68</td>\n",
       "      <td>7.92</td>\n",
       "      <td>7.51</td>\n",
       "      <td>3.06</td>\n",
       "      <td>Cons</td>\n",
       "      <td>74</td>\n",
       "      <td>24</td>\n",
       "      <td>2</td>\n",
       "      <td>not avail</td>\n",
       "    </tr>\n",
       "    <tr>\n",
       "      <th>20</th>\n",
       "      <td>E09000021</td>\n",
       "      <td>Kingston upon Thames</td>\n",
       "      <td>Outer London</td>\n",
       "      <td>166400</td>\n",
       "      <td>6.578263e+04</td>\n",
       "      <td>3726.10</td>\n",
       "      <td>44.660475</td>\n",
       "      <td>36.885957</td>\n",
       "      <td>18.994951</td>\n",
       "      <td>67.980436</td>\n",
       "      <td>...</td>\n",
       "      <td>20</td>\n",
       "      <td>7.29</td>\n",
       "      <td>7.45</td>\n",
       "      <td>7.18</td>\n",
       "      <td>3.23</td>\n",
       "      <td>Cons</td>\n",
       "      <td>58.33333333</td>\n",
       "      <td>4.166666667</td>\n",
       "      <td>37.5</td>\n",
       "      <td>not avail</td>\n",
       "    </tr>\n",
       "    <tr>\n",
       "      <th>21</th>\n",
       "      <td>E09000022</td>\n",
       "      <td>Lambeth</td>\n",
       "      <td>Inner London</td>\n",
       "      <td>313800</td>\n",
       "      <td>1.345125e+05</td>\n",
       "      <td>2681.00</td>\n",
       "      <td>117.055632</td>\n",
       "      <td>33.862641</td>\n",
       "      <td>17.899970</td>\n",
       "      <td>74.455090</td>\n",
       "      <td>...</td>\n",
       "      <td>33.2</td>\n",
       "      <td>7.09</td>\n",
       "      <td>7.40</td>\n",
       "      <td>6.97</td>\n",
       "      <td>3.69</td>\n",
       "      <td>Lab</td>\n",
       "      <td>4.761904762</td>\n",
       "      <td>93.65079365</td>\n",
       "      <td>0</td>\n",
       "      <td>32</td>\n",
       "    </tr>\n",
       "    <tr>\n",
       "      <th>22</th>\n",
       "      <td>E09000023</td>\n",
       "      <td>Lewisham</td>\n",
       "      <td>Inner London</td>\n",
       "      <td>286000</td>\n",
       "      <td>1.204394e+05</td>\n",
       "      <td>3514.90</td>\n",
       "      <td>81.366697</td>\n",
       "      <td>34.540168</td>\n",
       "      <td>20.620499</td>\n",
       "      <td>69.996836</td>\n",
       "      <td>...</td>\n",
       "      <td>42</td>\n",
       "      <td>7.23</td>\n",
       "      <td>7.71</td>\n",
       "      <td>7.13</td>\n",
       "      <td>3.35</td>\n",
       "      <td>Lab</td>\n",
       "      <td>0</td>\n",
       "      <td>98.14814815</td>\n",
       "      <td>0</td>\n",
       "      <td>37.2</td>\n",
       "    </tr>\n",
       "    <tr>\n",
       "      <th>23</th>\n",
       "      <td>E09000024</td>\n",
       "      <td>Merton</td>\n",
       "      <td>Outer London</td>\n",
       "      <td>205400</td>\n",
       "      <td>8.104764e+04</td>\n",
       "      <td>3762.50</td>\n",
       "      <td>54.603478</td>\n",
       "      <td>36.262610</td>\n",
       "      <td>20.203379</td>\n",
       "      <td>67.896608</td>\n",
       "      <td>...</td>\n",
       "      <td>25.5</td>\n",
       "      <td>7.18</td>\n",
       "      <td>7.54</td>\n",
       "      <td>7.13</td>\n",
       "      <td>3.59</td>\n",
       "      <td>Lab</td>\n",
       "      <td>33.33333333</td>\n",
       "      <td>60</td>\n",
       "      <td>1.666666667</td>\n",
       "      <td>41</td>\n",
       "    </tr>\n",
       "    <tr>\n",
       "      <th>24</th>\n",
       "      <td>E09000025</td>\n",
       "      <td>Newham</td>\n",
       "      <td>Inner London</td>\n",
       "      <td>323400</td>\n",
       "      <td>1.077933e+05</td>\n",
       "      <td>3619.80</td>\n",
       "      <td>89.338992</td>\n",
       "      <td>31.423439</td>\n",
       "      <td>22.508503</td>\n",
       "      <td>70.809763</td>\n",
       "      <td>...</td>\n",
       "      <td>24.1</td>\n",
       "      <td>7.22</td>\n",
       "      <td>7.51</td>\n",
       "      <td>7.32</td>\n",
       "      <td>3.36</td>\n",
       "      <td>Lab</td>\n",
       "      <td>0</td>\n",
       "      <td>100</td>\n",
       "      <td>0</td>\n",
       "      <td>40.62</td>\n",
       "    </tr>\n",
       "    <tr>\n",
       "      <th>25</th>\n",
       "      <td>E09000026</td>\n",
       "      <td>Redbridge</td>\n",
       "      <td>Outer London</td>\n",
       "      <td>289900</td>\n",
       "      <td>1.030537e+05</td>\n",
       "      <td>5641.90</td>\n",
       "      <td>51.374341</td>\n",
       "      <td>35.531757</td>\n",
       "      <td>22.684198</td>\n",
       "      <td>65.238253</td>\n",
       "      <td>...</td>\n",
       "      <td>16.2</td>\n",
       "      <td>7.28</td>\n",
       "      <td>7.44</td>\n",
       "      <td>7.34</td>\n",
       "      <td>3.12</td>\n",
       "      <td>Lab</td>\n",
       "      <td>39.68253968</td>\n",
       "      <td>55.55555556</td>\n",
       "      <td>4.761904762</td>\n",
       "      <td>39.7</td>\n",
       "    </tr>\n",
       "    <tr>\n",
       "      <th>26</th>\n",
       "      <td>E09000027</td>\n",
       "      <td>Richmond upon Thames</td>\n",
       "      <td>Outer London</td>\n",
       "      <td>191300</td>\n",
       "      <td>8.135316e+04</td>\n",
       "      <td>5740.70</td>\n",
       "      <td>33.331460</td>\n",
       "      <td>38.290205</td>\n",
       "      <td>20.202975</td>\n",
       "      <td>65.548776</td>\n",
       "      <td>...</td>\n",
       "      <td>19.9</td>\n",
       "      <td>7.42</td>\n",
       "      <td>7.69</td>\n",
       "      <td>7.33</td>\n",
       "      <td>3.56</td>\n",
       "      <td>Cons</td>\n",
       "      <td>72.22222222</td>\n",
       "      <td>0</td>\n",
       "      <td>27.77777778</td>\n",
       "      <td>46.3</td>\n",
       "    </tr>\n",
       "    <tr>\n",
       "      <th>27</th>\n",
       "      <td>E09000028</td>\n",
       "      <td>Southwark</td>\n",
       "      <td>Inner London</td>\n",
       "      <td>298400</td>\n",
       "      <td>1.246139e+05</td>\n",
       "      <td>2886.20</td>\n",
       "      <td>103.403127</td>\n",
       "      <td>33.754401</td>\n",
       "      <td>18.507644</td>\n",
       "      <td>73.722633</td>\n",
       "      <td>...</td>\n",
       "      <td>31.8</td>\n",
       "      <td>7.27</td>\n",
       "      <td>7.68</td>\n",
       "      <td>7.20</td>\n",
       "      <td>3.28</td>\n",
       "      <td>Lab</td>\n",
       "      <td>3.174603175</td>\n",
       "      <td>76.19047619</td>\n",
       "      <td>20.63492063</td>\n",
       "      <td>not avail</td>\n",
       "    </tr>\n",
       "    <tr>\n",
       "      <th>28</th>\n",
       "      <td>E09000029</td>\n",
       "      <td>Sutton</td>\n",
       "      <td>Outer London</td>\n",
       "      <td>196400</td>\n",
       "      <td>8.074848e+04</td>\n",
       "      <td>4384.70</td>\n",
       "      <td>44.802887</td>\n",
       "      <td>38.310437</td>\n",
       "      <td>20.151661</td>\n",
       "      <td>64.951011</td>\n",
       "      <td>...</td>\n",
       "      <td>25.8</td>\n",
       "      <td>7.25</td>\n",
       "      <td>7.57</td>\n",
       "      <td>7.13</td>\n",
       "      <td>3.34</td>\n",
       "      <td>Lib Dem</td>\n",
       "      <td>16.66666667</td>\n",
       "      <td>0</td>\n",
       "      <td>83.33333333</td>\n",
       "      <td>42.2</td>\n",
       "    </tr>\n",
       "    <tr>\n",
       "      <th>29</th>\n",
       "      <td>E09000030</td>\n",
       "      <td>Tower Hamlets</td>\n",
       "      <td>Inner London</td>\n",
       "      <td>271100</td>\n",
       "      <td>1.092805e+05</td>\n",
       "      <td>1978.10</td>\n",
       "      <td>137.067542</td>\n",
       "      <td>31.064282</td>\n",
       "      <td>19.602621</td>\n",
       "      <td>74.531880</td>\n",
       "      <td>...</td>\n",
       "      <td>24.3</td>\n",
       "      <td>7.28</td>\n",
       "      <td>7.56</td>\n",
       "      <td>7.32</td>\n",
       "      <td>2.93</td>\n",
       "      <td>Tower Hamlets First</td>\n",
       "      <td>15.55555556</td>\n",
       "      <td>44.44444444</td>\n",
       "      <td>0</td>\n",
       "      <td>not avail</td>\n",
       "    </tr>\n",
       "    <tr>\n",
       "      <th>30</th>\n",
       "      <td>E09000031</td>\n",
       "      <td>Waltham Forest</td>\n",
       "      <td>Outer London</td>\n",
       "      <td>267700</td>\n",
       "      <td>1.005245e+05</td>\n",
       "      <td>3880.80</td>\n",
       "      <td>68.970286</td>\n",
       "      <td>34.502988</td>\n",
       "      <td>21.784829</td>\n",
       "      <td>68.105760</td>\n",
       "      <td>...</td>\n",
       "      <td>29.9</td>\n",
       "      <td>7.24</td>\n",
       "      <td>7.72</td>\n",
       "      <td>7.26</td>\n",
       "      <td>2.99</td>\n",
       "      <td>Lab</td>\n",
       "      <td>26.66666667</td>\n",
       "      <td>73.33333333</td>\n",
       "      <td>0</td>\n",
       "      <td>not avail</td>\n",
       "    </tr>\n",
       "    <tr>\n",
       "      <th>31</th>\n",
       "      <td>E09000032</td>\n",
       "      <td>Wandsworth</td>\n",
       "      <td>Inner London</td>\n",
       "      <td>311800</td>\n",
       "      <td>1.315620e+05</td>\n",
       "      <td>3426.40</td>\n",
       "      <td>91.009107</td>\n",
       "      <td>34.414955</td>\n",
       "      <td>17.342442</td>\n",
       "      <td>73.693151</td>\n",
       "      <td>...</td>\n",
       "      <td>25.5</td>\n",
       "      <td>7.23</td>\n",
       "      <td>7.55</td>\n",
       "      <td>7.28</td>\n",
       "      <td>3.55</td>\n",
       "      <td>Cons</td>\n",
       "      <td>68.33333333</td>\n",
       "      <td>31.66666667</td>\n",
       "      <td>0</td>\n",
       "      <td>not avail</td>\n",
       "    </tr>\n",
       "    <tr>\n",
       "      <th>32</th>\n",
       "      <td>E09000033</td>\n",
       "      <td>Westminster</td>\n",
       "      <td>Inner London</td>\n",
       "      <td>226600</td>\n",
       "      <td>1.085501e+05</td>\n",
       "      <td>2148.70</td>\n",
       "      <td>105.457732</td>\n",
       "      <td>36.729055</td>\n",
       "      <td>14.781940</td>\n",
       "      <td>73.924420</td>\n",
       "      <td>...</td>\n",
       "      <td>21.2</td>\n",
       "      <td>7.09</td>\n",
       "      <td>7.44</td>\n",
       "      <td>7.09</td>\n",
       "      <td>3.58</td>\n",
       "      <td>Cons</td>\n",
       "      <td>73.33333333</td>\n",
       "      <td>26.66666667</td>\n",
       "      <td>0</td>\n",
       "      <td>not avail</td>\n",
       "    </tr>\n",
       "    <tr>\n",
       "      <th>33</th>\n",
       "      <td>E13000001</td>\n",
       "      <td>Inner London</td>\n",
       "      <td>.</td>\n",
       "      <td>3339900</td>\n",
       "      <td>1.408739e+06</td>\n",
       "      <td>31929.20</td>\n",
       "      <td>104.604284</td>\n",
       "      <td>34.094128</td>\n",
       "      <td>18.399747</td>\n",
       "      <td>72.928004</td>\n",
       "      <td>...</td>\n",
       "      <td>28.5</td>\n",
       "      <td>7.21</td>\n",
       "      <td>7.52</td>\n",
       "      <td>7.15</td>\n",
       "      <td>3.36</td>\n",
       "      <td>.</td>\n",
       "      <td>23.70990237</td>\n",
       "      <td>69.45606695</td>\n",
       "      <td>3.765690377</td>\n",
       "      <td>not avail</td>\n",
       "    </tr>\n",
       "    <tr>\n",
       "      <th>34</th>\n",
       "      <td>E13000002</td>\n",
       "      <td>Outer London</td>\n",
       "      <td>NaN</td>\n",
       "      <td>5100200</td>\n",
       "      <td>1.966369e+06</td>\n",
       "      <td>125423.60</td>\n",
       "      <td>40.663753</td>\n",
       "      <td>36.608313</td>\n",
       "      <td>20.975104</td>\n",
       "      <td>65.989008</td>\n",
       "      <td>...</td>\n",
       "      <td>24.5</td>\n",
       "      <td>7.28</td>\n",
       "      <td>7.58</td>\n",
       "      <td>7.25</td>\n",
       "      <td>3.21</td>\n",
       "      <td>.</td>\n",
       "      <td>39.15343915</td>\n",
       "      <td>49.11816578</td>\n",
       "      <td>7.848324515</td>\n",
       "      <td>not avail</td>\n",
       "    </tr>\n",
       "    <tr>\n",
       "      <th>35</th>\n",
       "      <td>E12000007</td>\n",
       "      <td>London</td>\n",
       "      <td>NaN</td>\n",
       "      <td>8440100</td>\n",
       "      <td>3.375108e+06</td>\n",
       "      <td>157214.70</td>\n",
       "      <td>53.685369</td>\n",
       "      <td>35.613397</td>\n",
       "      <td>19.955981</td>\n",
       "      <td>68.734914</td>\n",
       "      <td>...</td>\n",
       "      <td>25.9</td>\n",
       "      <td>7.26</td>\n",
       "      <td>7.56</td>\n",
       "      <td>7.21</td>\n",
       "      <td>3.27</td>\n",
       "      <td>.</td>\n",
       "      <td>33.17125878</td>\n",
       "      <td>56.99621826</td>\n",
       "      <td>6.266882766</td>\n",
       "      <td>not avail</td>\n",
       "    </tr>\n",
       "    <tr>\n",
       "      <th>36</th>\n",
       "      <td>E92000001</td>\n",
       "      <td>England</td>\n",
       "      <td>NaN</td>\n",
       "      <td>53493729</td>\n",
       "      <td>2.254290e+07</td>\n",
       "      <td>13027866.98</td>\n",
       "      <td>4.069162</td>\n",
       "      <td>39.442770</td>\n",
       "      <td>18.937222</td>\n",
       "      <td>64.132742</td>\n",
       "      <td>...</td>\n",
       "      <td>27.7</td>\n",
       "      <td>7.44</td>\n",
       "      <td>7.68</td>\n",
       "      <td>7.28</td>\n",
       "      <td>3.05</td>\n",
       "      <td>.</td>\n",
       "      <td>.</td>\n",
       "      <td>.</td>\n",
       "      <td>.</td>\n",
       "      <td>.</td>\n",
       "    </tr>\n",
       "    <tr>\n",
       "      <th>37</th>\n",
       "      <td>K02000001</td>\n",
       "      <td>United Kingdom</td>\n",
       "      <td>NaN</td>\n",
       "      <td>63705030</td>\n",
       "      <td>2.706534e+07</td>\n",
       "      <td>24309424.52</td>\n",
       "      <td>2.561228</td>\n",
       "      <td>39.553318</td>\n",
       "      <td>18.811058</td>\n",
       "      <td>64.171517</td>\n",
       "      <td>...</td>\n",
       "      <td>.</td>\n",
       "      <td>7.45</td>\n",
       "      <td>7.69</td>\n",
       "      <td>7.29</td>\n",
       "      <td>3.03</td>\n",
       "      <td>.</td>\n",
       "      <td>.</td>\n",
       "      <td>.</td>\n",
       "      <td>.</td>\n",
       "      <td>.</td>\n",
       "    </tr>\n",
       "  </tbody>\n",
       "</table>\n",
       "<p>38 rows × 76 columns</p>\n",
       "</div>"
      ],
      "text/plain": [
       "         Code          Area/INDICATOR Inner/ Outer London  \\\n",
       "0   E09000001          City of London        Inner London   \n",
       "1   E09000002    Barking and Dagenham        Outer London   \n",
       "2   E09000003                  Barnet        Outer London   \n",
       "3   E09000004                  Bexley        Outer London   \n",
       "4   E09000005                   Brent        Outer London   \n",
       "5   E09000006                 Bromley        Outer London   \n",
       "6   E09000007                  Camden        Inner London   \n",
       "7   E09000008                 Croydon        Outer London   \n",
       "8   E09000009                  Ealing        Outer London   \n",
       "9   E09000010                 Enfield        Outer London   \n",
       "10  E09000011               Greenwich        Outer London   \n",
       "11  E09000012                 Hackney        Inner London   \n",
       "12  E09000013  Hammersmith and Fulham        Inner London   \n",
       "13  E09000014                Haringey        Inner London   \n",
       "14  E09000015                  Harrow        Outer London   \n",
       "15  E09000016                Havering        Outer London   \n",
       "16  E09000017              Hillingdon        Outer London   \n",
       "17  E09000018                Hounslow        Outer London   \n",
       "18  E09000019               Islington        Inner London   \n",
       "19  E09000020  Kensington and Chelsea        Inner London   \n",
       "20  E09000021    Kingston upon Thames        Outer London   \n",
       "21  E09000022                 Lambeth        Inner London   \n",
       "22  E09000023                Lewisham        Inner London   \n",
       "23  E09000024                  Merton        Outer London   \n",
       "24  E09000025                  Newham        Inner London   \n",
       "25  E09000026               Redbridge        Outer London   \n",
       "26  E09000027    Richmond upon Thames        Outer London   \n",
       "27  E09000028               Southwark        Inner London   \n",
       "28  E09000029                  Sutton        Outer London   \n",
       "29  E09000030           Tower Hamlets        Inner London   \n",
       "30  E09000031          Waltham Forest        Outer London   \n",
       "31  E09000032              Wandsworth        Inner London   \n",
       "32  E09000033             Westminster        Inner London   \n",
       "33  E13000001            Inner London                   .   \n",
       "34  E13000002            Outer London                 NaN   \n",
       "35  E12000007                  London                 NaN   \n",
       "36  E92000001                 England                 NaN   \n",
       "37  K02000001          United Kingdom                 NaN   \n",
       "\n",
       "    GLA Population Estimate 2013  GLA Household Estimate 2013  \\\n",
       "0                           8000                 4.514371e+03   \n",
       "1                         195600                 7.326141e+04   \n",
       "2                         370000                 1.413858e+05   \n",
       "3                         236500                 9.470123e+04   \n",
       "4                         320200                 1.143186e+05   \n",
       "5                         317400                 1.340127e+05   \n",
       "6                         228400                 1.008419e+05   \n",
       "7                         373100                 1.500539e+05   \n",
       "8                         344900                 1.268610e+05   \n",
       "9                         322400                 1.246020e+05   \n",
       "10                        262800                 1.049996e+05   \n",
       "11                        256600                 1.066557e+05   \n",
       "12                        181000                 7.968869e+04   \n",
       "13                        263100                 1.054593e+05   \n",
       "14                        245900                 8.696860e+04   \n",
       "15                        242600                 9.920244e+04   \n",
       "16                        287500                 1.046508e+05   \n",
       "17                        264300                 9.884074e+04   \n",
       "18                        215900                 9.761628e+04   \n",
       "19                        155700                 7.721090e+04   \n",
       "20                        166400                 6.578263e+04   \n",
       "21                        313800                 1.345125e+05   \n",
       "22                        286000                 1.204394e+05   \n",
       "23                        205400                 8.104764e+04   \n",
       "24                        323400                 1.077933e+05   \n",
       "25                        289900                 1.030537e+05   \n",
       "26                        191300                 8.135316e+04   \n",
       "27                        298400                 1.246139e+05   \n",
       "28                        196400                 8.074848e+04   \n",
       "29                        271100                 1.092805e+05   \n",
       "30                        267700                 1.005245e+05   \n",
       "31                        311800                 1.315620e+05   \n",
       "32                        226600                 1.085501e+05   \n",
       "33                       3339900                 1.408739e+06   \n",
       "34                       5100200                 1.966369e+06   \n",
       "35                       8440100                 3.375108e+06   \n",
       "36                      53493729                 2.254290e+07   \n",
       "37                      63705030                 2.706534e+07   \n",
       "\n",
       "    Inland Area (Hectares)  Population density (per hectare) 2013  \\\n",
       "0                   290.40                              27.525868   \n",
       "1                  3610.80                              54.160527   \n",
       "2                  8674.80                              42.651374   \n",
       "3                  6058.10                              39.044243   \n",
       "4                  4323.30                              74.063669   \n",
       "5                 15013.50                              21.137655   \n",
       "6                  2178.90                             104.820985   \n",
       "7                  8650.40                              43.129707   \n",
       "8                  5554.40                              62.089808   \n",
       "9                  8083.20                              39.888486   \n",
       "10                 4733.40                              55.516088   \n",
       "11                 1904.90                             134.717347   \n",
       "12                 1639.70                             110.384364   \n",
       "13                 2959.80                              88.883425   \n",
       "14                 5046.30                              48.722544   \n",
       "15                11235.00                              21.589910   \n",
       "16                11570.10                              24.851919   \n",
       "17                 5597.80                              47.209459   \n",
       "18                 1485.70                             145.324910   \n",
       "19                 1212.40                             128.427401   \n",
       "20                 3726.10                              44.660475   \n",
       "21                 2681.00                             117.055632   \n",
       "22                 3514.90                              81.366697   \n",
       "23                 3762.50                              54.603478   \n",
       "24                 3619.80                              89.338992   \n",
       "25                 5641.90                              51.374341   \n",
       "26                 5740.70                              33.331460   \n",
       "27                 2886.20                             103.403127   \n",
       "28                 4384.70                              44.802887   \n",
       "29                 1978.10                             137.067542   \n",
       "30                 3880.80                              68.970286   \n",
       "31                 3426.40                              91.009107   \n",
       "32                 2148.70                             105.457732   \n",
       "33                31929.20                             104.604284   \n",
       "34               125423.60                              40.663753   \n",
       "35               157214.70                              53.685369   \n",
       "36             13027866.98                               4.069162   \n",
       "37             24309424.52                               2.561228   \n",
       "\n",
       "    Average Age, 2013  Proportion of population aged 0-15, 2013  \\\n",
       "0           41.303887                                  7.948036   \n",
       "1           33.228935                                 26.072939   \n",
       "2           36.896246                                 20.886408   \n",
       "3           38.883039                                 20.282830   \n",
       "4           35.262694                                 20.462585   \n",
       "5           39.844503                                 19.648001   \n",
       "6           35.842413                                 15.632617   \n",
       "7           36.570761                                 21.641888   \n",
       "8           35.637099                                 20.642035   \n",
       "9           36.062871                                 22.182556   \n",
       "10          34.737054                                 21.754144   \n",
       "11          32.624060                                 20.513252   \n",
       "12          34.933408                                 16.764645   \n",
       "13          34.384912                                 19.877305   \n",
       "14          37.695216                                 20.110244   \n",
       "15          40.296140                                 18.781558   \n",
       "16          36.171629                                 20.911751   \n",
       "17          35.263763                                 20.616902   \n",
       "18          34.419467                                 15.863559   \n",
       "19          38.308554                                 15.908516   \n",
       "20          36.885957                                 18.994951   \n",
       "21          33.862641                                 17.899970   \n",
       "22          34.540168                                 20.620499   \n",
       "23          36.262610                                 20.203379   \n",
       "24          31.423439                                 22.508503   \n",
       "25          35.531757                                 22.684198   \n",
       "26          38.290205                                 20.202975   \n",
       "27          33.754401                                 18.507644   \n",
       "28          38.310437                                 20.151661   \n",
       "29          31.064282                                 19.602621   \n",
       "30          34.502988                                 21.784829   \n",
       "31          34.414955                                 17.342442   \n",
       "32          36.729055                                 14.781940   \n",
       "33          34.094128                                 18.399747   \n",
       "34          36.608313                                 20.975104   \n",
       "35          35.613397                                 19.955981   \n",
       "36          39.442770                                 18.937222   \n",
       "37          39.553318                                 18.811058   \n",
       "\n",
       "    Proportion of population of working-age, 2013  ...  \\\n",
       "0                                       77.541617  ...   \n",
       "1                                       63.835021  ...   \n",
       "2                                       65.505593  ...   \n",
       "3                                       63.146450  ...   \n",
       "4                                       68.714872  ...   \n",
       "5                                       62.927051  ...   \n",
       "6                                       73.313473  ...   \n",
       "7                                       65.638589  ...   \n",
       "8                                       68.216689  ...   \n",
       "9                                       65.114934  ...   \n",
       "10                                      67.650982  ...   \n",
       "11                                      72.376652  ...   \n",
       "12                                      73.768103  ...   \n",
       "13                                      71.199466  ...   \n",
       "14                                      65.413384  ...   \n",
       "15                                      62.788014  ...   \n",
       "16                                      66.121424  ...   \n",
       "17                                      68.542073  ...   \n",
       "18                                      75.457376  ...   \n",
       "19                                      70.878237  ...   \n",
       "20                                      67.980436  ...   \n",
       "21                                      74.455090  ...   \n",
       "22                                      69.996836  ...   \n",
       "23                                      67.896608  ...   \n",
       "24                                      70.809763  ...   \n",
       "25                                      65.238253  ...   \n",
       "26                                      65.548776  ...   \n",
       "27                                      73.722633  ...   \n",
       "28                                      64.951011  ...   \n",
       "29                                      74.531880  ...   \n",
       "30                                      68.105760  ...   \n",
       "31                                      73.693151  ...   \n",
       "32                                      73.924420  ...   \n",
       "33                                      72.928004  ...   \n",
       "34                                      65.989008  ...   \n",
       "35                                      68.734914  ...   \n",
       "36                                      64.132742  ...   \n",
       "37                                      64.171517  ...   \n",
       "\n",
       "    Teenage conception rate (2012)  \\\n",
       "0                                .   \n",
       "1                             35.4   \n",
       "2                             14.7   \n",
       "3                             25.8   \n",
       "4                             19.6   \n",
       "5                             24.2   \n",
       "6                             18.1   \n",
       "7                             28.6   \n",
       "8                             22.4   \n",
       "9                             26.4   \n",
       "10                            34.7   \n",
       "11                            28.8   \n",
       "12                            25.6   \n",
       "13                            33.1   \n",
       "14                            14.2   \n",
       "15                            26.4   \n",
       "16                            27.7   \n",
       "17                            30.4   \n",
       "18                            30.1   \n",
       "19                            17.7   \n",
       "20                              20   \n",
       "21                            33.2   \n",
       "22                              42   \n",
       "23                            25.5   \n",
       "24                            24.1   \n",
       "25                            16.2   \n",
       "26                            19.9   \n",
       "27                            31.8   \n",
       "28                            25.8   \n",
       "29                            24.3   \n",
       "30                            29.9   \n",
       "31                            25.5   \n",
       "32                            21.2   \n",
       "33                            28.5   \n",
       "34                            24.5   \n",
       "35                            25.9   \n",
       "36                            27.7   \n",
       "37                               .   \n",
       "\n",
       "   Life satisfaction score 2012-13 (out of 10)  \\\n",
       "0                                         8.10   \n",
       "1                                         7.06   \n",
       "2                                         7.35   \n",
       "3                                         7.47   \n",
       "4                                         7.23   \n",
       "5                                         7.63   \n",
       "6                                         7.22   \n",
       "7                                         7.00   \n",
       "8                                         7.24   \n",
       "9                                         7.18   \n",
       "10                                        7.16   \n",
       "11                                        7.07   \n",
       "12                                        7.23   \n",
       "13                                        7.20   \n",
       "14                                        7.34   \n",
       "15                                        7.40   \n",
       "16                                        7.35   \n",
       "17                                        7.30   \n",
       "18                                        7.08   \n",
       "19                                        7.68   \n",
       "20                                        7.29   \n",
       "21                                        7.09   \n",
       "22                                        7.23   \n",
       "23                                        7.18   \n",
       "24                                        7.22   \n",
       "25                                        7.28   \n",
       "26                                        7.42   \n",
       "27                                        7.27   \n",
       "28                                        7.25   \n",
       "29                                        7.28   \n",
       "30                                        7.24   \n",
       "31                                        7.23   \n",
       "32                                        7.09   \n",
       "33                                        7.21   \n",
       "34                                        7.28   \n",
       "35                                        7.26   \n",
       "36                                        7.44   \n",
       "37                                        7.45   \n",
       "\n",
       "   Worthwhileness score 2012-13 (out of 10)  \\\n",
       "0                                      8.23   \n",
       "1                                      7.57   \n",
       "2                                      7.79   \n",
       "3                                      7.75   \n",
       "4                                      7.32   \n",
       "5                                      7.80   \n",
       "6                                      7.37   \n",
       "7                                      7.46   \n",
       "8                                      7.48   \n",
       "9                                      7.57   \n",
       "10                                     7.49   \n",
       "11                                     7.42   \n",
       "12                                     7.60   \n",
       "13                                     7.44   \n",
       "14                                     7.53   \n",
       "15                                     7.65   \n",
       "16                                     7.63   \n",
       "17                                     7.60   \n",
       "18                                     7.22   \n",
       "19                                     7.92   \n",
       "20                                     7.45   \n",
       "21                                     7.40   \n",
       "22                                     7.71   \n",
       "23                                     7.54   \n",
       "24                                     7.51   \n",
       "25                                     7.44   \n",
       "26                                     7.69   \n",
       "27                                     7.68   \n",
       "28                                     7.57   \n",
       "29                                     7.56   \n",
       "30                                     7.72   \n",
       "31                                     7.55   \n",
       "32                                     7.44   \n",
       "33                                     7.52   \n",
       "34                                     7.58   \n",
       "35                                     7.56   \n",
       "36                                     7.68   \n",
       "37                                     7.69   \n",
       "\n",
       "   Happiness score 2012-13 (out of 10) Anxiety score 2012-13 (out of 10)  \\\n",
       "0                                 7.44                                 x   \n",
       "1                                 6.97                               3.3   \n",
       "2                                 7.27                              2.63   \n",
       "3                                 7.21                              3.22   \n",
       "4                                 7.09                              3.33   \n",
       "5                                 7.36                               3.2   \n",
       "6                                 7.13                              3.25   \n",
       "7                                 7.11                              3.02   \n",
       "8                                 7.44                              3.58   \n",
       "9                                 7.41                              2.51   \n",
       "10                                7.05                              3.68   \n",
       "11                                7.02                              3.61   \n",
       "12                                6.94                              3.15   \n",
       "13                                7.13                              3.07   \n",
       "14                                7.35                              3.17   \n",
       "15                                7.24                              3.17   \n",
       "16                                7.34                              3.34   \n",
       "17                                7.29                              3.51   \n",
       "18                                6.85                              3.74   \n",
       "19                                7.51                              3.06   \n",
       "20                                7.18                              3.23   \n",
       "21                                6.97                              3.69   \n",
       "22                                7.13                              3.35   \n",
       "23                                7.13                              3.59   \n",
       "24                                7.32                              3.36   \n",
       "25                                7.34                              3.12   \n",
       "26                                7.33                              3.56   \n",
       "27                                7.20                              3.28   \n",
       "28                                7.13                              3.34   \n",
       "29                                7.32                              2.93   \n",
       "30                                7.26                              2.99   \n",
       "31                                7.28                              3.55   \n",
       "32                                7.09                              3.58   \n",
       "33                                7.15                              3.36   \n",
       "34                                7.25                              3.21   \n",
       "35                                7.21                              3.27   \n",
       "36                                7.28                              3.05   \n",
       "37                                7.29                              3.03   \n",
       "\n",
       "   Political control in council  \\\n",
       "0                           NaN   \n",
       "1                           Lab   \n",
       "2                          Cons   \n",
       "3                          Cons   \n",
       "4                           Lab   \n",
       "5                          Cons   \n",
       "6                           Lab   \n",
       "7                           Lab   \n",
       "8                           Lab   \n",
       "9                           Lab   \n",
       "10                          Lab   \n",
       "11                          Lab   \n",
       "12                          Lab   \n",
       "13                          Lab   \n",
       "14                          Lab   \n",
       "15           No Overall Control   \n",
       "16                         Cons   \n",
       "17                          Lab   \n",
       "18                          Lab   \n",
       "19                         Cons   \n",
       "20                         Cons   \n",
       "21                          Lab   \n",
       "22                          Lab   \n",
       "23                          Lab   \n",
       "24                          Lab   \n",
       "25                          Lab   \n",
       "26                         Cons   \n",
       "27                          Lab   \n",
       "28                      Lib Dem   \n",
       "29          Tower Hamlets First   \n",
       "30                          Lab   \n",
       "31                         Cons   \n",
       "32                         Cons   \n",
       "33                            .   \n",
       "34                            .   \n",
       "35                            .   \n",
       "36                            .   \n",
       "37                            .   \n",
       "\n",
       "   Proportion of seats won by Conservatives in 2014 election  \\\n",
       "0                                                 NaN          \n",
       "1                                                   0          \n",
       "2                                         50.79365079          \n",
       "3                                         71.42857143          \n",
       "4                                         9.523809524          \n",
       "5                                                  85          \n",
       "6                                         22.22222222          \n",
       "7                                         42.85714286          \n",
       "8                                         17.39130435          \n",
       "9                                         34.92063492          \n",
       "10                                        15.68627451          \n",
       "11                                         7.01754386          \n",
       "12                                        43.47826087          \n",
       "13                                                  0          \n",
       "14                                        41.26984127          \n",
       "15                                        40.74074074          \n",
       "16                                        64.61538462          \n",
       "17                                        18.33333333          \n",
       "18                                                  0          \n",
       "19                                                 74          \n",
       "20                                        58.33333333          \n",
       "21                                        4.761904762          \n",
       "22                                                  0          \n",
       "23                                        33.33333333          \n",
       "24                                                  0          \n",
       "25                                        39.68253968          \n",
       "26                                        72.22222222          \n",
       "27                                        3.174603175          \n",
       "28                                        16.66666667          \n",
       "29                                        15.55555556          \n",
       "30                                        26.66666667          \n",
       "31                                        68.33333333          \n",
       "32                                        73.33333333          \n",
       "33                                        23.70990237          \n",
       "34                                        39.15343915          \n",
       "35                                        33.17125878          \n",
       "36                                                  .          \n",
       "37                                                  .          \n",
       "\n",
       "   Proportion of seats won by Labour in 2014 election  \\\n",
       "0                                                 NaN   \n",
       "1                                                 100   \n",
       "2                                         42.85714286   \n",
       "3                                         23.80952381   \n",
       "4                                         88.88888889   \n",
       "5                                         11.66666667   \n",
       "6                                         74.07407407   \n",
       "7                                         57.14285714   \n",
       "8                                          76.8115942   \n",
       "9                                         65.07936508   \n",
       "10                                        84.31372549   \n",
       "11                                        87.71929825   \n",
       "12                                        56.52173913   \n",
       "13                                        84.21052632   \n",
       "14                                        53.96825397   \n",
       "15                                        1.851851852   \n",
       "16                                        35.38461538   \n",
       "17                                        81.66666667   \n",
       "18                                        97.91666667   \n",
       "19                                                 24   \n",
       "20                                        4.166666667   \n",
       "21                                        93.65079365   \n",
       "22                                        98.14814815   \n",
       "23                                                 60   \n",
       "24                                                100   \n",
       "25                                        55.55555556   \n",
       "26                                                  0   \n",
       "27                                        76.19047619   \n",
       "28                                                  0   \n",
       "29                                        44.44444444   \n",
       "30                                        73.33333333   \n",
       "31                                        31.66666667   \n",
       "32                                        26.66666667   \n",
       "33                                        69.45606695   \n",
       "34                                        49.11816578   \n",
       "35                                        56.99621826   \n",
       "36                                                  .   \n",
       "37                                                  .   \n",
       "\n",
       "    Proportion of seats won by Lib Dems in 2014 election  \\\n",
       "0                                                 NaN      \n",
       "1                                                   0      \n",
       "2                                         1.587301587      \n",
       "3                                                   0      \n",
       "4                                         1.587301587      \n",
       "5                                                   0      \n",
       "6                                         1.851851852      \n",
       "7                                                   0      \n",
       "8                                         5.797101449      \n",
       "9                                                   0      \n",
       "10                                                  0      \n",
       "11                                        5.263157895      \n",
       "12                                                  0      \n",
       "13                                        15.78947368      \n",
       "14                                        1.587301587      \n",
       "15                                                  0      \n",
       "16                                                  0      \n",
       "17                                                  0      \n",
       "18                                                  0      \n",
       "19                                                  2      \n",
       "20                                               37.5      \n",
       "21                                                  0      \n",
       "22                                                  0      \n",
       "23                                        1.666666667      \n",
       "24                                                  0      \n",
       "25                                        4.761904762      \n",
       "26                                        27.77777778      \n",
       "27                                        20.63492063      \n",
       "28                                        83.33333333      \n",
       "29                                                  0      \n",
       "30                                                  0      \n",
       "31                                                  0      \n",
       "32                                                  0      \n",
       "33                                        3.765690377      \n",
       "34                                        7.848324515      \n",
       "35                                        6.266882766      \n",
       "36                                                  .      \n",
       "37                                                  .      \n",
       "\n",
       "   Turnout at 2014 local elections  \n",
       "0                              NaN  \n",
       "1                            38.16  \n",
       "2                             41.1  \n",
       "3                        not avail  \n",
       "4                               33  \n",
       "5                        not avail  \n",
       "6                            38.69  \n",
       "7                               38  \n",
       "8                             41.3  \n",
       "9                            37.79  \n",
       "10                           37.25  \n",
       "11                           42.89  \n",
       "12                              38  \n",
       "13                            38.1  \n",
       "14                              41  \n",
       "15                              43  \n",
       "16                           35.76  \n",
       "17                            36.8  \n",
       "18                            38.4  \n",
       "19                       not avail  \n",
       "20                       not avail  \n",
       "21                              32  \n",
       "22                            37.2  \n",
       "23                              41  \n",
       "24                           40.62  \n",
       "25                            39.7  \n",
       "26                            46.3  \n",
       "27                       not avail  \n",
       "28                            42.2  \n",
       "29                       not avail  \n",
       "30                       not avail  \n",
       "31                       not avail  \n",
       "32                       not avail  \n",
       "33                       not avail  \n",
       "34                       not avail  \n",
       "35                       not avail  \n",
       "36                               .  \n",
       "37                               .  \n",
       "\n",
       "[38 rows x 76 columns]"
      ]
     },
     "execution_count": 125,
     "metadata": {},
     "output_type": "execute_result"
    }
   ],
   "source": [
    "df2.fillna(df2.mean())"
   ]
  },
  {
   "cell_type": "code",
   "execution_count": 128,
   "metadata": {},
   "outputs": [],
   "source": [
    "Y = df2[\"Area/INDICATOR\"]"
   ]
  },
  {
   "cell_type": "code",
   "execution_count": 94,
   "metadata": {},
   "outputs": [],
   "source": [
    "from sklearn.metrics import euclidean_distances"
   ]
  },
  {
   "cell_type": "code",
   "execution_count": 95,
   "metadata": {},
   "outputs": [
    {
     "data": {
      "text/plain": [
       "(1797, 64)"
      ]
     },
     "execution_count": 95,
     "metadata": {},
     "output_type": "execute_result"
    }
   ],
   "source": [
    "from sklearn.datasets import load_digits\n",
    "from sklearn.manifold import MDS\n",
    "X, _ = load_digits(return_X_y=True)\n",
    "X.shape\n"
   ]
  },
  {
   "cell_type": "code",
   "execution_count": 96,
   "metadata": {},
   "outputs": [
    {
     "data": {
      "text/plain": [
       "(100, 2)"
      ]
     },
     "execution_count": 96,
     "metadata": {},
     "output_type": "execute_result"
    }
   ],
   "source": [
    "\n",
    "embedding = MDS(n_components=2)\n",
    "X_transformed = embedding.fit_transform(X[:100])\n",
    "X_transformed.shape"
   ]
  },
  {
   "cell_type": "code",
   "execution_count": 132,
   "metadata": {},
   "outputs": [
    {
     "ename": "TypeError",
     "evalue": "'Series' object is not callable",
     "output_type": "error",
     "traceback": [
      "\u001b[1;31m---------------------------------------------------------------------------\u001b[0m",
      "\u001b[1;31mTypeError\u001b[0m                                 Traceback (most recent call last)",
      "\u001b[1;32m<ipython-input-132-22ca3cc79cc8>\u001b[0m in \u001b[0;36m<module>\u001b[1;34m\u001b[0m\n\u001b[0;32m      3\u001b[0m \u001b[1;33m\u001b[0m\u001b[0m\n\u001b[0;32m      4\u001b[0m \u001b[1;33m\u001b[0m\u001b[0m\n\u001b[1;32m----> 5\u001b[1;33m Y(\"\", xy=(0.5, 0.5), xytext=(0, 0),\n\u001b[0m\u001b[0;32m      6\u001b[0m     arrowprops=dict(arrowstyle=\"->\"))\n",
      "\u001b[1;31mTypeError\u001b[0m: 'Series' object is not callable"
     ]
    }
   ],
   "source": [
    "import numpy as np\n",
    "import matplotlib.pyplot as plt\n",
    "\n",
    "\n",
    "Y.annotate(\"\", xy=(0.5, 0.5), xytext=(0, 0),\n",
    "    arrowprops=dict(arrowstyle=\"->\"))"
   ]
  },
  {
   "cell_type": "code",
   "execution_count": null,
   "metadata": {},
   "outputs": [],
   "source": []
  },
  {
   "cell_type": "code",
   "execution_count": null,
   "metadata": {},
   "outputs": [],
   "source": []
  }
 ],
 "metadata": {
  "kernelspec": {
   "display_name": "Python 3",
   "language": "python",
   "name": "python3"
  },
  "language_info": {
   "codemirror_mode": {
    "name": "ipython",
    "version": 3
   },
   "file_extension": ".py",
   "mimetype": "text/x-python",
   "name": "python",
   "nbconvert_exporter": "python",
   "pygments_lexer": "ipython3",
   "version": "3.8.5"
  }
 },
 "nbformat": 4,
 "nbformat_minor": 4
}
